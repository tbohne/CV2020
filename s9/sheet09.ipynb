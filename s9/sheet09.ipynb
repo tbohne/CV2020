{
 "cells": [
  {
   "cell_type": "markdown",
   "metadata": {
    "deletable": false,
    "editable": false,
    "nbgrader": {
     "cell_type": "markdown",
     "checksum": "a054725bd940362dad80cc232c6c81a1",
     "grade": false,
     "grade_id": "cell-0d1b4545a5ac35b4",
     "locked": true,
     "schema_version": 3,
     "solution": false
    }
   },
   "source": [
    "Osnabrück University - Computer Vision (Winter Term 2020/21) - Prof. Dr.-Ing. G. Heidemann, Ulf Krumnack, Axel Schaffland, Ludwig Schallner, Artem Petrov"
   ]
  },
  {
   "cell_type": "markdown",
   "metadata": {
    "deletable": false,
    "editable": false,
    "nbgrader": {
     "cell_type": "markdown",
     "checksum": "38128767530b4ed4ee410891bcf4a703",
     "grade": false,
     "grade_id": "cell-f3a089ba6ba000ad",
     "locked": true,
     "schema_version": 3,
     "solution": false
    }
   },
   "source": [
    "# Exercise Sheet 09: Filter, Sampling, and Template Matching"
   ]
  },
  {
   "cell_type": "markdown",
   "metadata": {
    "deletable": false,
    "editable": false,
    "nbgrader": {
     "cell_type": "markdown",
     "checksum": "03980e07decb303754dffb50343056de",
     "grade": false,
     "grade_id": "cell-bba575acc955c12f",
     "locked": true,
     "schema_version": 3,
     "solution": false
    }
   },
   "source": [
    "## Introduction\n",
    "\n",
    "This week's sheet should be solved and handed in before the end of **Saturday, January 16, 2019**. If you need help (and Google and other resources were not enough), feel free to contact your groups' designated tutor or whomever of us you run into first. Please upload your results to your group's Stud.IP folder."
   ]
  },
  {
   "cell_type": "markdown",
   "metadata": {
    "deletable": false,
    "editable": false,
    "nbgrader": {
     "cell_type": "markdown",
     "checksum": "05e2572a1616b79bda574dafda149a1e",
     "grade": false,
     "grade_id": "cell-1294b5df62dc9899",
     "locked": true,
     "schema_version": 3,
     "solution": false
    }
   },
   "source": [
    "## Exercise 0: Math recap (Covariance) [0 Points]\n",
    "\n",
    "This exercise is supposed to be very easy, does not give any points, and is voluntary. There will be a similar exercise on every sheet. It is intended to revise some basic mathematical notions that are assumed throughout this class and to allow you to check if you are comfortable with them. Usually you should have no problem to answer these questions offhand, but if you feel unsure, this is a good time to look them up again. You are always welcome to discuss questions with the tutors or in the practice session. Also, if you have a (math) topic you would like to recap, please let us know."
   ]
  },
  {
   "cell_type": "markdown",
   "metadata": {
    "deletable": false,
    "editable": false,
    "nbgrader": {
     "cell_type": "markdown",
     "checksum": "8e9a1de44903f9cedb716e93bb7fb7e2",
     "grade": false,
     "grade_id": "cell-dd4fc8740fa24cd4",
     "locked": true,
     "schema_version": 3,
     "solution": false
    }
   },
   "source": [
    "**a)** What does *covariance* express?"
   ]
  },
  {
   "cell_type": "markdown",
   "metadata": {
    "deletable": false,
    "nbgrader": {
     "cell_type": "markdown",
     "checksum": "2fe29e77b9ee47fe2e2cb291452374a4",
     "grade": true,
     "grade_id": "cell-d0a08e6b9df1fa49",
     "locked": false,
     "points": 0,
     "schema_version": 3,
     "solution": true
    },
    "solution": true
   },
   "source": [
    "YOUR ANSWER HERE"
   ]
  },
  {
   "cell_type": "markdown",
   "metadata": {
    "deletable": false,
    "editable": false,
    "nbgrader": {
     "cell_type": "markdown",
     "checksum": "652b0e3ffeb010beae62f7d0b6bffce5",
     "grade": false,
     "grade_id": "cell-3f45913faacb5114",
     "locked": true,
     "schema_version": 3,
     "solution": false
    }
   },
   "source": [
    "**b)** Provide a formula to compute the covariance of two 1-dimensional datasets. How can it be generalized to the $n$-dimensional case?"
   ]
  },
  {
   "cell_type": "markdown",
   "metadata": {
    "deletable": false,
    "nbgrader": {
     "cell_type": "markdown",
     "checksum": "56f4777cbc6351cc2f120d7cfe5c1fe5",
     "grade": true,
     "grade_id": "cell-786eb09d2039e702",
     "locked": false,
     "points": 0,
     "schema_version": 3,
     "solution": true
    },
    "solution": true
   },
   "source": [
    "YOUR ANSWER HERE"
   ]
  },
  {
   "cell_type": "markdown",
   "metadata": {
    "deletable": false,
    "editable": false,
    "nbgrader": {
     "cell_type": "markdown",
     "checksum": "c6f09fa26d3a68ae37e242ec00cb1aed",
     "grade": false,
     "grade_id": "cell-acdf51da975ebbb6",
     "locked": true,
     "schema_version": 3,
     "solution": false
    }
   },
   "source": [
    "**c)** Create and plot two (1-dimensional) datasets with low covariance (use `plt.scatter`). Then do the same for two datasets with high covariance."
   ]
  },
  {
   "cell_type": "code",
   "execution_count": null,
   "metadata": {
    "deletable": false,
    "nbgrader": {
     "cell_type": "code",
     "checksum": "8089d28e00fd8fd5e0c38f98d4202044",
     "grade": true,
     "grade_id": "cell-93b8616a81136037",
     "locked": false,
     "points": 0,
     "schema_version": 3,
     "solution": true
    },
    "solution": true
   },
   "outputs": [],
   "source": [
    "%matplotlib inline\n",
    "import numpy as np\n",
    "import matplotlib.pyplot as plt\n",
    "\n",
    "# YOUR CODE HERE"
   ]
  },
  {
   "cell_type": "markdown",
   "metadata": {
    "deletable": false,
    "editable": false,
    "nbgrader": {
     "cell_type": "markdown",
     "checksum": "0aca08d5b1e3bcf55df5701c16537df1",
     "grade": false,
     "grade_id": "cell-filter-design",
     "locked": true,
     "schema_version": 3,
     "solution": false,
     "task": false
    }
   },
   "source": [
    "## Exercise 1: Filter design [6 points]"
   ]
  },
  {
   "cell_type": "markdown",
   "metadata": {
    "deletable": false,
    "editable": false,
    "nbgrader": {
     "cell_type": "markdown",
     "checksum": "7332a8d30c93002c9fe56c6198dab63e",
     "grade": false,
     "grade_id": "cell-filter-box",
     "locked": true,
     "schema_version": 3,
     "solution": false,
     "task": false
    }
   },
   "source": [
    "**a)** Create and plot the kernels of box filter and binomial filter in frequency space. Vary the kernel size. What do you observe?"
   ]
  },
  {
   "cell_type": "code",
   "execution_count": null,
   "metadata": {
    "deletable": false,
    "nbgrader": {
     "cell_type": "code",
     "checksum": "dfb6e6328e471077ec6235a65306f1e2",
     "grade": true,
     "grade_id": "cell-filter-box-implementation",
     "locked": false,
     "points": 1,
     "schema_version": 3,
     "solution": true,
     "task": false
    }
   },
   "outputs": [],
   "source": [
    "%matplotlib inline\n",
    "import numpy as np\n",
    "import matplotlib.pyplot as plt\n",
    "from scipy.special import binom\n",
    "\n",
    "kernel_size = 13 # vary this\n",
    "image_size = 100\n",
    "\n",
    "# compute the kernel\n",
    "box_kernel = np.ones((image_size, image_size))\n",
    "binomial_kernel = np.zeros((image_size, image_size))\n",
    "\n",
    "for col in range(kernel_size):\n",
    "    print(binom(kernel_size, col))\n",
    "\n",
    "box_frequencies = np.fft.fftshift(np.fft.fft2(box_kernel))\n",
    "binomial_frequencies = np.fft.fftshift(np.fft.fft2(binomial_kernel))\n",
    "\n",
    "# plot kernel in frequency space\n",
    "plt.figure(figsize=(12, 6))\n",
    "plt.gray()\n",
    "plt.subplot(1, 2, 1)\n",
    "plt.title(f\"Box filter (size={kernel_size})\")\n",
    "plt.imshow(np.abs(box_frequencies))\n",
    "plt.plot(np.arange(image_size), np.abs(box_frequencies)[image_size // 2] * image_size)\n",
    "plt.ylim(0, image_size - 1)\n",
    "plt.subplot(1, 2, 2)\n",
    "plt.title(f\"Binomial filter (size={kernel_size})\")\n",
    "plt.imshow(np.abs(binomial_frequencies))\n",
    "plt.plot(np.arange(image_size), np.abs(binomial_frequencies)[image_size // 2] * image_size)\n",
    "plt.ylim(0, image_size - 1)\n",
    "plt.show()"
   ]
  },
  {
   "cell_type": "markdown",
   "metadata": {
    "deletable": false,
    "nbgrader": {
     "cell_type": "markdown",
     "checksum": "8669d5c0e743aa8d0e116a40fa5b7bec",
     "grade": true,
     "grade_id": "cell-filter-box-answer",
     "locked": false,
     "points": 1,
     "schema_version": 3,
     "solution": true,
     "task": false
    }
   },
   "source": [
    "YOUR ANSWER HERE"
   ]
  },
  {
   "cell_type": "markdown",
   "metadata": {
    "deletable": false,
    "editable": false,
    "nbgrader": {
     "cell_type": "markdown",
     "checksum": "a6b5a1c1d35b0abcc3fb3bb39b669ff7",
     "grade": false,
     "grade_id": "cell-filter-low-pass",
     "locked": true,
     "schema_version": 3,
     "solution": false,
     "task": false
    }
   },
   "source": [
    "**b)** Implement a low pass filter and apply it to the given image with different cutoff frequencies $F_\\max$. What do you observe? Explain that observation and discuss how to improve the result."
   ]
  },
  {
   "cell_type": "code",
   "execution_count": null,
   "metadata": {
    "deletable": false,
    "nbgrader": {
     "cell_type": "code",
     "checksum": "ebbb21d91920f35f411a9025ccc1bf05",
     "grade": true,
     "grade_id": "cell-filter-low-implementation",
     "locked": false,
     "points": 1,
     "schema_version": 3,
     "solution": true,
     "task": false
    },
    "tags": []
   },
   "outputs": [],
   "source": [
    "import numpy as np\n",
    "import matplotlib.pyplot as plt\n",
    "import imageio\n",
    "\n",
    "f_max = 33323000\n",
    "image = imageio.imread('imageio:camera.png')\n",
    "\n",
    "def low_pass_filter(image, f_max):\n",
    "    result = image\n",
    "    # YOUR CODE HERE\n",
    "\n",
    "    # computes the n-dimensional discrete Fourier transform\n",
    "    ft = np.fft.fft2(image)\n",
    "\n",
    "    for x in range(ft.shape[0]):\n",
    "        for y in range(ft.shape[1]):\n",
    "            # passes signals with a frequency lower than a selected cutoff frequency\n",
    "            # (remove the higher frequencies in a signal of data)\n",
    "            if ft[x][y].real >= f_max:\n",
    "                ft[x][y] = ft.min().real\n",
    "\n",
    "    # apply FT to the resulting FT img\n",
    "    restored = np.flip(np.flip(np.abs(np.fft.fft2(ft)), 0), 1)\n",
    "\n",
    "    return restored\n",
    "\n",
    "filtered_image = low_pass_filter(image, f_max=f_max)\n",
    "\n",
    "# plot kernel in frequency space\n",
    "plt.figure(figsize=(18,5))\n",
    "plt.gray()\n",
    "plt.subplot(1,3,1); plt.title(f\"Original image\")\n",
    "plt.imshow(image) \n",
    "plt.subplot(1,3,2); plt.title(f\"Lowpass-filterered image ($F_\\max$={f_max})\")\n",
    "plt.imshow(filtered_image)\n",
    "plt.subplot(1,3,3); plt.title(f\"Difference\")\n",
    "plt.imshow(filtered_image-image)\n",
    "plt.show()"
   ]
  },
  {
   "cell_type": "markdown",
   "metadata": {
    "deletable": false,
    "nbgrader": {
     "cell_type": "markdown",
     "checksum": "9908e8ace38a64f8395e9010ee0550ff",
     "grade": true,
     "grade_id": "cell-filter-box-pass-answer",
     "locked": false,
     "points": 1,
     "schema_version": 3,
     "solution": true,
     "task": false
    }
   },
   "source": [
    "YOUR ANSWER HERE"
   ]
  },
  {
   "cell_type": "markdown",
   "metadata": {
    "deletable": false,
    "editable": false,
    "nbgrader": {
     "cell_type": "markdown",
     "checksum": "44ec334f8d4ad75d9990bebdab82d853",
     "grade": false,
     "grade_id": "cell-filter-box4",
     "locked": true,
     "schema_version": 3,
     "solution": false,
     "task": false
    }
   },
   "source": [
    "**c)** What is a good kernel size for a Gaussian filter? Justify your answer."
   ]
  },
  {
   "cell_type": "markdown",
   "metadata": {
    "deletable": false,
    "nbgrader": {
     "cell_type": "markdown",
     "checksum": "31d901bf3c3b57fc8e22ee6e3f9cb649",
     "grade": true,
     "grade_id": "cell-filter-box4-answer",
     "locked": false,
     "points": 1,
     "schema_version": 3,
     "solution": true,
     "task": false
    }
   },
   "source": [
    "YOUR ANSWER HERE"
   ]
  },
  {
   "cell_type": "markdown",
   "metadata": {
    "deletable": false,
    "editable": false,
    "nbgrader": {
     "cell_type": "markdown",
     "checksum": "0c782d5741e70329f0d9d9885bcdd625",
     "grade": false,
     "grade_id": "cell-filter-impulse",
     "locked": true,
     "schema_version": 3,
     "solution": false,
     "task": false
    }
   },
   "source": [
    "**d)** Describe impulse (\"salt and pepper\") noise and explain what kind of filter should be used to remove such noise."
   ]
  },
  {
   "cell_type": "markdown",
   "metadata": {
    "deletable": false,
    "nbgrader": {
     "cell_type": "markdown",
     "checksum": "0d5e76e594879e5531dfd600e4a6d6c6",
     "grade": true,
     "grade_id": "cell-filter-implulse-answer",
     "locked": false,
     "points": 1,
     "schema_version": 3,
     "solution": true,
     "task": false
    }
   },
   "source": [
    "YOUR ANSWER HERE"
   ]
  },
  {
   "cell_type": "markdown",
   "metadata": {
    "deletable": false,
    "editable": false,
    "nbgrader": {
     "cell_type": "markdown",
     "checksum": "fb0dc37f1b1c17e9154239f12063f47d",
     "grade": false,
     "grade_id": "cell-sampling-theorem",
     "locked": true,
     "schema_version": 3,
     "solution": false,
     "task": false
    }
   },
   "source": [
    "## Exercise 2: Sampling theorem [4 points]"
   ]
  },
  {
   "cell_type": "markdown",
   "metadata": {
    "deletable": false,
    "editable": false,
    "nbgrader": {
     "cell_type": "markdown",
     "checksum": "2ede641a01e67cb7f06d8d0d78ed0126",
     "grade": false,
     "grade_id": "cell-sampling-theorem-statement",
     "locked": true,
     "schema_version": 3,
     "solution": false,
     "task": false
    }
   },
   "source": [
    "**a)** Express the statement of the sampling theorem in your own words. Explain its relevance."
   ]
  },
  {
   "cell_type": "markdown",
   "metadata": {
    "deletable": false,
    "nbgrader": {
     "cell_type": "markdown",
     "checksum": "4da4c8077e14c908602aa1bb307f2aef",
     "grade": true,
     "grade_id": "cell-sampling-theorem-statement-answer",
     "locked": false,
     "points": 1,
     "schema_version": 3,
     "solution": true,
     "task": false
    }
   },
   "source": [
    "The **sampling theorem** conditions a sample rate such that a discrete sequence of samples captures all the information from a continuous signal.  \n",
    "So, it's enabling us to sample a signal in such a way to not lose information. \n",
    "\n",
    "The sampling theorem states that if we want to sample a signal we need samples with a frequency larger than twice the maximum frequency \n",
    "contained in the signal to not lose any information. If a system uniformly samples an analog signal at a rate that exceeds the signal’s highest \n",
    "frequency by at least a factor of two, the original analog signal can be perfectly recovered from the discrete values produced by sampling.\n",
    "In contrast, if we sample an analog signal at a frequency that is lower than the suggested rate, we will not be able to perfectly reconstruct the original signal.\n",
    "\n",
    "In modern technology, we constantly have to deal with analog signals (e.g. sound picked up by microphone or light entering a digital camera),  \n",
    "but in order to perform computations with them, we need digital values. Therefore, the sampling theorem is of great relevance if we don't want to lose information.\n",
    "\n",
    "$\\rightarrow$ A signal with a highest frequency of $f_{max}$ can be exactly reconstructed if the sampling frequency is $> 2 f_{max}$"
   ]
  },
  {
   "cell_type": "markdown",
   "metadata": {
    "deletable": false,
    "editable": false,
    "nbgrader": {
     "cell_type": "markdown",
     "checksum": "08902cdacafcf61706ba01ca068e8163",
     "grade": false,
     "grade_id": "cell-sampling-theorem-scan",
     "locked": true,
     "schema_version": 3,
     "solution": false,
     "task": false
    }
   },
   "source": [
    "**b)** Assume you are given a document printed on a 600 dpi (dots per inch) printer. If you want to scan this document, what resolution should you choose to avoid aliasing effects?"
   ]
  },
  {
   "cell_type": "markdown",
   "metadata": {
    "deletable": false,
    "nbgrader": {
     "cell_type": "markdown",
     "checksum": "14c706b2c7695e0213117b676d5cef42",
     "grade": true,
     "grade_id": "cell-sampling-theorem-scan-answer",
     "locked": false,
     "points": 1,
     "schema_version": 3,
     "solution": true,
     "task": false
    }
   },
   "source": [
    "$f_{max} = 600$  \n",
    "Based on the sampling theorem, the resolution (sampling rate) should be $> 2 \\cdot 600 = 1200$ dpi."
   ]
  },
  {
   "cell_type": "markdown",
   "metadata": {
    "deletable": false,
    "editable": false,
    "nbgrader": {
     "cell_type": "markdown",
     "checksum": "99a4a74e1b4c8a1c1dafaa74a0d26c49",
     "grade": false,
     "grade_id": "cell-sampling-theorem-moire",
     "locked": true,
     "schema_version": 3,
     "solution": false,
     "task": false
    }
   },
   "source": [
    "**c)** What is aliasing? Explain the Moiré effect shown in the following cell."
   ]
  },
  {
   "cell_type": "code",
   "execution_count": null,
   "metadata": {},
   "outputs": [],
   "source": [
    "%matplotlib inline\n",
    "import numpy as np\n",
    "import matplotlib.pyplot as plt\n",
    "from ipywidgets import interactive, fixed\n",
    "from IPython.display import display\n",
    "\n",
    "def moire(exp):\n",
    "    return np.sin(d ** exp)\n",
    "\n",
    "nx, ny = (600, 300)\n",
    "x = np.linspace(0, nx * np.pi / ny, nx)\n",
    "y = np.linspace(0, np.pi, ny)\n",
    "xv, yv = np.meshgrid(x, y)\n",
    "d = np.sqrt(xv ** 2 + yv ** 2)\n",
    "\n",
    "plt.figure(figsize=(30, 6))\n",
    "\n",
    "plt.subplot(2, 4, 1); plt.imshow(moire(1))\n",
    "plt.subplot(2, 4, 2); plt.imshow(moire(2))\n",
    "plt.subplot(2, 4, 3); plt.imshow(moire(3))\n",
    "plt.subplot(2, 4, 4); plt.imshow(moire(4))\n",
    "plt.subplot(2, 4, 5); plt.imshow(moire(5))\n",
    "plt.subplot(2, 4, 6); plt.imshow(moire(6))\n",
    "plt.subplot(2, 4, 7); plt.imshow(moire(7))\n",
    "plt.subplot(2, 4, 8); plt.imshow(moire(8))"
   ]
  },
  {
   "cell_type": "markdown",
   "metadata": {
    "deletable": false,
    "nbgrader": {
     "cell_type": "markdown",
     "checksum": "10cc76895cc8fa00cf0fb63bd24d9298",
     "grade": true,
     "grade_id": "cell-sampling-theorem-moire-answer",
     "locked": false,
     "points": 1,
     "schema_version": 3,
     "solution": true,
     "task": false
    }
   },
   "source": [
    "**Alias effects** are errors caused by sampling frequencies that are higher than half of the sampling rate and thus conflicting the sampling theorem.\n",
    "\n",
    "The **moiré effect** is an optical effect and example for aliasing. It is a visual perception that occurs when viewing a set of lines or dots  \n",
    "that is superimposed on another set of lines or dots, where the sets differ in relative size, angle, or spacing."
   ]
  },
  {
   "cell_type": "markdown",
   "metadata": {
    "deletable": false,
    "editable": false,
    "nbgrader": {
     "cell_type": "markdown",
     "checksum": "f73b7def017af3c1b28148d3a28d191e",
     "grade": false,
     "grade_id": "cell-sampling-theorem-pyramid",
     "locked": true,
     "schema_version": 3,
     "solution": false,
     "task": false
    }
   },
   "source": [
    "**d)** Gaussian pyramid: motivate the construction process of a Gaussian pyramid with the sampling theorem."
   ]
  },
  {
   "cell_type": "markdown",
   "metadata": {
    "deletable": false,
    "nbgrader": {
     "cell_type": "markdown",
     "checksum": "aac2fe39cf034c3e5c97fb35c58f51db",
     "grade": true,
     "grade_id": "cell-sampling-theorem-pyramid-answer",
     "locked": false,
     "points": 1,
     "schema_version": 3,
     "solution": true,
     "task": false
    }
   },
   "source": [
    "YOUR ANSWER HERE"
   ]
  },
  {
   "cell_type": "markdown",
   "metadata": {
    "deletable": false,
    "editable": false,
    "nbgrader": {
     "cell_type": "markdown",
     "checksum": "807cbe53d02df21caaea9bfe7ae083ac",
     "grade": false,
     "grade_id": "cell-f88fdfc9c00a86c6",
     "locked": true,
     "schema_version": 3,
     "solution": false
    }
   },
   "source": [
    "## Exercise 3: Template Matching [4 points]"
   ]
  },
  {
   "cell_type": "markdown",
   "metadata": {
    "deletable": false,
    "editable": false,
    "nbgrader": {
     "cell_type": "markdown",
     "checksum": "de6dc7d561f138a1f2f3da6b24059654",
     "grade": false,
     "grade_id": "cell-d3953fee315bfd3a",
     "locked": true,
     "schema_version": 3,
     "solution": false
    }
   },
   "source": [
    "**a)** Explain in your own words the idea of *template matching*. Is it a data or model based approach? What are the advantages and disadvantages? In what situations would you apply template matching?"
   ]
  },
  {
   "cell_type": "markdown",
   "metadata": {
    "deletable": false,
    "nbgrader": {
     "cell_type": "markdown",
     "checksum": "77a053a11eb7f1686fae9e3dbdc03d80",
     "grade": true,
     "grade_id": "cell-a3ebc3df967c0771",
     "locked": false,
     "points": 2,
     "schema_version": 3,
     "solution": true
    },
    "solution": true
   },
   "source": [
    "The idea is to take a prototypical small image of what you are looking for (template) in the image and move that template  \n",
    "across the image just as in convolution to compare it to the underlying image patch with the goal of finding the part of the image that matches the template.  \n",
    "\n",
    "It's a **model-based** approach - the template is a model of what we are looking for in the image.\n",
    "\n",
    "**Advantages**:\n",
    "- robust against noise\n",
    "- efficient implementation as convolution\n",
    "\n",
    "**Disadvantages**:\n",
    "- little robustness against variation of viewpoint / illumination\n",
    "- gray value scaling can cause problems\n",
    "\n",
    "It's probably good to use it in situations where not much variation of viewpoint and illumination is to be  \n",
    "expected such as a part of quality control in manufacturing."
   ]
  },
  {
   "cell_type": "markdown",
   "metadata": {
    "deletable": false,
    "editable": false,
    "nbgrader": {
     "cell_type": "markdown",
     "checksum": "ae4e4b88732de99a7fc3768f8a220fb9",
     "grade": false,
     "grade_id": "cell-6845468087dd4b95",
     "locked": true,
     "schema_version": 3,
     "solution": false
    }
   },
   "source": [
    "**b)** Explain the ideas of *mean absolute difference* and *correlation coefficient*? Name pros and cons."
   ]
  },
  {
   "cell_type": "markdown",
   "metadata": {
    "deletable": false,
    "nbgrader": {
     "cell_type": "markdown",
     "checksum": "82fd818cf5236399254aa14575541d12",
     "grade": true,
     "grade_id": "cell-4477d05a94efa0cd",
     "locked": false,
     "points": 2,
     "schema_version": 3,
     "solution": true
    },
    "solution": true
   },
   "source": [
    "**MAD**\n",
    "- measure for similarity between template $T(i, j)$ and image $g(x, y)$\n",
    "- idea: mean difference of gray values: $MAD(x, y) = \\frac{1}{mn} \\cdot \\sum_{ij} | g(x+i, y+j) - T(i, j)|$\n",
    "- **advantages:** robust to noise, easy to compute, rotation invariant\n",
    "- **disadvantages:** gray value scaling can cause problems, sensitive to rotation\n",
    "\n",
    "**Correlation Coefficient**\n",
    "- computes a correlation coefficient to measure similarity between the image and the template\n",
    "- $C_{g, T} = \\frac{\\sigma_{g, T}}{\\sigma_g \\cdot \\sigma_T}$ where $\\sigma_{g, T}(x, y)$ is the covariance between $g$ and $T(i, j)$\n",
    "  and $\\sigma_g, \\sigma_T$ are the standard deviations of $g$ and $T$\n",
    "- the possible values range from $−1$ to $1$, where $-1$ or $+1$ indicate the strongest possible pos / neg correlation and $0$ means that they don't correlate\n",
    "- **advantages:** robust to gray value scaling and noise, rotation invariant\n",
    "- **disadvantages:** not as efficient to compute as MAD\n"
   ]
  },
  {
   "cell_type": "markdown",
   "metadata": {
    "deletable": false,
    "editable": false,
    "nbgrader": {
     "cell_type": "markdown",
     "checksum": "93eca15128ae4e85c7262eb9db34289f",
     "grade": false,
     "grade_id": "cell-da347f71dfbe19b7",
     "locked": true,
     "schema_version": 3,
     "solution": false
    }
   },
   "source": [
    "## Exercise 4: Where is Waldo [6 points]"
   ]
  },
  {
   "cell_type": "markdown",
   "metadata": {
    "deletable": false,
    "editable": false,
    "nbgrader": {
     "cell_type": "markdown",
     "checksum": "be88320c81ce10cfdead2f7ee0d12a41",
     "grade": false,
     "grade_id": "cell-70a15bc2b73522ac",
     "locked": true,
     "schema_version": 3,
     "solution": false
    }
   },
   "source": [
    "In the two images `wheresWaldo1.jpg` and `wheresWaldo2.jpg`, Waldo is hiding in the midst of a busy crowd. He always wears the same red and white striped sweater and hat. However, he may be carrying a something that varies from scene to scene. Use template matching with the given Waldo templates (`waldo*.jpg`) to locate Waldo. Highlight\n",
    "Waldo in the scene and indicate which template was matched.\n",
    "\n",
    "**Hints:**\n",
    "* You may use built-in functions to solve this exercise.\n",
    "* The images are quite large! You may start by testing your code on a small image patch before applying it to the full scene.\n",
    "* You may not achieve a perfect match. Analyse the problems you encounter and think how you can improve your result.\n",
    "\n",
    "If you intend to use the [OpenCV library](https://opencv.org/) in this task, use the following command to install an appropriate version (we will also need this at some later exercise sheet):\n",
    "```sh\n",
    "conda install --channel conda-forge opencv\n",
    "```"
   ]
  },
  {
   "cell_type": "code",
   "execution_count": null,
   "metadata": {
    "deletable": false,
    "nbgrader": {
     "cell_type": "code",
     "checksum": "4b2ec65922f012d3c85dbcf62934c4d8",
     "grade": true,
     "grade_id": "cell-40a72fe4a5f8b3ac",
     "locked": false,
     "points": 0,
     "schema_version": 3,
     "solution": true
    }
   },
   "outputs": [],
   "source": [
    "%matplotlib inline\n",
    "import numpy as np\n",
    "import matplotlib.pyplot as plt\n",
    "import cv2 \n",
    "\n",
    "waldos = [plt.imread('images/waldo/wheresWaldo{}.jpg'.format(i)) for i in range(1, 3)]\n",
    "templates = [plt.imread('images/waldo/waldo{}.jpg'.format(i)) for i in range(0, 6)]\n",
    "    \n",
    "# YOUR CODE HERE\n",
    "thresh = 0.5\n",
    "for i, img in enumerate(waldos):\n",
    "    plt.figure(figsize=(40, 18))\n",
    "    # show each image together with all templates\n",
    "    for j, template in enumerate(templates):\n",
    "        # CCOEFF_NORMED worked best, others were too slow or just detecting too much\n",
    "        # --> returns similarity map (map of correlation coefficients)\n",
    "        matching = cv2.matchTemplate(img, template, cv2.TM_CCOEFF_NORMED)\n",
    "        matched_points = np.where(abs(matching) >= thresh)\n",
    "        w = template.shape[1]\n",
    "        h = template.shape[0]\n",
    "        tmp_point = None\n",
    "        tmp = img.copy()\n",
    "\n",
    "        for pt in zip(*matched_points[::-1]):\n",
    "            cv2.rectangle(tmp, pt, (pt[0] + w, pt[1] + h), (128, 0, 128), 2)\n",
    "            tmp_point = pt\n",
    "        plt.subplot(2, len(templates), j + 1)\n",
    "        if i == 0:\n",
    "            plt.imshow(tmp[500:1000, 1400:1600])\n",
    "        else:\n",
    "            if tmp_point != None:\n",
    "                plt.imshow(tmp[pt[1] - 100:pt[1] + 100, pt[0] - 100:pt[0] + 100])\n",
    "            else:\n",
    "                plt.imshow(tmp)\n",
    "    for j, temp in enumerate(templates):\n",
    "        plt.subplot(2, len(templates), len(templates) + j + 1)\n",
    "        plt.imshow(temp)"
   ]
  }
 ],
 "metadata": {
  "hide_input": false,
  "kernelspec": {
   "display_name": "Python 3.8.6 64-bit ('cv': conda)",
   "language": "python",
   "name": "python38664bitcvcondace24c6b5e63f40158ccc45b6baeafab5"
  },
  "language_info": {
   "codemirror_mode": {
    "name": "ipython",
    "version": 3
   },
   "file_extension": ".py",
   "mimetype": "text/x-python",
   "name": "python",
   "nbconvert_exporter": "python",
   "pygments_lexer": "ipython3",
   "version": "3.8.6-final"
  },
  "toc": {
   "base_numbering": 1,
   "nav_menu": {},
   "number_sections": true,
   "sideBar": true,
   "skip_h1_title": false,
   "title_cell": "Table of Contents",
   "title_sidebar": "Contents",
   "toc_cell": false,
   "toc_position": {},
   "toc_section_display": true,
   "toc_window_display": false
  }
 },
 "nbformat": 4,
 "nbformat_minor": 4
}