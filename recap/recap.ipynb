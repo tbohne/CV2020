{
 "cells": [
  {
   "cell_type": "markdown",
   "metadata": {
    "deletable": false,
    "editable": false,
    "nbgrader": {
     "cell_type": "markdown",
     "checksum": "1c562c88b8fa15ece85ca9e7fc43de9b",
     "grade": false,
     "grade_id": "cell-60aa580d9d920dba",
     "locked": true,
     "schema_version": 3,
     "solution": false
    }
   },
   "source": [
    "Osnabrück University - Computer Vision (Winter Term 2020/21) - Prof. Dr.-Ing. G. Heidemann, Ulf Krumnack, Axel Schaffland, Ludwig Schallner, Artem Petrov"
   ]
  },
  {
   "cell_type": "markdown",
   "metadata": {
    "deletable": false,
    "editable": false,
    "nbgrader": {
     "cell_type": "markdown",
     "checksum": "cd1e8ac94ba7799a848aba2c58e771dc",
     "grade": false,
     "grade_id": "cell-d9e6599459b0ba4d",
     "locked": true,
     "schema_version": 3,
     "solution": false
    }
   },
   "source": [
    "# Recap I"
   ]
  },
  {
   "cell_type": "markdown",
   "metadata": {
    "deletable": false,
    "editable": false,
    "nbgrader": {
     "cell_type": "markdown",
     "checksum": "d70ad337e01e2f7482d85df9960423a1",
     "grade": false,
     "grade_id": "cell-917ded279d27040b",
     "locked": true,
     "schema_version": 3,
     "solution": false
    }
   },
   "source": [
    "This sheet is a recap of the first half of the term. Neither do you have to present it to your tutors nor will it count to the number of passed sheets required for the exam. I.e. you do not have to complete this sheet but we highly recommend that you solve the assignments as part of your preparations for the exam. "
   ]
  },
  {
   "cell_type": "markdown",
   "metadata": {},
   "source": [
    "## Introduction"
   ]
  },
  {
   "cell_type": "markdown",
   "metadata": {
    "deletable": false,
    "editable": false,
    "nbgrader": {
     "cell_type": "markdown",
     "checksum": "46e1c3d4f201b50f67b6cfc07751c839",
     "grade": false,
     "grade_id": "cell-cf105a7b0946d5a3",
     "locked": true,
     "schema_version": 3,
     "solution": false
    }
   },
   "source": [
    "**a)** What are the goals of *computer vision* and *image processing*? Name some subtasks. Give one example problem and describe how to solve it with the algorithms presented in this course. "
   ]
  },
  {
   "cell_type": "markdown",
   "metadata": {
    "deletable": false,
    "nbgrader": {
     "cell_type": "markdown",
     "checksum": "5d5e2e5afe7c9b09609a35d08a09a85f",
     "grade": true,
     "grade_id": "cell-981c95da9b28e0cb",
     "locked": false,
     "points": 0,
     "schema_version": 3,
     "solution": true
    },
    "solution": true
   },
   "source": [
    "**Goal of CV**: Recognition of the image by the computer\n",
    "- detection of regions of interest\n",
    "- boundary detection\n",
    "- feature extraction\n",
    "- classification of colors, shapes, objects\n",
    "- 3D representations of real scenes\n",
    "- reconstruction of 3D surfaces\n",
    "- motion detection\n",
    "    - object / background separation\n",
    "    - direction and velocity computation\n",
    "    - object tracking\n",
    "\n",
    "**Goal of image processing**: Enhance images to facilitate analysis by a human\n",
    "- repair corrupted images\n",
    "- compensation of bad acquisition conditions (e.g. contrast enhancement)\n",
    "- improve perceptibility (e.g. contrast enhancement)\n",
    "- 'highlight' information\n",
    "\n",
    "**Example problem: Basic object recognition**\n",
    "\n",
    "A simple approach for object recognition is **template matching**:\n",
    "- construct a template (prototypical model of the object you'd like to find in the image)\n",
    "- search for template in image by computing  similarity between template and underlying image patch\n",
    "    - two similarity measures\n",
    "        - mean absolute difference (MAD)\n",
    "        - correlation coefficient (better)"
   ]
  },
  {
   "cell_type": "markdown",
   "metadata": {
    "deletable": false,
    "editable": false,
    "nbgrader": {
     "cell_type": "markdown",
     "checksum": "8e226c4bb5a23abc24cec50dc8305e07",
     "grade": false,
     "grade_id": "cell-9a9675262ebed05c",
     "locked": true,
     "schema_version": 3,
     "solution": false,
     "task": false
    }
   },
   "source": [
    "**b)** Describe the difference between *top down* and *bottom up* strategies. From another perspective they are called?"
   ]
  },
  {
   "cell_type": "markdown",
   "metadata": {
    "deletable": false,
    "nbgrader": {
     "cell_type": "markdown",
     "checksum": "cfc6574b51f2620009b4d38ecfbfc413",
     "grade": true,
     "grade_id": "cell-67ae38f906dffb4b",
     "locked": false,
     "points": 0,
     "schema_version": 3,
     "solution": true,
     "task": false
    }
   },
   "source": [
    "Those are processing strategies:\n",
    "\n",
    "**bottom up**:\n",
    "- starting from data\n",
    "- looking for increasingly complex features and connections until they match the model\n",
    "- aka **data driven**\n",
    "\n",
    "**top down**:\n",
    "- try to find model within data\n",
    "- aka **model driven**\n",
    "\n",
    "Commonly a mixture of both is used!"
   ]
  },
  {
   "cell_type": "markdown",
   "metadata": {
    "deletable": false,
    "editable": false,
    "nbgrader": {
     "cell_type": "markdown",
     "checksum": "732db4eb328e74903cc7d3fc05b082ce",
     "grade": false,
     "grade_id": "cell-e983b33b6ab2c9bc",
     "locked": true,
     "schema_version": 3,
     "solution": false,
     "task": false
    }
   },
   "source": [
    "**c)** What is the semantic gap?"
   ]
  },
  {
   "cell_type": "markdown",
   "metadata": {
    "deletable": false,
    "nbgrader": {
     "cell_type": "markdown",
     "checksum": "1a4dcb56b861c296a15dee55ab0e69e0",
     "grade": true,
     "grade_id": "cell-a838a5e5b650ec7f",
     "locked": false,
     "points": 0,
     "schema_version": 3,
     "solution": true,
     "task": false
    }
   },
   "source": [
    "The **semantic gap** refers to the hope for a correlation between low level features and high level concepts."
   ]
  },
  {
   "cell_type": "markdown",
   "metadata": {
    "deletable": false,
    "editable": false,
    "nbgrader": {
     "cell_type": "markdown",
     "checksum": "88732df1e711bb794c2875e583c5dec2",
     "grade": false,
     "grade_id": "cell-37d0783e273087db",
     "locked": true,
     "schema_version": 3,
     "solution": false
    }
   },
   "source": [
    "## Image Acquisition"
   ]
  },
  {
   "cell_type": "markdown",
   "metadata": {
    "deletable": false,
    "editable": false,
    "nbgrader": {
     "cell_type": "markdown",
     "checksum": "657498aa8ea4757ca05952f5826987c5",
     "grade": false,
     "grade_id": "cell-b7355fd2edf5f709",
     "locked": true,
     "schema_version": 3,
     "solution": false
    }
   },
   "source": [
    "**a)** Draw (on paper) the concept of a pinhole camera. Draw at least an object, rays, the pinhole, and the image plane."
   ]
  },
  {
   "cell_type": "markdown",
   "metadata": {
    "deletable": false,
    "nbgrader": {
     "cell_type": "markdown",
     "checksum": "2c8a254c2f40b91f3bc8bce3b8351c73",
     "grade": true,
     "grade_id": "cell-cd296b0a201d73ec",
     "locked": false,
     "points": 0,
     "schema_version": 3,
     "solution": true
    }
   },
   "source": [
    "<img src=\"img/pinhole.png\" width=\"600\"/>"
   ]
  },
  {
   "cell_type": "markdown",
   "metadata": {
    "deletable": false,
    "editable": false,
    "nbgrader": {
     "cell_type": "markdown",
     "checksum": "476f6bf46289e53e66d82147471036cc",
     "grade": false,
     "grade_id": "cell-1703b55fbd639694",
     "locked": true,
     "schema_version": 3,
     "solution": false,
     "task": false
    }
   },
   "source": [
    "**b)** Explain how human color vision works."
   ]
  },
  {
   "cell_type": "markdown",
   "metadata": {
    "deletable": false,
    "nbgrader": {
     "cell_type": "markdown",
     "checksum": "6a70984db54a02d314173ce58dd16c68",
     "grade": true,
     "grade_id": "cell-8de55ef4fc3478a9",
     "locked": false,
     "points": 0,
     "schema_version": 3,
     "solution": true,
     "task": false
    }
   },
   "source": [
    "- visible wavelengths: $\\approx 380 nm - 750 nm$\n",
    "- the eye contains three types of receptors with different spectral sensitivities (RGB)\n",
    "- arranged side by side in the retina\n",
    "- so we reduce the incoming spectrum to just three stimuli $\\infty \\rightarrow 3$ dimensions"
   ]
  },
  {
   "cell_type": "markdown",
   "metadata": {
    "deletable": false,
    "editable": false,
    "nbgrader": {
     "cell_type": "markdown",
     "checksum": "ff1dade0d09d369cff2a141a664fe524",
     "grade": false,
     "grade_id": "cell-fccfd92b5636da36",
     "locked": true,
     "schema_version": 3,
     "solution": false,
     "task": false
    }
   },
   "source": [
    "**c)** Is a Bayer-Filter a local operator? Explain your answer!"
   ]
  },
  {
   "cell_type": "markdown",
   "metadata": {
    "deletable": false,
    "nbgrader": {
     "cell_type": "markdown",
     "checksum": "8f17d5367fb0260dda501438827f53d2",
     "grade": true,
     "grade_id": "cell-ce1bb2a95756bb3c",
     "locked": false,
     "points": 0,
     "schema_version": 3,
     "solution": true,
     "task": false
    }
   },
   "source": [
    "I'd say it's global, because it affects the whole image.  \n",
    "TODO: Check that."
   ]
  },
  {
   "cell_type": "markdown",
   "metadata": {
    "deletable": false,
    "editable": false,
    "nbgrader": {
     "cell_type": "markdown",
     "checksum": "65577ae1b51e05e4b4cd48089c829c17",
     "grade": false,
     "grade_id": "cell-126352b10a73aa23",
     "locked": true,
     "schema_version": 3,
     "solution": false,
     "task": false
    }
   },
   "source": [
    "**d)**  What is the smallest distance between two pixels under 4-/8-neighborhood?"
   ]
  },
  {
   "cell_type": "markdown",
   "metadata": {
    "deletable": false,
    "nbgrader": {
     "cell_type": "markdown",
     "checksum": "31525618c7fb2075060cd48415b0e74d",
     "grade": true,
     "grade_id": "cell-6f0e5d8f9e9c507e",
     "locked": false,
     "points": 0,
     "schema_version": 3,
     "solution": true,
     "task": false
    }
   },
   "source": [
    "$4$-neighborhood: **manhattan distance**: $|x_1 - x_2| + |y_1 - y_2|$  \n",
    "$\\rightarrow$ In $4$-neighborhood, you can move only up/down/left/right, that's manhattan distance\n",
    "\n",
    "$8$-neighborhood: **chessboard distance**: $\\max (|x_1 - x_2|, |y_1 - y_2|)$  \n",
    "$\\rightarrow$ In $8$-neighborhood, you can move as the king in chess"
   ]
  },
  {
   "cell_type": "markdown",
   "metadata": {
    "deletable": false,
    "editable": false,
    "nbgrader": {
     "cell_type": "markdown",
     "checksum": "f90f21010ac694a73a5b4606d2668dbe",
     "grade": false,
     "grade_id": "cell-c9096dca32ed1cf0",
     "locked": true,
     "schema_version": 3,
     "solution": false
    }
   },
   "source": [
    "**e)** Name the two types of loss of information and give an example for each."
   ]
  },
  {
   "cell_type": "markdown",
   "metadata": {
    "deletable": false,
    "nbgrader": {
     "cell_type": "markdown",
     "checksum": "4c2a95295433ec7b0d2fdde5104656cb",
     "grade": true,
     "grade_id": "cell-9d87ecab01da1ef8",
     "locked": false,
     "points": 0,
     "schema_version": 3,
     "solution": true
    }
   },
   "source": [
    "**Stochastic loss:** E.g. noise\n",
    "\n",
    "**Deterministic loss:** E.g. projection and sampling, bad camera parameters (over-/underexposure, bad focus), motion blur"
   ]
  },
  {
   "cell_type": "markdown",
   "metadata": {
    "deletable": false,
    "editable": false,
    "nbgrader": {
     "cell_type": "markdown",
     "checksum": "1479f0ec237ce559e224ff1743afc853",
     "grade": false,
     "grade_id": "cell-6d84b6e4de4fd660",
     "locked": true,
     "schema_version": 3,
     "solution": false
    }
   },
   "source": [
    "## Basic Operators"
   ]
  },
  {
   "cell_type": "markdown",
   "metadata": {
    "deletable": false,
    "editable": false,
    "nbgrader": {
     "cell_type": "markdown",
     "checksum": "21a3b2e78227337dbf04d79a13fb6351",
     "grade": false,
     "grade_id": "cell-34f94d134a296642",
     "locked": true,
     "schema_version": 3,
     "solution": false
    }
   },
   "source": [
    "**a)** What is a *point operator*, a *local operator*, a *global operator*? Provide examples for each of them. Which are *linear* which are not? Give an example for a *non-homogenous* operator. Describe application scenarios for different operators. What is a *rank filter*?"
   ]
  },
  {
   "cell_type": "markdown",
   "metadata": {
    "deletable": false,
    "nbgrader": {
     "cell_type": "markdown",
     "checksum": "5eb3769833eead0396b6d99620dea584",
     "grade": true,
     "grade_id": "cell-3d2c26876b96142e",
     "locked": false,
     "points": 0,
     "schema_version": 3,
     "solution": true
    },
    "solution": true
   },
   "source": [
    "**point operator:** $g'(x, y) = O(g(x, y))$ $\\rightarrow$ result pixel depends only on input pixel\n",
    "- e.g. **thresholding**: $g'(x, y) = \\Theta (g(x, y) - \\vartheta)$ with threshold $\\vartheta$ and $\\Theta (x) = 0$ for $x < 0$ and $\\Theta (x) = 1$ otherwise\n",
    "    - non-linear, it does matter whether you first multiply each pixel by scalar and then apply or vice versa\n",
    "    - application example: binarization of a bimodal distribution\n",
    "- another example would be a **linear transform**, e.g. $g'(x, y) = a \\cdot g(x, y) + b$\n",
    "    - obviously linear\n",
    "    - application example: luminance- and contrast-enhancement\n",
    "\n",
    "**local operator:** $g'(x, y) = O(g(x, y), g(surroundings(x, y)))$ $\\rightarrow$ result pixel depends on input pixel + surrounding pixels\n",
    "- e.g. **convolution** defined by filter kernel: $g'(x, y) = \\sum_{i \\in [-m, m]} \\sum_{j \\in [-n, n]} k(i+m, j+n) \\cdot g(x+i, y+j)$ (scalar product of kernel and image patch)\n",
    "    - linear (scalar product, we had to prove that)\n",
    "    - application example: smoothing, edge detection\n",
    "\n",
    "**global operator:** $g'(x, y) = O(g(all pixels))$ $\\rightarrow$ result pixel depends on all pixels of the input image\n",
    "- e.g. **Fourier transform**: Transforms image $g$ from the spatial domain to the frequency domain\n",
    "    - linear (additivity and homogeneity hold)\n",
    "    - application example: \n",
    "        - fast computation of convolution in Fourier space (just a multiplication)\n",
    "        - detect texture in images\n",
    "        - compression\n",
    "\n",
    "TODO: Not sure about a non-homogeneous operator - would depend explicitly on the location - did we discuss such an operator in the lecture?\n",
    "\n",
    "**Rank filter:**\n",
    "- non-linear (can not be implemented as convolution)\n",
    "- sort gray values covered by kernel\n",
    "- select gray value from sorted list that replaces the current pixel (result)\n",
    "- the selection of the position determines the type of rank filter:\n",
    "    - **min filter**: select min gray value (first position)\n",
    "    - **median filter**: select center of the list\n",
    "    - **max filter**: select max gray value (last position)"
   ]
  },
  {
   "cell_type": "markdown",
   "metadata": {
    "deletable": false,
    "editable": false,
    "nbgrader": {
     "cell_type": "markdown",
     "checksum": "15456799b1386d372b08f0ba12b6dc04",
     "grade": false,
     "grade_id": "cell-0c6d98ee6c0ededf",
     "locked": true,
     "schema_version": 3,
     "solution": false
    }
   },
   "source": [
    "**b)** Load an image and apply different local operators (convolution, nonlinear smoothing, morphological) and display the results. Explain their effects and possible applications."
   ]
  },
  {
   "cell_type": "code",
   "execution_count": null,
   "metadata": {
    "deletable": false,
    "nbgrader": {
     "cell_type": "code",
     "checksum": "3451bcd3d69d20fb7c0c4f7244f2be12",
     "grade": true,
     "grade_id": "cell-e6bb5f892904ac23",
     "locked": false,
     "points": 0,
     "schema_version": 3,
     "solution": true
    }
   },
   "outputs": [],
   "source": [
    "%matplotlib inline\n",
    "from skimage import filters, morphology\n",
    "import matplotlib.pyplot as plt\n",
    "import numpy as np\n",
    "import random\n",
    "\n",
    "def get_test_img():\n",
    "    return plt.imread('img/test.JPG')\n",
    "\n",
    "def get_test_img_gray():\n",
    "    img = plt.imread('img/test.JPG')\n",
    "    black_white = np.zeros((img.shape[0], img.shape[1]))\n",
    "    for x in range(img.shape[0]):\n",
    "        for y in range(img.shape[1]):\n",
    "            black_white[x][y] = np.sum(img[x][y]) / 3\n",
    "    return black_white / black_white.max()\n",
    "\n",
    "def generate_noisy_img(img):\n",
    "    prob = 0.5\n",
    "    noisy_img = img.copy()\n",
    "\n",
    "    for x in range(1, noisy_img.shape[0] - 1, 2):\n",
    "        for y in range(1, noisy_img.shape[1] - 1, 4):\n",
    "            # add noise\n",
    "            if random.random() < prob:\n",
    "                if random.choice([0, 1]) == 0:\n",
    "                    noisy_img[x][y] = 0\n",
    "                    noisy_img[x - 1][y] = 0\n",
    "                    noisy_img[x + 1][y] = 0\n",
    "                else:\n",
    "                    noisy_img[x][y] = 1\n",
    "                    noisy_img[x - 1][y] = 1\n",
    "                    noisy_img[x + 1][y] = 1\n",
    "    return noisy_img\n",
    "\n",
    "def apply_laplace(img):\n",
    "    # TODO: to be fixed\n",
    "    img = img.astype(float)\n",
    "    return filters.laplace(img, ksize=3)\n",
    "\n",
    "def get_binarized_img(img, thresh):\n",
    "    tmp = img.copy()\n",
    "    for x in range(img.shape[0]):\n",
    "        for y in range(img.shape[1]):\n",
    "            if tmp[x][y] < thresh:\n",
    "                tmp[x][y] = 1\n",
    "            else:\n",
    "                tmp[x][y] = 0\n",
    "    return tmp\n",
    "\n",
    "plt.figure(figsize=(20, 12))\n",
    "\n",
    "img = get_test_img_gray()\n",
    "\n",
    "plt.subplot(2, 5, 1); plt.title('original image'); plt.imshow(img, cmap='gray')\n",
    "plt.subplot(2, 5, 2); plt.title('conv gaussian'); plt.imshow(filters.gaussian(img, sigma=2.5), cmap='gray')\n",
    "plt.subplot(2, 5, 3); plt.title('conv sobel'); plt.imshow(filters.sobel(img), cmap='gray')\n",
    "plt.subplot(2, 5, 4); plt.title('noisy img'); plt.imshow(generate_noisy_img(img), cmap='gray')\n",
    "plt.subplot(2, 5, 5); plt.title('conv median of noisy img'); plt.imshow(filters.median(generate_noisy_img(img)), cmap='gray')\n",
    "plt.subplot(2, 5, 6); plt.title('conv max'); plt.imshow(img, cmap='gray')\n",
    "plt.subplot(2, 5, 7); plt.title('binarized img'); plt.imshow(get_binarized_img(img, 0.2), cmap='gray')\n",
    "plt.subplot(2, 5, 8); plt.title('erosion of binarized img'); plt.imshow(morphology.binary_erosion(get_binarized_img(img, 0.2)), cmap='gray')\n",
    "plt.subplot(2, 5, 9); plt.title('dilation of binarized img'); plt.imshow(morphology.binary_dilation(get_binarized_img(img, 0.2)), cmap='gray')\n",
    "plt.subplot(2, 5, 10); plt.title('binary opening'); plt.imshow(morphology.binary_opening(get_binarized_img(img, 0.2)), cmap='gray')\n",
    "\n",
    "# TODO: non-linear smoothing\n",
    "\n",
    "plt.show()"
   ]
  },
  {
   "cell_type": "markdown",
   "metadata": {
    "deletable": false,
    "nbgrader": {
     "cell_type": "markdown",
     "checksum": "fcbdd31faa85d6cb8a30301a30ba0f55",
     "grade": true,
     "grade_id": "cell-af283fbda9c16aba",
     "locked": false,
     "points": 0,
     "schema_version": 3,
     "solution": true
    },
    "solution": true
   },
   "source": [
    "YOUR ANSWER HERE"
   ]
  },
  {
   "cell_type": "markdown",
   "metadata": {
    "deletable": false,
    "editable": false,
    "nbgrader": {
     "cell_type": "markdown",
     "checksum": "64650978b2d4ab9174fe62436d4db5dc",
     "grade": false,
     "grade_id": "cell-664ef6f4776a3841",
     "locked": true,
     "schema_version": 3,
     "solution": false,
     "task": false
    }
   },
   "source": [
    "**c)**\n",
    "With pen and paper: Generate a random  $5 \\times 5$ image and smooth this image by a $3 \\times 3$ laplace filter. Select a border handling mode of your choice."
   ]
  },
  {
   "source": [
    "from scipy import signal\n",
    "\n",
    "def normalize(img):\n",
    "    img = (img - np.min(img)) / np.ptp(img) * 255\n",
    "    return img.astype(int)\n",
    "\n",
    "img = np.array([[0, 100, 200, 100, 0], [0, 0, 200, 0, 0], [0, 0, 200, 0, 0], [0, 0, 100, 0, 0], [0, 0, 100, 0, 0]])\n",
    "laplace_kernel = np.array([[0, 1, 0], [1, -4, 1], [0, 1, 0]])\n",
    "laplace = signal.convolve2d(img, laplace_kernel, fillvalue=0)\n",
    "\n",
    "test_img = get_test_img_gray() * 255\n",
    "test_img = test_img.astype(int)[100:400][100:500]\n",
    "laplace_test = signal.convolve2d(test_img, laplace_kernel, fillvalue=0)\n",
    "\n",
    "plt.figure(figsize=(20, 20))\n",
    "plt.subplot(1, 4, 1); plt.title('original img'); plt.imshow(img, cmap='gray')\n",
    "plt.subplot(1, 4, 2); plt.title('laplace filtered'); plt.imshow(normalize(laplace), cmap='gray')\n",
    "plt.subplot(1, 4, 3); plt.title('original test'); plt.imshow(test_img, cmap='gray')\n",
    "plt.subplot(1, 4, 4); plt.title('laplace filtered'); plt.imshow(normalize(laplace_test), cmap='gray')\n",
    "\n",
    "plt.show()"
   ],
   "cell_type": "code",
   "metadata": {},
   "execution_count": null,
   "outputs": []
  },
  {
   "source": [
    "**d)** Give an example $3\\times3$ kernel for the following filters and briefly explain their use:\n",
    "* Box\n",
    "* Binomial\n",
    "* Sobel (one direction of your choice)\n",
    "* Laplace"
   ],
   "cell_type": "markdown",
   "metadata": {
    "deletable": false,
    "editable": false,
    "nbgrader": {
     "cell_type": "markdown",
     "checksum": "0a2278f2eef1cbeecb3bab990484b14c",
     "grade": false,
     "grade_id": "cell-8245a3a223ddeb29",
     "locked": true,
     "schema_version": 3,
     "solution": false,
     "task": false
    }
   }
  },
  {
   "cell_type": "markdown",
   "metadata": {
    "deletable": false,
    "nbgrader": {
     "cell_type": "markdown",
     "checksum": "785356241ecc60f56723f0a4c54fa70b",
     "grade": true,
     "grade_id": "cell-b6b155547f7deec2",
     "locked": false,
     "points": 0,
     "schema_version": 3,
     "solution": true,
     "task": false
    }
   },
   "source": [
    "**Box Filter**\n",
    "\n",
    "$\\frac{1}{9} \\cdot\n",
    "\\begin{matrix}\n",
    "1 & 1 & 1 \\\\ \n",
    "1 & 1 & 1 \\\\ \n",
    "1 & 1 & 1 \\\\ \n",
    "\\end{matrix}$\n",
    "\n",
    "**Binomial Filter**\n",
    "\n",
    "$\\frac{1}{16} \\cdot\n",
    "\\begin{matrix}\n",
    "1 & 2 & 1 \\\\ \n",
    "2 & 4 & 2 \\\\ \n",
    "1 & 2 & 1 \\\\ \n",
    "\\end{matrix}$\n",
    "\n",
    "**Sobel Filter**\n",
    "\n",
    "$\\frac{1}{4} \\cdot\n",
    "\\begin{matrix}\n",
    "1 & 0 & -1 \\\\ \n",
    "2 & 0 & -2 \\\\ \n",
    "1 & 0 & -1 \\\\ \n",
    "\\end{matrix}$\n",
    "\n",
    "**Laplace Filter**\n",
    "\n",
    "$\\begin{matrix}\n",
    "0 & 1 & 0 \\\\ \n",
    "1 & -4 & 1 \\\\ \n",
    "0 & 1 & 0 \\\\ \n",
    "\\end{matrix}$\n"
   ]
  },
  {
   "cell_type": "markdown",
   "metadata": {
    "deletable": false,
    "editable": false,
    "nbgrader": {
     "cell_type": "markdown",
     "checksum": "fbf6cf2fe3566a959a9e2899ec8173bb",
     "grade": false,
     "grade_id": "cell-5fc6bfdddcafb687",
     "locked": true,
     "schema_version": 3,
     "solution": false,
     "task": false
    }
   },
   "source": [
    "**e)** What are separable filter kernels?"
   ]
  },
  {
   "cell_type": "markdown",
   "metadata": {
    "deletable": false,
    "nbgrader": {
     "cell_type": "markdown",
     "checksum": "b6d897d6fc5fb2f9e9dc459c51a93e69",
     "grade": true,
     "grade_id": "cell-f560b5c81610d0d7",
     "locked": false,
     "points": 0,
     "schema_version": 3,
     "solution": true,
     "task": false
    }
   },
   "source": [
    "YOUR ANSWER HERE"
   ]
  },
  {
   "cell_type": "markdown",
   "metadata": {
    "deletable": false,
    "editable": false,
    "nbgrader": {
     "cell_type": "markdown",
     "checksum": "f4eb3ca7eedc89cf777ee5a0d9923c3d",
     "grade": false,
     "grade_id": "cell-0950af9dd4a0ca1a",
     "locked": true,
     "schema_version": 3,
     "solution": false
    }
   },
   "source": [
    "## Image Enhancement"
   ]
  },
  {
   "cell_type": "markdown",
   "metadata": {
    "deletable": false,
    "editable": false,
    "nbgrader": {
     "cell_type": "markdown",
     "checksum": "30e6d7c8ab1bcd51a63f5944c26181dc",
     "grade": false,
     "grade_id": "cell-7b4bae6d11f700f2",
     "locked": true,
     "schema_version": 3,
     "solution": false
    }
   },
   "source": [
    "**a)**  What is the histogram of an image? What is a gradient image and how is it computed? What is a histogram of gradients? Name some applications."
   ]
  },
  {
   "cell_type": "markdown",
   "metadata": {
    "deletable": false,
    "nbgrader": {
     "cell_type": "markdown",
     "checksum": "201dc32da2a4a598d3a38285073c5888",
     "grade": true,
     "grade_id": "cell-74912d2eceb911a4",
     "locked": false,
     "points": 0,
     "schema_version": 3,
     "solution": true
    },
    "solution": true
   },
   "source": [
    "YOUR ANSWER HERE"
   ]
  },
  {
   "cell_type": "markdown",
   "metadata": {
    "deletable": false,
    "nbgrader": {
     "cell_type": "markdown",
     "checksum": "6dafc09c368a24f8e4a0bd4ae5dc927e",
     "grade": true,
     "grade_id": "cell-aa77731fc3578928",
     "locked": false,
     "points": 0,
     "schema_version": 3,
     "solution": true,
     "task": false
    }
   },
   "source": [
    "YOUR ANSWER HERE"
   ]
  },
  {
   "cell_type": "markdown",
   "metadata": {
    "deletable": false,
    "editable": false,
    "nbgrader": {
     "cell_type": "markdown",
     "checksum": "f38e6ecaec9ae193d20e5c2a71d59ddb",
     "grade": false,
     "grade_id": "cell-08a4b0b6834a4f08",
     "locked": true,
     "schema_version": 3,
     "solution": false
    }
   },
   "source": [
    "**b)** Give formulae for information content and average information content. What do information content and entropy measure? On the slides $\\log_n$ is used for information content and $\\log_2$ is used for entropy. Why?"
   ]
  },
  {
   "cell_type": "markdown",
   "metadata": {
    "deletable": false,
    "nbgrader": {
     "cell_type": "markdown",
     "checksum": "17712dc185828789b4a46e58fc60bdd4",
     "grade": true,
     "grade_id": "cell-5663863917e695cb",
     "locked": false,
     "points": 0,
     "schema_version": 3,
     "solution": true
    }
   },
   "source": [
    "YOUR ANSWER HERE"
   ]
  },
  {
   "cell_type": "markdown",
   "metadata": {
    "deletable": false,
    "editable": false,
    "nbgrader": {
     "cell_type": "markdown",
     "checksum": "45280fc27796309416338818dc4d6a6a",
     "grade": false,
     "grade_id": "cell-47c2a4e75b927e20",
     "locked": true,
     "schema_version": 3,
     "solution": false,
     "task": false
    }
   },
   "source": [
    "**c)** Discuss histogram equalization. Name some problems and explain how they can be addressed."
   ]
  },
  {
   "cell_type": "markdown",
   "metadata": {
    "deletable": false,
    "nbgrader": {
     "cell_type": "markdown",
     "checksum": "5361bc1d68bf085ae14d10941b612e6c",
     "grade": true,
     "grade_id": "cell-91dc16c7b7371d5d",
     "locked": false,
     "points": 0,
     "schema_version": 3,
     "solution": true,
     "task": false
    }
   },
   "source": [
    "YOUR ANSWER HERE"
   ]
  },
  {
   "cell_type": "markdown",
   "metadata": {
    "deletable": false,
    "nbgrader": {
     "cell_type": "markdown",
     "checksum": "31864902e29bfb1672e14366afb9449e",
     "grade": true,
     "grade_id": "cell-cdb2201a0f3314ff",
     "locked": false,
     "points": 0,
     "schema_version": 3,
     "solution": true,
     "task": false
    }
   },
   "source": [
    "YOUR ANSWER HERE"
   ]
  },
  {
   "cell_type": "markdown",
   "metadata": {
    "deletable": false,
    "editable": false,
    "nbgrader": {
     "cell_type": "markdown",
     "checksum": "0e01a786a94d1f225d7e52102e3eaceb",
     "grade": false,
     "grade_id": "cell-68f5fc93fc33cf4d",
     "locked": true,
     "schema_version": 3,
     "solution": false,
     "task": false
    }
   },
   "source": [
    "## Morphological operators"
   ]
  },
  {
   "cell_type": "markdown",
   "metadata": {
    "deletable": false,
    "editable": false,
    "nbgrader": {
     "cell_type": "markdown",
     "checksum": "7a272d42d880400db55982bcf141f072",
     "grade": false,
     "grade_id": "cell-4f367bf552281c08",
     "locked": true,
     "schema_version": 3,
     "solution": false,
     "task": false
    }
   },
   "source": [
    "**a)** What is a structuring element? How is it applied in erosion and dilation?"
   ]
  },
  {
   "cell_type": "markdown",
   "metadata": {
    "deletable": false,
    "nbgrader": {
     "cell_type": "markdown",
     "checksum": "10072f1c6bf76a62b34641a95d6676fc",
     "grade": true,
     "grade_id": "cell-da5d3fe984177324",
     "locked": false,
     "points": 0,
     "schema_version": 3,
     "solution": true,
     "task": false
    }
   },
   "source": [
    "YOUR ANSWER HERE"
   ]
  },
  {
   "cell_type": "markdown",
   "metadata": {
    "deletable": false,
    "editable": false,
    "nbgrader": {
     "cell_type": "markdown",
     "checksum": "900a792d3a253cdbfe693b460fd95e60",
     "grade": false,
     "grade_id": "cell-fc1713bbf0ef3b76",
     "locked": true,
     "schema_version": 3,
     "solution": false,
     "task": false
    }
   },
   "source": [
    "**b)** Give pseudocode for the distance transform using morphological operators"
   ]
  },
  {
   "cell_type": "markdown",
   "metadata": {
    "deletable": false,
    "nbgrader": {
     "cell_type": "markdown",
     "checksum": "adbdab9e94003294739d6ba16aed2343",
     "grade": true,
     "grade_id": "cell-d929678b78d7912d",
     "locked": false,
     "points": 0,
     "schema_version": 3,
     "solution": true,
     "task": false
    }
   },
   "source": [
    "YOUR ANSWER HERE"
   ]
  },
  {
   "cell_type": "markdown",
   "metadata": {
    "deletable": false,
    "editable": false,
    "nbgrader": {
     "cell_type": "markdown",
     "checksum": "08b03941202812effaeaa996b50e41d4",
     "grade": false,
     "grade_id": "cell-bb3d97b79ce3c32c",
     "locked": true,
     "schema_version": 3,
     "solution": false
    }
   },
   "source": [
    "## Color"
   ]
  },
  {
   "cell_type": "markdown",
   "metadata": {
    "deletable": false,
    "editable": false,
    "nbgrader": {
     "cell_type": "markdown",
     "checksum": "2841c6e4f4fad9ee515203a0f9684e68",
     "grade": false,
     "grade_id": "cell-3761c09a73f38e51",
     "locked": true,
     "schema_version": 3,
     "solution": false
    }
   },
   "source": [
    "**a)** Which of the follwoing use additive color mixing and which use subtractive color mixing:\n",
    "* Printer\n",
    "* Cathode ray tub (Old screens)\n",
    "* LCD Screen\n",
    "* Van Googh\n",
    "* Analog Cinema Projector\n",
    "* Digital Projector (DLP)"
   ]
  },
  {
   "cell_type": "markdown",
   "metadata": {
    "deletable": false,
    "nbgrader": {
     "cell_type": "markdown",
     "checksum": "b101183223d035130375a6849db41b9d",
     "grade": true,
     "grade_id": "cell-cbe612595209d517",
     "locked": false,
     "points": 0,
     "schema_version": 3,
     "solution": true
    }
   },
   "source": [
    "YOUR ANSWER HERE"
   ]
  },
  {
   "cell_type": "markdown",
   "metadata": {
    "deletable": false,
    "editable": false,
    "nbgrader": {
     "cell_type": "markdown",
     "checksum": "8e3c25113e146776c34bd45c35ecd912",
     "grade": false,
     "grade_id": "cell-437bfb22b0953472",
     "locked": true,
     "schema_version": 3,
     "solution": false
    }
   },
   "source": [
    "**b)** Name two color spaces and list their advantages."
   ]
  },
  {
   "cell_type": "markdown",
   "metadata": {
    "deletable": false,
    "nbgrader": {
     "cell_type": "markdown",
     "checksum": "8820f89d8e53d435ae6825b23eb2830f",
     "grade": true,
     "grade_id": "cell-ee5a11a5f9a6e97c",
     "locked": false,
     "points": 0,
     "schema_version": 3,
     "solution": true
    }
   },
   "source": [
    "YOUR ANSWER HERE"
   ]
  },
  {
   "cell_type": "markdown",
   "metadata": {
    "deletable": false,
    "editable": false,
    "nbgrader": {
     "cell_type": "markdown",
     "checksum": "ec888b9f995d3b6dd96e4f4eb981df13",
     "grade": false,
     "grade_id": "cell-c06d6b2ac8b2332a",
     "locked": true,
     "schema_version": 3,
     "solution": false
    }
   },
   "source": [
    "## Segmentation"
   ]
  },
  {
   "cell_type": "markdown",
   "metadata": {
    "deletable": false,
    "editable": false,
    "nbgrader": {
     "cell_type": "markdown",
     "checksum": "17d4901a73217149bc47e7d81c5a1ef2",
     "grade": false,
     "grade_id": "cell-74bc7e2ff33d48ee",
     "locked": true,
     "schema_version": 3,
     "solution": false
    }
   },
   "source": [
    "**a)** Explain *region based* and *edged based* *segmentation*. What are the differences between *split and merge* and *region merging*? What is the idea of *color segmentation* and does it give any advantage?"
   ]
  },
  {
   "cell_type": "markdown",
   "metadata": {
    "deletable": false,
    "nbgrader": {
     "cell_type": "markdown",
     "checksum": "caeac0e23beaa3cf5373194bd6bd534d",
     "grade": true,
     "grade_id": "cell-b505cd1e5ca22b5e",
     "locked": false,
     "points": 0,
     "schema_version": 3,
     "solution": true
    },
    "solution": true
   },
   "source": [
    "YOUR ANSWER HERE"
   ]
  },
  {
   "cell_type": "markdown",
   "metadata": {
    "deletable": false,
    "nbgrader": {
     "cell_type": "markdown",
     "checksum": "e3bb0d266e8ab4fcd2ed71617b818d49",
     "grade": true,
     "grade_id": "cell-1b6d4c644ba1676d",
     "locked": false,
     "points": 0,
     "schema_version": 3,
     "solution": true,
     "task": false
    }
   },
   "source": [
    "YOUR ANSWER HERE"
   ]
  },
  {
   "cell_type": "markdown",
   "metadata": {
    "deletable": false,
    "nbgrader": {
     "cell_type": "markdown",
     "checksum": "bc01a2635a43d41669eb18c18c23a412",
     "grade": true,
     "grade_id": "cell-3a8634d10bfc5a76",
     "locked": false,
     "points": 0,
     "schema_version": 3,
     "solution": true,
     "task": false
    }
   },
   "source": [
    "YOUR ANSWER HERE"
   ]
  },
  {
   "cell_type": "markdown",
   "metadata": {
    "deletable": false,
    "editable": false,
    "nbgrader": {
     "cell_type": "markdown",
     "checksum": "4750e4eda83d257aee3a5ffb45f22b87",
     "grade": false,
     "grade_id": "cell-d3af45d1f9eef2e5",
     "locked": true,
     "schema_version": 3,
     "solution": false,
     "task": false
    }
   },
   "source": [
    "**b)**  Provide pseudocode for the $k$-means clustering algorithm in color space."
   ]
  },
  {
   "cell_type": "markdown",
   "metadata": {
    "deletable": false,
    "nbgrader": {
     "cell_type": "markdown",
     "checksum": "d71fdac1cc911ba50e7beafdab61b69c",
     "grade": true,
     "grade_id": "cell-1be957ca47d5e89d",
     "locked": false,
     "points": 0,
     "schema_version": 3,
     "solution": true,
     "task": false
    }
   },
   "source": [
    "YOUR ANSWER HERE"
   ]
  },
  {
   "cell_type": "markdown",
   "metadata": {
    "deletable": false,
    "editable": false,
    "nbgrader": {
     "cell_type": "markdown",
     "checksum": "09b13f36516a04ca444293afb093446b",
     "grade": false,
     "grade_id": "cell-b72144ad66f6a645",
     "locked": true,
     "schema_version": 3,
     "solution": false,
     "task": false
    }
   },
   "source": [
    "**c)** Give two examples for interactive segmentation and discuss them."
   ]
  },
  {
   "cell_type": "markdown",
   "metadata": {
    "deletable": false,
    "nbgrader": {
     "cell_type": "markdown",
     "checksum": "6664bb730ea023f244b2fbb2e8f33ca4",
     "grade": true,
     "grade_id": "cell-904df331122ecae0",
     "locked": false,
     "points": 0,
     "schema_version": 3,
     "solution": true,
     "task": false
    }
   },
   "source": [
    "YOUR ANSWER HERE"
   ]
  },
  {
   "cell_type": "markdown",
   "metadata": {
    "deletable": false,
    "nbgrader": {
     "cell_type": "markdown",
     "checksum": "e0fe77ec2cb5c6b0d892bd9aae4d6179",
     "grade": true,
     "grade_id": "cell-73e9cde722816f6f",
     "locked": false,
     "points": 0,
     "schema_version": 3,
     "solution": true,
     "task": false
    }
   },
   "source": [
    "YOUR ANSWER HERE"
   ]
  },
  {
   "cell_type": "markdown",
   "metadata": {
    "deletable": false,
    "nbgrader": {
     "cell_type": "markdown",
     "checksum": "1b46cff49099df0531106c410d373118",
     "grade": true,
     "grade_id": "cell-f495ae2e7759dd8a",
     "locked": false,
     "points": 0,
     "schema_version": 3,
     "solution": true,
     "task": false
    }
   },
   "source": [
    "YOUR ANSWER HERE"
   ]
  },
  {
   "cell_type": "markdown",
   "metadata": {
    "deletable": false,
    "nbgrader": {
     "cell_type": "markdown",
     "checksum": "c1b24fb920417f57db479aafc36e08ad",
     "grade": true,
     "grade_id": "cell-eae818551a2f8a20",
     "locked": false,
     "points": 0,
     "schema_version": 3,
     "solution": true,
     "task": false
    }
   },
   "source": [
    "YOUR ANSWER HERE"
   ]
  },
  {
   "cell_type": "markdown",
   "metadata": {
    "deletable": false,
    "editable": false,
    "nbgrader": {
     "cell_type": "markdown",
     "checksum": "d99bdf88833f1d137d4fa996d3f25b63",
     "grade": false,
     "grade_id": "cell-c06d6b2ac8b2332g",
     "locked": true,
     "schema_version": 3,
     "solution": false
    }
   },
   "source": [
    "## Hough Transform"
   ]
  },
  {
   "cell_type": "markdown",
   "metadata": {
    "deletable": false,
    "editable": false,
    "nbgrader": {
     "cell_type": "markdown",
     "checksum": "0a477013829b015d929e5568e96c952b",
     "grade": false,
     "grade_id": "cell-858a0894cc7e02c0",
     "locked": true,
     "schema_version": 3,
     "solution": false
    }
   },
   "source": [
    "**a)** What is the idea of *Hough transform*? What is an *accumulator space*? How to determine its dimensionality? Can you interpret the linear Hough space? How many dimensions has the accumulator space for circular Hough transform?"
   ]
  },
  {
   "cell_type": "markdown",
   "metadata": {
    "deletable": false,
    "nbgrader": {
     "cell_type": "markdown",
     "checksum": "dde0882674d75216ad357c95fb41d107",
     "grade": true,
     "grade_id": "cell-016a8ede5313ac89",
     "locked": false,
     "points": 0,
     "schema_version": 3,
     "solution": true
    },
    "solution": true
   },
   "source": [
    "YOUR ANSWER HERE"
   ]
  },
  {
   "cell_type": "markdown",
   "metadata": {
    "deletable": false,
    "editable": false,
    "nbgrader": {
     "cell_type": "markdown",
     "checksum": "49479dfafacfe0057b03242b8cd07059",
     "grade": false,
     "grade_id": "cell-recap2",
     "locked": true,
     "schema_version": 3,
     "solution": false
    }
   },
   "source": [
    "# Recap II"
   ]
  },
  {
   "cell_type": "markdown",
   "metadata": {
    "deletable": false,
    "editable": false,
    "nbgrader": {
     "cell_type": "markdown",
     "checksum": "1731d10a256b28d63c8ef0ed8582b455",
     "grade": false,
     "grade_id": "cell-recap2a",
     "locked": true,
     "schema_version": 3,
     "solution": false
    }
   },
   "source": [
    "This sheet is a recap of the second half of the term. Neither do you have to present it to your tutors nor will it count to the number of passed sheets required for the exam. I.e. you do not have to complete this sheet but we highly recomment that you solve the assignments as part of your preparations for the exam. We will discuss the results in the last practice session on February 11. Also, if you have questions on any of the topics, please send them to us and we will discuss them in that session."
   ]
  },
  {
   "cell_type": "markdown",
   "metadata": {
    "deletable": false,
    "editable": false,
    "nbgrader": {
     "cell_type": "markdown",
     "checksum": "78c60a7b4f68784e5cc3ba50616e6770",
     "grade": false,
     "grade_id": "cell-fourier",
     "locked": true,
     "schema_version": 3,
     "solution": false
    }
   },
   "source": [
    "## Fourier Transform"
   ]
  },
  {
   "cell_type": "markdown",
   "metadata": {
    "deletable": false,
    "editable": false,
    "nbgrader": {
     "cell_type": "markdown",
     "checksum": "f8e98712c9e4cb3472ba19abdd6759a9",
     "grade": false,
     "grade_id": "cell-fourier-a",
     "locked": true,
     "schema_version": 3,
     "solution": false
    }
   },
   "source": [
    "**a)** What is the idea of *Fourier Transform*, and why is it useful for image processing? Can you provide a formula? Why is it called an orthogonal transformation? Which aspects of an image can be recognized in its Fourier transform?"
   ]
  },
  {
   "cell_type": "markdown",
   "metadata": {
    "deletable": false,
    "nbgrader": {
     "cell_type": "markdown",
     "checksum": "cf7730b4ad7235699d3c1c0fb860f76f",
     "grade": true,
     "grade_id": "cell-fourier-a-solution",
     "locked": false,
     "points": 0,
     "schema_version": 3,
     "solution": true
    },
    "solution": true
   },
   "source": [
    "YOUR ANSWER HERE"
   ]
  },
  {
   "cell_type": "markdown",
   "metadata": {
    "deletable": false,
    "editable": false,
    "nbgrader": {
     "cell_type": "markdown",
     "checksum": "a6ddd73099e844bef15b7c4f60a63a39",
     "grade": false,
     "grade_id": "cell-temp-match",
     "locked": true,
     "schema_version": 3,
     "solution": false
    }
   },
   "source": [
    "## Template Matching"
   ]
  },
  {
   "cell_type": "markdown",
   "metadata": {
    "deletable": false,
    "editable": false,
    "nbgrader": {
     "cell_type": "markdown",
     "checksum": "a02667c463b62388f96b856a270f6efa",
     "grade": false,
     "grade_id": "cell-temp-match-a",
     "locked": true,
     "schema_version": 3,
     "solution": false
    }
   },
   "source": [
    "**a)** Explain the principle of template matching."
   ]
  },
  {
   "cell_type": "markdown",
   "metadata": {
    "deletable": false,
    "nbgrader": {
     "cell_type": "markdown",
     "checksum": "34bd59c71592a01734d316a8911051c6",
     "grade": true,
     "grade_id": "cell-temp-match-a-sol",
     "locked": false,
     "points": 0,
     "schema_version": 3,
     "solution": true
    }
   },
   "source": [
    "YOUR ANSWER HERE"
   ]
  },
  {
   "cell_type": "markdown",
   "metadata": {
    "deletable": false,
    "editable": false,
    "nbgrader": {
     "cell_type": "markdown",
     "checksum": "3ff9b30b4a9f96512a4e858fa929ecff",
     "grade": false,
     "grade_id": "cell-temp-match-b",
     "locked": true,
     "schema_version": 3,
     "solution": false
    }
   },
   "source": [
    "**b)** When and why does the correlation coefficient perform better than the mean absolute distance?"
   ]
  },
  {
   "cell_type": "markdown",
   "metadata": {
    "deletable": false,
    "nbgrader": {
     "cell_type": "markdown",
     "checksum": "cd610443e13243ca8c04ba18c6595c7c",
     "grade": true,
     "grade_id": "cell-temp-match-b-sol",
     "locked": false,
     "points": 0,
     "schema_version": 3,
     "solution": true
    }
   },
   "source": [
    "YOUR ANSWER HERE"
   ]
  },
  {
   "cell_type": "markdown",
   "metadata": {
    "deletable": false,
    "editable": false,
    "nbgrader": {
     "cell_type": "markdown",
     "checksum": "ed324a53e33992f405f92b9d67aae4a8",
     "grade": false,
     "grade_id": "cell-pattern",
     "locked": true,
     "schema_version": 3,
     "solution": false
    }
   },
   "source": [
    "## Pattern Recognition"
   ]
  },
  {
   "cell_type": "markdown",
   "metadata": {
    "deletable": false,
    "editable": false,
    "nbgrader": {
     "cell_type": "markdown",
     "checksum": "6978c004dbf0b001dfdac888412bf75f",
     "grade": false,
     "grade_id": "cell-pattern-a",
     "locked": true,
     "schema_version": 3,
     "solution": false
    }
   },
   "source": [
    "**a)** What are the principle components of a 2-dimensional data distribution. What are the principle components when of an image?"
   ]
  },
  {
   "cell_type": "markdown",
   "metadata": {
    "deletable": false,
    "nbgrader": {
     "cell_type": "markdown",
     "checksum": "661c8c98e829bc8bbd1dd77ba2213902",
     "grade": true,
     "grade_id": "cell-pattern-a-sol",
     "locked": false,
     "points": 0,
     "schema_version": 3,
     "solution": true
    }
   },
   "source": [
    "YOUR ANSWER HERE"
   ]
  },
  {
   "cell_type": "markdown",
   "metadata": {
    "deletable": false,
    "editable": false,
    "nbgrader": {
     "cell_type": "markdown",
     "checksum": "1f1b98f4d16e79b41722b222f357c228",
     "grade": false,
     "grade_id": "cell-local",
     "locked": true,
     "schema_version": 3,
     "solution": false
    }
   },
   "source": [
    "## Local Features"
   ]
  },
  {
   "cell_type": "markdown",
   "metadata": {
    "deletable": false,
    "editable": false,
    "nbgrader": {
     "cell_type": "markdown",
     "checksum": "a6e77e1e6345eca0cbc020c934a6a8f2",
     "grade": false,
     "grade_id": "cell-local-a",
     "locked": true,
     "schema_version": 3,
     "solution": false
    }
   },
   "source": [
    "**a)** Describe the *Moravec* and the *Harris corner detectors*. What are the differences?"
   ]
  },
  {
   "cell_type": "markdown",
   "metadata": {
    "deletable": false,
    "nbgrader": {
     "cell_type": "markdown",
     "checksum": "882ffb6dd7489cf925a1271d71b321d6",
     "grade": true,
     "grade_id": "cell-local-a-sol",
     "locked": false,
     "points": 0,
     "schema_version": 3,
     "solution": true
    },
    "solution": true
   },
   "source": [
    "YOUR ANSWER HERE"
   ]
  },
  {
   "cell_type": "markdown",
   "metadata": {
    "deletable": false,
    "editable": false,
    "nbgrader": {
     "cell_type": "markdown",
     "checksum": "41fc26091b4d2e523e79fd76687eff66",
     "grade": false,
     "grade_id": "cell-local-b",
     "locked": true,
     "schema_version": 3,
     "solution": false
    }
   },
   "source": [
    "**b)** What are *local features* and what are they used for? Name some examples? Describe the main steps of SIFT and explain how invariances of the features are achieved."
   ]
  },
  {
   "cell_type": "markdown",
   "metadata": {
    "deletable": false,
    "nbgrader": {
     "cell_type": "markdown",
     "checksum": "005d10c08b405826d32d11f9a2f2e9f4",
     "grade": true,
     "grade_id": "cell-local-b-sol",
     "locked": false,
     "points": 0,
     "schema_version": 3,
     "solution": true
    },
    "solution": true
   },
   "source": [
    "YOUR ANSWER HERE"
   ]
  },
  {
   "cell_type": "markdown",
   "metadata": {
    "deletable": false,
    "editable": false,
    "nbgrader": {
     "cell_type": "markdown",
     "checksum": "0f8ceb0e9be92951bbf59dda58224244",
     "grade": false,
     "grade_id": "cell-recap-compression",
     "locked": true,
     "schema_version": 3,
     "solution": false
    }
   },
   "source": [
    "## Compression"
   ]
  },
  {
   "cell_type": "markdown",
   "metadata": {
    "deletable": false,
    "editable": false,
    "nbgrader": {
     "cell_type": "markdown",
     "checksum": "ee7124a43a178fbe52dd4eed3bda9675",
     "grade": false,
     "grade_id": "cell-recap-huffmana",
     "locked": true,
     "schema_version": 3,
     "solution": false,
     "task": false
    }
   },
   "source": [
    "**a)** How does Huffman-Coding work?"
   ]
  },
  {
   "cell_type": "markdown",
   "metadata": {
    "deletable": false,
    "nbgrader": {
     "cell_type": "markdown",
     "checksum": "55361151d9c8c9b43a133ab1be753d91",
     "grade": true,
     "grade_id": "cell-recap-huffmanasolution",
     "locked": false,
     "points": 0,
     "schema_version": 3,
     "solution": true,
     "task": false
    }
   },
   "source": [
    "YOUR ANSWER HERE"
   ]
  },
  {
   "cell_type": "markdown",
   "metadata": {
    "deletable": false,
    "editable": false,
    "nbgrader": {
     "cell_type": "markdown",
     "checksum": "e53f6b4f53e555ca9745ba76fb3aed94",
     "grade": false,
     "grade_id": "cell-recap-huffmanb",
     "locked": true,
     "schema_version": 3,
     "solution": false,
     "task": false
    }
   },
   "source": [
    "**b)** What is the Gray code and what is its relation to run length encoding?"
   ]
  },
  {
   "cell_type": "markdown",
   "metadata": {
    "deletable": false,
    "nbgrader": {
     "cell_type": "markdown",
     "checksum": "24b6dad8652af534e041e2c465c0a4a7",
     "grade": true,
     "grade_id": "cell-recap-huffmanbsolution",
     "locked": false,
     "points": 0,
     "schema_version": 3,
     "solution": true,
     "task": false
    }
   },
   "source": [
    "YOUR ANSWER HERE"
   ]
  },
  {
   "cell_type": "markdown",
   "metadata": {
    "deletable": false,
    "editable": false,
    "nbgrader": {
     "cell_type": "markdown",
     "checksum": "763967590defe35c5d24efdedd145b6a",
     "grade": false,
     "grade_id": "cell-224529086cbb36b6",
     "locked": true,
     "schema_version": 3,
     "solution": false,
     "task": false
    }
   },
   "source": [
    "## Understanding the Wireframe-Model\n"
   ]
  },
  {
   "cell_type": "markdown",
   "metadata": {
    "deletable": false,
    "editable": false,
    "nbgrader": {
     "cell_type": "markdown",
     "checksum": "724b13ac39acd58feae03fe1c54dbd1d",
     "grade": false,
     "grade_id": "cell-14e3efd787c6918e",
     "locked": true,
     "schema_version": 3,
     "solution": false,
     "task": false
    }
   },
   "source": [
    "**a)** Explain in your own words the functions on slide  (CV-12 slide 9). Also explain when and why it may make sense to use $m$ instead of $m'$."
   ]
  },
  {
   "cell_type": "markdown",
   "metadata": {
    "deletable": false,
    "nbgrader": {
     "cell_type": "markdown",
     "checksum": "fcc0fd4275905dd07af1acd024a57f0e",
     "grade": true,
     "grade_id": "cell-3b6ee3b2c2a9f798",
     "locked": false,
     "points": 0,
     "schema_version": 3,
     "solution": true,
     "task": false
    }
   },
   "source": [
    "YOUR ANSWER HERE"
   ]
  }
 ],
 "metadata": {
  "jupytext": {
   "formats": "Rmd,ipynb"
  },
  "kernelspec": {
   "display_name": "Python 3.8.6 64-bit ('cv': conda)",
   "language": "python",
   "name": "python38664bitcvcondace24c6b5e63f40158ccc45b6baeafab5"
  }
 },
 "nbformat": 4,
 "nbformat_minor": 4
}