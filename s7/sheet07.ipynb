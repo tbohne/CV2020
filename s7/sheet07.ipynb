{
 "cells": [
  {
   "cell_type": "markdown",
   "metadata": {
    "deletable": false,
    "editable": false,
    "nbgrader": {
     "cell_type": "markdown",
     "checksum": "f85d345455e3a48f18b1bf7d3b166e74",
     "grade": false,
     "grade_id": "cell-413d220a9dc47c46",
     "locked": true,
     "schema_version": 3,
     "solution": false
    }
   },
   "source": [
    "Osnabrück University - Computer Vision (Winter Term 2020/21) - Prof. Dr.-Ing. G. Heidemann, Ulf Krumnack, Axel Schaffland, Ludwig Schallner, Artem Petrov"
   ]
  },
  {
   "cell_type": "markdown",
   "metadata": {
    "deletable": false,
    "editable": false,
    "nbgrader": {
     "cell_type": "markdown",
     "checksum": "7e8d4e5c4accad737783c00aaeaa8a10",
     "grade": false,
     "grade_id": "cell-fcc4a8f1ac6d5976",
     "locked": true,
     "schema_version": 3,
     "solution": false
    }
   },
   "source": [
    "# Exercise Sheet 07: Fourier Transform"
   ]
  },
  {
   "cell_type": "markdown",
   "metadata": {
    "deletable": false,
    "editable": false,
    "nbgrader": {
     "cell_type": "markdown",
     "checksum": "965fd1c46567d709771ea8adeb69f570",
     "grade": false,
     "grade_id": "cell-983153e0faf373b1",
     "locked": true,
     "schema_version": 3,
     "solution": false
    }
   },
   "source": [
    "## Introduction\n",
    "\n",
    "This week's sheet should be solved and handed in before the end of **Saturday, January 02, 2021**. If you need help (and Google and other resources were not enough), feel free to contact your groups' designated tutor or whomever of us you run into first. Please upload your results to your group's Stud.IP folder.\n",
    "\n",
    "**HINT: There is a bonus exercise in the end. If you do this bonus exercise you may leave out one of the other exercises.**"
   ]
  },
  {
   "cell_type": "markdown",
   "metadata": {
    "deletable": false,
    "editable": false,
    "nbgrader": {
     "cell_type": "markdown",
     "checksum": "78164889d32093e26c30a571c0d9c87e",
     "grade": false,
     "grade_id": "cell-78e418c8c7c6b9cb",
     "locked": true,
     "schema_version": 3,
     "solution": false
    }
   },
   "source": [
    "## Assignment 0: Math recap (Expectation and Variance) [0 Points] \n",
    "\n",
    "This exercise is supposed to be very easy, does not give any points, and is voluntary. There will be a similar exercise on every sheet. It is intended to revise some basic mathematical notions that are assumed throughout this class and to allow you to check if you are comfortable with them. Usually you should have no problem to answer these questions offhand, but if you feel unsure, this is a good time to look them up again. You are always welcome to discuss questions with the tutors or in the practice session. Also, if you have a (math) topic you would like to recap, please let us know."
   ]
  },
  {
   "cell_type": "markdown",
   "metadata": {
    "deletable": false,
    "editable": false,
    "nbgrader": {
     "cell_type": "markdown",
     "checksum": "4fe2ee3d60ed587adc96ebd40af13925",
     "grade": false,
     "grade_id": "math-stat-q1",
     "locked": true,
     "schema_version": 3,
     "solution": false
    }
   },
   "source": [
    "**a)** What is the relation between mean and expectated value? How to compute it?"
   ]
  },
  {
   "cell_type": "markdown",
   "metadata": {
    "deletable": false,
    "nbgrader": {
     "cell_type": "markdown",
     "checksum": "85e2eb758bd23c7872dd657ee75b5ad2",
     "grade": true,
     "grade_id": "math-stat-a1",
     "locked": false,
     "points": 0,
     "schema_version": 3,
     "solution": true
    },
    "solution": true
   },
   "source": [
    "YOUR ANSWER HERE"
   ]
  },
  {
   "cell_type": "markdown",
   "metadata": {
    "deletable": false,
    "editable": false,
    "nbgrader": {
     "cell_type": "markdown",
     "checksum": "0882e5af3f4d88eaf8bf2c5e29c2fc87",
     "grade": false,
     "grade_id": "math-stat-q2",
     "locked": true,
     "schema_version": 3,
     "solution": false
    }
   },
   "source": [
    "**b)** What is the variance? What does it express? Why is there a square in the formula?"
   ]
  },
  {
   "cell_type": "markdown",
   "metadata": {
    "deletable": false,
    "nbgrader": {
     "cell_type": "markdown",
     "checksum": "1f1926a15a1b9127f872c4195b91edd4",
     "grade": true,
     "grade_id": "math-stat-a2",
     "locked": false,
     "points": 0,
     "schema_version": 3,
     "solution": true
    },
    "solution": true
   },
   "source": [
    "YOUR ANSWER HERE"
   ]
  },
  {
   "cell_type": "markdown",
   "metadata": {
    "deletable": false,
    "editable": false,
    "nbgrader": {
     "cell_type": "markdown",
     "checksum": "8c8eaf05fddc7674d302e03621cc257d",
     "grade": false,
     "grade_id": "math-stat-q3",
     "locked": true,
     "schema_version": 3,
     "solution": false
    }
   },
   "source": [
    "**c)** Can you compute mean and variance of a given 1-dimensional dataset (e.g., $D=\\{9,10,11,7,13\\}$). Can you do the same for a 3-dimensional dataset (e.g., D=\\{(1,10,9), (1,10,10), (10,10,11), (19,10,7), (19,10,13)\\})?"
   ]
  },
  {
   "cell_type": "markdown",
   "metadata": {
    "deletable": false,
    "nbgrader": {
     "cell_type": "markdown",
     "checksum": "7488170e99f8e8244ec1073f2160acb1",
     "grade": true,
     "grade_id": "math-stat-a3",
     "locked": false,
     "points": 0,
     "schema_version": 3,
     "solution": true
    },
    "solution": true
   },
   "source": [
    "YOUR ANSWER HERE"
   ]
  },
  {
   "cell_type": "code",
   "execution_count": null,
   "metadata": {
    "deletable": false,
    "nbgrader": {
     "cell_type": "code",
     "checksum": "fd087e9a660dadec8e2d1583df18689c",
     "grade": true,
     "grade_id": "math-stat-i3",
     "locked": false,
     "points": 0,
     "schema_version": 3,
     "solution": true
    }
   },
   "outputs": [],
   "source": [
    "# YOUR CODE HERE"
   ]
  },
  {
   "cell_type": "markdown",
   "metadata": {
    "deletable": false,
    "editable": false,
    "nbgrader": {
     "cell_type": "markdown",
     "checksum": "d44aafb8931530bda4e6ad938f31c045",
     "grade": false,
     "grade_id": "ft-understand-00",
     "locked": true,
     "schema_version": 3,
     "solution": false
    }
   },
   "source": [
    "## Exercise 1: Understanding Fourier Transform [7 points]\n",
    "\n",
    "This exercise aims at getting some intuition of finite, 2d-Fourier transform."
   ]
  },
  {
   "cell_type": "markdown",
   "metadata": {
    "deletable": false,
    "editable": false,
    "nbgrader": {
     "cell_type": "markdown",
     "checksum": "d1cdc2fb8319d1b8d4d0915408d711b6",
     "grade": false,
     "grade_id": "ft-understand-01",
     "locked": true,
     "schema_version": 3,
     "solution": false
    }
   },
   "source": [
    "*Hint:* Python and numpy can deal with complex numbers: `np.real()` and `np.imag()` provide the real and imaginary parts. `np.abs()` and `np.angle()` provide amplitude and phase. `np.conj()` gives the complex conjugate."
   ]
  },
  {
   "cell_type": "markdown",
   "metadata": {
    "deletable": false,
    "editable": false,
    "nbgrader": {
     "cell_type": "markdown",
     "checksum": "619caf397f6a5d2dd9a1d4ebadc70da7",
     "grade": false,
     "grade_id": "ft-understand-q1",
     "locked": true,
     "schema_version": 3,
     "solution": false
    }
   },
   "source": [
    "**a)** Transform the image `dolly.png` into the frequency space (you may use the function\n",
    "`numpy.fft.fft2`). The result will be a complex matrix. Plot histograms for the amplitude and phase\n",
    "values. You may take the logarithm of the amplitude to enhance contrast."
   ]
  },
  {
   "cell_type": "code",
   "execution_count": null,
   "metadata": {
    "deletable": false,
    "nbgrader": {
     "cell_type": "code",
     "checksum": "b70679356380f43ae4f4a955c2a5571c",
     "grade": true,
     "grade_id": "ft-understand-a1",
     "locked": false,
     "points": 1,
     "schema_version": 3,
     "solution": true
    }
   },
   "outputs": [],
   "source": [
    "%matplotlib inline\n",
    "import numpy as np\n",
    "import matplotlib.pyplot as plt\n",
    "\n",
    "img = plt.imread('images/dolly.png')\n",
    "\n",
    "# YOUR CODE HERE\n",
    "\n",
    "def plot_hist(data, bar_width):\n",
    "    # heights --> #elements in the bins\n",
    "    # bins    --> value ranges for bins\n",
    "    heights, bins = np.histogram(data, bins=50)\n",
    "    # bins has one additional element --> [:-1]\n",
    "    plt.bar(bins[:-1], heights, width=bar_width)\n",
    "\n",
    "# computes the n-dimensional discrete Fourier transform\n",
    "ft = np.fft.fft2(img)\n",
    "amplitude = np.abs(ft)\n",
    "log_amplitude = np.log(amplitude)\n",
    "phase = np.angle(ft)\n",
    "\n",
    "# generate plots\n",
    "plt.figure(figsize=(15, 10))\n",
    "plt.gray()\n",
    "\n",
    "plt.subplot(2, 3, 1); plt.title('original img'); plt.imshow(img)\n",
    "plt.subplot(2, 3, 2); plt.title('log amplitude'); plt.imshow(log_amplitude)\n",
    "plt.subplot(2, 3, 3); plt.title('amplitude histogram'); plot_hist(amplitude, 2000)\n",
    "plt.subplot(2, 3, 4); plt.title('log amplitude histogram'); plot_hist(log_amplitude, 0.2)\n",
    "plt.subplot(2, 3, 5); plt.title('phase'); plt.imshow(phase)\n",
    "plt.subplot(2, 3, 6); plt.title('phase histogram'); plot_hist(phase, 0.085)\n",
    "\n",
    "plt.show()"
   ]
  },
  {
   "cell_type": "code",
   "execution_count": null,
   "metadata": {},
   "outputs": [],
   "source": []
  },
  {
   "cell_type": "markdown",
   "metadata": {
    "deletable": false,
    "editable": false,
    "nbgrader": {
     "cell_type": "markdown",
     "checksum": "73e109bc4df66731a67b8597d496443b",
     "grade": false,
     "grade_id": "ft-understand-q2",
     "locked": true,
     "schema_version": 3,
     "solution": false
    }
   },
   "source": [
    "**b)** Display the amplitude and phase in separate images. You may again take the logarithm of\n",
    "the amplitude to enhance the contrast. You may also center the base frequency (see function `numpy.fft.fftshift`). Compare your results with CV-09, slide 33."
   ]
  },
  {
   "cell_type": "code",
   "execution_count": null,
   "metadata": {
    "deletable": false,
    "nbgrader": {
     "cell_type": "code",
     "checksum": "542150ec416d9663f84551ebfc6e8821",
     "grade": true,
     "grade_id": "ft-understand-a2",
     "locked": false,
     "points": 2,
     "schema_version": 3,
     "solution": true
    }
   },
   "outputs": [],
   "source": [
    "%matplotlib inline\n",
    "import numpy as np\n",
    "import matplotlib.pyplot as plt\n",
    "\n",
    "img = plt.imread('images/dolly.png')\n",
    "\n",
    "# YOUR CODE HERE\n",
    "\n",
    "# computes the n-dimensional discrete Fourier transform\n",
    "ft = np.fft.fft2(img)\n",
    "amplitude = np.abs(ft)\n",
    "center_base_log_amplitude = np.fft.fftshift(np.log(amplitude))\n",
    "phase = np.angle(ft)\n",
    "\n",
    "# generate plots\n",
    "plt.figure(figsize=(15, 10))\n",
    "plt.gray()\n",
    "\n",
    "plt.subplot(2, 2, 1); plt.title('original img'); plt.imshow(img)\n",
    "plt.subplot(2, 2, 2); plt.title('phase img'); plt.imshow(phase)\n",
    "plt.subplot(2, 2, 3); plt.title('amplitude img'); plt.imshow(amplitude)\n",
    "plt.subplot(2, 2, 4); plt.title('center base log amplitude'); plt.imshow(center_base_log_amplitude)\n",
    "\n",
    "plt.show()"
   ]
  },
  {
   "cell_type": "markdown",
   "metadata": {
    "deletable": false,
    "editable": false,
    "nbgrader": {
     "cell_type": "markdown",
     "checksum": "091057426fed8f92d84823bd6af6b740",
     "grade": false,
     "grade_id": "cell-85ec5f02796b3c64",
     "locked": true,
     "schema_version": 3,
     "solution": false
    }
   },
   "source": [
    "**c)** Transform the image back from the frequency space to the image space (again using `fft2`).\n",
    "What do you observe? Explain and repair the result."
   ]
  },
  {
   "cell_type": "code",
   "execution_count": null,
   "metadata": {
    "deletable": false,
    "nbgrader": {
     "cell_type": "code",
     "checksum": "cd35acb363cb0e4d943c0e4be19f32a4",
     "grade": true,
     "grade_id": "cell-f90298e96bac4886",
     "locked": false,
     "points": 1,
     "schema_version": 3,
     "solution": true
    }
   },
   "outputs": [],
   "source": [
    "%matplotlib inline\n",
    "import numpy as np\n",
    "import matplotlib.pyplot as plt\n",
    "\n",
    "img = plt.imread('images/dolly.png')\n",
    "\n",
    "# YOUR CODE HERE\n",
    "\n",
    "# computes the n-dimensional discrete Fourier transform\n",
    "ft = np.fft.fft2(img)\n",
    "# apply FT to the resulting FT img\n",
    "restored = np.abs(np.fft.fft2(ft))\n",
    "\n",
    "# generate plots\n",
    "plt.figure(figsize=(15, 10))\n",
    "plt.gray()\n",
    "\n",
    "plt.subplot(1, 3, 1); plt.title('original img'); plt.imshow(img)\n",
    "plt.subplot(1, 3, 2); plt.title('restored'); plt.imshow(restored)\n",
    "plt.subplot(1, 3, 3); plt.title('restored + repaired'); plt.imshow(np.fliplr(np.flipud(restored)))\n",
    "\n",
    "plt.show()"
   ]
  },
  {
   "cell_type": "markdown",
   "metadata": {
    "deletable": false,
    "nbgrader": {
     "cell_type": "markdown",
     "checksum": "81249d314f16f66908a89325519f22bf",
     "grade": true,
     "grade_id": "cell-84dbf217ef2fc5a5",
     "locked": false,
     "points": 1,
     "schema_version": 3,
     "solution": true,
     "task": false
    }
   },
   "source": [
    "One 2D-DFT property is that if you apply it twice, you end up with the original signal flipped (horizontally and vertically).  \n",
    "We fix it by flipping it back horizontally and vertically."
   ]
  },
  {
   "cell_type": "markdown",
   "metadata": {
    "deletable": false,
    "editable": false,
    "nbgrader": {
     "cell_type": "markdown",
     "checksum": "b89bb9d2500a3f7abc3db3e1a01b3702",
     "grade": false,
     "grade_id": "cell-99951c601b6ce294",
     "locked": true,
     "schema_version": 3,
     "solution": false
    }
   },
   "source": [
    "**d)** Now restore the image, but only keep the amplitude and vary the phase. Try fixed phase\n",
    "values (0, $\\pi/2$,. . . ), a random phase matrix, or a noisy version of the original phase values."
   ]
  },
  {
   "cell_type": "code",
   "execution_count": null,
   "metadata": {
    "deletable": false,
    "nbgrader": {
     "cell_type": "code",
     "checksum": "e11820f2e6f5c3c587c92a94f7c6ba06",
     "grade": true,
     "grade_id": "cell-1fce27ce15d69d4f",
     "locked": false,
     "points": 1,
     "schema_version": 3,
     "solution": true
    }
   },
   "outputs": [],
   "source": [
    "%matplotlib inline\n",
    "import numpy as np\n",
    "import matplotlib.pyplot as plt\n",
    "\n",
    "img = plt.imread('images/dollySquared.jpg')\n",
    "\n",
    "# YOUR CODE HERE\n",
    "ft = np.fft.fft2(img)\n",
    "amplitude = np.abs(ft)\n",
    "phase = np.angle(ft)\n",
    "\n",
    "phases = []\n",
    "phases.append((phase, \"original phase\"))\n",
    "phases.append((np.zeros(phase.shape), \"zero phase\"))\n",
    "phases.append((np.ones(phase.shape) * np.pi / 2, \"pi/2 phase\"))\n",
    "phases.append((np.random.rand(*phase.shape) * 2 * np.pi, \"random phase\"))\n",
    "phases.append((phase + np.random.rand(*phase.shape) * 2, \"phase + noise\"))\n",
    "\n",
    "plt.figure(figsize=(12, 16)); plt.gray()\n",
    "plt.subplot(3, 2, 1); plt.axis('off'); plt.imshow(img); plt.title('original img')\n",
    "\n",
    "for i, (phase_val, title) in enumerate(phases):\n",
    "    ft = amplitude * np.exp(1j * phase_val)\n",
    "    img = np.abs(np.fft.ifft2(ft))\n",
    "    plt.subplot(3, 2, 2+i); plt.axis('off'); plt.title(title)\n",
    "    plt.imshow(img)\n",
    "\n",
    "plt.show()"
   ]
  },
  {
   "cell_type": "markdown",
   "metadata": {
    "deletable": false,
    "editable": false,
    "nbgrader": {
     "cell_type": "markdown",
     "checksum": "b360e3b148f5d580e8385b9004c38aa1",
     "grade": false,
     "grade_id": "cell-200bf23f94b4f4e4",
     "locked": true,
     "schema_version": 3,
     "solution": false
    }
   },
   "source": [
    "**e)** We do the same, but now we keep the phase while varying the amplitude values, i.e. constant,\n",
    "amplitude, randomly distributed amplitudes and noisy versions of the the original values.\n",
    "\n",
    "Explain the results!\n"
   ]
  },
  {
   "cell_type": "code",
   "execution_count": null,
   "metadata": {
    "deletable": false,
    "editable": false,
    "nbgrader": {
     "cell_type": "code",
     "checksum": "67fda4823eb0d072cffc0cf7ae628c4e",
     "grade": false,
     "grade_id": "cell-1ee06f93fcdda2e1",
     "locked": true,
     "schema_version": 3,
     "solution": false
    }
   },
   "outputs": [],
   "source": [
    "%matplotlib inline\n",
    "import numpy as np\n",
    "import matplotlib.pyplot as plt\n",
    "\n",
    "img = plt.imread('images/dolly.png')\n",
    "\n",
    "# Perform (fast) Fourier transform\n",
    "ft = np.fft.fft2(img)\n",
    "\n",
    "# Get amplitude and phase\n",
    "amplitude = np.abs(ft)\n",
    "phase = np.angle(ft)\n",
    "\n",
    "amplitudes = []\n",
    "amplitudes.append((amplitude, \"original amplitude\"))\n",
    "amplitudes.append((np.zeros(amplitude.shape), \"zero amplitude\"))\n",
    "amplitudes.append((np.ones(amplitude.shape) * amplitude.max(), \"constant amplitude\"))\n",
    "amplitudes.append((np.random.rand(*amplitude.shape), \"random amplitude\"))\n",
    "amplitudes.append((amplitude, \"original amplitude\"))\n",
    "\n",
    "plt.figure(figsize=(12, 16)); plt.gray()\n",
    "plt.subplot(3, 2, 1); plt.axis('off'); plt.imshow(img); plt.title('Original')\n",
    "\n",
    "for i, (amp, tit) in enumerate(amplitudes):\n",
    "    ft0 = amp * np.exp(1j * phase)\n",
    "    img0 = np.abs(np.fft.ifft2(ft0))\n",
    "    plt.subplot(3, 2, 2+i); plt.axis('off'); plt.title(tit)\n",
    "    plt.imshow(img0)\n",
    "\n",
    "plt.show()"
   ]
  },
  {
   "cell_type": "markdown",
   "metadata": {
    "deletable": false,
    "nbgrader": {
     "cell_type": "markdown",
     "checksum": "c0d6e0221bbceea86a397ced65804898",
     "grade": true,
     "grade_id": "cell-acdb8260ee0db9b3",
     "locked": false,
     "points": 1,
     "schema_version": 3,
     "solution": true
    }
   },
   "source": [
    "The phase is more important than the amplitude; destroying the phase would destroy all structure in the image.  \n",
    "The amplitude controls the overall brightness in the image. Since we have the true phase in all cases,  \n",
    "we see the structure of the image in each case for which the amplitude leads to an image that is bright enough to recognize the structure.\n",
    "\n",
    "- img2 and img6: original phase + original amplitude --> perfect reconstruction\n",
    "- img3: zero everywhere --> only black pixels\n",
    "- img4 and img5: amplitude leads to high enough brightness to recognize the structure"
   ]
  },
  {
   "cell_type": "markdown",
   "metadata": {
    "deletable": false,
    "editable": false,
    "nbgrader": {
     "cell_type": "markdown",
     "checksum": "d550eacd8d32efe367637f9d8f478c56",
     "grade": false,
     "grade_id": "ft-impl",
     "locked": true,
     "schema_version": 3,
     "solution": false
    }
   },
   "source": [
    "## Exercise 2: Implementing Fourier Transform [6 points]"
   ]
  },
  {
   "cell_type": "markdown",
   "metadata": {
    "deletable": false,
    "editable": false,
    "nbgrader": {
     "cell_type": "markdown",
     "checksum": "06ad5784d1afecd6e2c76fe21f29c9e4",
     "grade": false,
     "grade_id": "ft-impl-q1",
     "locked": true,
     "schema_version": 3,
     "solution": false
    }
   },
   "source": [
    "**a)** \n",
    "Explain in your own words the idea of Fourier transform. What is the frequency space? What does a point in that space represent?"
   ]
  },
  {
   "cell_type": "markdown",
   "metadata": {
    "deletable": false,
    "nbgrader": {
     "cell_type": "markdown",
     "checksum": "190791c0ffc6d7a9208407e204eb370b",
     "grade": true,
     "grade_id": "ft-impl-a1",
     "locked": false,
     "points": 1,
     "schema_version": 3,
     "solution": true
    },
    "solution": true
   },
   "source": [
    "The **Fourier transform** is a mathematical tool that transforms (global operation) the given information (image) into another domain.  \n",
    "In our case, using it for images, we transform the information from the spatial domain into the frequency domain.  \n",
    "Sometimes the frequency space enables more efficient computations, e.g. for convolutions.\n",
    "\n",
    "So, the Fourier transform transforms the signal into the frequency space, where it is a sum (or integral) of sine waves of different frequencies,\n",
    "each of which represents a frequency component.  \n",
    "A point in that space would be a combination of weighted functions (sin / cos curves).\n"
   ]
  },
  {
   "cell_type": "markdown",
   "metadata": {
    "deletable": false,
    "editable": false,
    "nbgrader": {
     "cell_type": "markdown",
     "checksum": "f4f972b9200fb8c67449a8df7b81cdd8",
     "grade": false,
     "grade_id": "ft-impl-q2",
     "locked": true,
     "schema_version": 3,
     "solution": false
    }
   },
   "source": [
    "**b)** First implement a one-dimensional discrete version of Fourier transform, i.e. use the formula\n",
    "$ c_n = \\sum_{x=0}^{L-1} f(x)\\cdot e^{-\\tfrac{2\\pi i\\cdot n}{L}\\cdot x} \\qquad$ for $n=0,\\ldots,L-1$\n",
    "for complex valued coefficients.\n",
    "\n",
    "Plot the graph and the results of your Fourier transform, using the Matplotlib function `plot()`, for different functions. Compare your results with the output of the function `numpy.fft.fft`."
   ]
  },
  {
   "cell_type": "code",
   "execution_count": null,
   "metadata": {
    "deletable": false,
    "nbgrader": {
     "cell_type": "code",
     "checksum": "23e9173442dac76d5214dccb2e4e2641",
     "grade": true,
     "grade_id": "cell-ft-impl-a2",
     "locked": false,
     "points": 2,
     "schema_version": 3,
     "solution": true
    }
   },
   "outputs": [],
   "source": [
    "%matplotlib inline\n",
    "import numpy as np\n",
    "from scipy import misc\n",
    "import matplotlib.pyplot as plt\n",
    "\n",
    "\n",
    "def fourier1d(func):\n",
    "    \"\"\"\n",
    "    Perform a discrete 1D Fourier transform.\n",
    "    \n",
    "    Args:\n",
    "        func (ndarray): 1-D array containing the function values.\n",
    "    \n",
    "    Returns:\n",
    "        ndarray (complex): The Fourier transformed function.\n",
    "    \"\"\"\n",
    "    ft = np.zeros(func.shape, dtype=np.complex)\n",
    "\n",
    "    # YOUR CODE HERE\n",
    "\n",
    "    L = len(func)\n",
    "    \n",
    "    for n in range(L):\n",
    "        s = 0\n",
    "        for x in range(L):\n",
    "            s += func[x] * np.exp(-2 * np.pi * 1j * n * x / L)\n",
    "        ft[n] = s\n",
    "    return ft\n",
    "\n",
    "\n",
    "# number of points\n",
    "L = np.arange(100)\n",
    "\n",
    "\n",
    "def gaussian(x, mu, sig):\n",
    "    return np.exp(-np.power(x - mu, 2.) / (2 * np.power(sig, 2.)))\n",
    "\n",
    "\n",
    "func = np.sin(2 * np.pi * L / len(L))\n",
    "#func = np.zeros(L.shape)\n",
    "#func[40:60] = 1\n",
    "#func = gaussian(L, 0, 10)\n",
    "\n",
    "# Own implementation.\n",
    "ft = fourier1d(func)\n",
    "plt.figure(figsize=(12, 8))\n",
    "plt.suptitle('Own implementation');\n",
    "plt.subplot(1, 3, 1); plt.plot(L, func); plt.title('Function')\n",
    "plt.subplot(1, 3, 2); plt.plot(L, np.abs(ft)); plt.title('FT (Amplitude)')\n",
    "plt.subplot(1, 3, 3); plt.plot(L, np.angle(ft)); plt.title('FT (Phase)')\n",
    "plt.show()\n",
    "\n",
    "# Numpy implementation.\n",
    "ft = np.fft.fft(func)\n",
    "\n",
    "plt.figure(figsize=(12, 8))\n",
    "plt.suptitle('Numpy implementation (FFT)')\n",
    "plt.subplot(1, 3, 1); plt.plot(L, func); plt.title('Function')\n",
    "plt.subplot(1, 3, 2); plt.plot(L, np.abs(ft)); plt.title('FT (Amplitude)')\n",
    "plt.subplot(1, 3, 3); plt.plot(L, np.angle(ft)); plt.title('FT (Phase)')\n",
    "plt.show()"
   ]
  },
  {
   "cell_type": "markdown",
   "metadata": {
    "deletable": false,
    "editable": false,
    "nbgrader": {
     "cell_type": "markdown",
     "checksum": "74881dd33c8cdbd84c81c856ed204d38",
     "grade": false,
     "grade_id": "cell-d47f76dd5d23a43b",
     "locked": true,
     "schema_version": 3,
     "solution": false
    }
   },
   "source": [
    "**c)** Now implement a 2-dimensional version of Fourier transform for images, using the formula from the lecture. Compare your result with the output of `fft2`.  \n",
    "![](images/FT.png)"
   ]
  },
  {
   "cell_type": "code",
   "execution_count": null,
   "metadata": {
    "deletable": false,
    "nbgrader": {
     "cell_type": "code",
     "checksum": "138b54a39ec736924116d364c6280491",
     "grade": true,
     "grade_id": "cell-054ba109930f9f84",
     "locked": false,
     "points": 3,
     "schema_version": 3,
     "solution": true
    }
   },
   "outputs": [],
   "source": [
    "%matplotlib inline\n",
    "import numpy as np\n",
    "import matplotlib.pyplot as plt\n",
    "\n",
    "\n",
    "def fourier2d(img):\n",
    "    \"\"\"\n",
    "    Perform discrete 2D Fourier transform of a given image.\n",
    "    \n",
    "    Args:\n",
    "        img (ndarray): Input image.\n",
    "        \n",
    "    Returns:\n",
    "    \n",
    "    \"\"\"\n",
    "    ft = np.zeros(img.shape, dtype=np.complex)\n",
    "\n",
    "    # YOUR CODE HERE\n",
    "    M, N = img.shape\n",
    "    x, y = np.meshgrid(np.arange(M), np.arange(N))\n",
    "\n",
    "    for u in range(M):\n",
    "        for v in range(N):\n",
    "            s = 0\n",
    "            # too slow - but that's the idea:\n",
    "            # for x in range(M):\n",
    "            #    for y in range(N):\n",
    "            #        s += img[x][y] * np.exp(-1j * 2 * np.pi * (u * x / M + v * y / N))\n",
    "            # ft[u][v] = s\n",
    "\n",
    "            # more efficient - using meshgrid to create a rectangular grid out of an array \n",
    "            # of x values and an array of y values\n",
    "            ft[u][v] = np.sum(img[x, y] * np.exp(-1j * 2 * np.pi * (u * x / M + v * y / N)))\n",
    "\n",
    "    return ft\n",
    "\n",
    "\n",
    "# Now (visually) compare your results with np.fft.fft2\n",
    "img = plt.imread('images/dolly.png')[250:400, 250:400]\n",
    "\n",
    "# YOUR CODE HERE\n",
    "\n",
    "ft = np.fft.fft2(img)\n",
    "log_amplitude = np.log(np.abs(ft))\n",
    "phase = np.angle(ft)\n",
    "reconstruction = np.real(np.fft.ifft2(ft))\n",
    "\n",
    "own_ft = fourier2d(img)\n",
    "own_log_amplitude = np.log(np.abs(own_ft))\n",
    "own_phase = np.angle(own_ft)\n",
    "own_reconstruction = np.real(np.fft.ifft2(own_ft))\n",
    "\n",
    "plt.figure(figsize=(14, 8))\n",
    "plt.gray()\n",
    "\n",
    "plt.subplot(2, 3, 1); plt.title('fft2 phase'); plt.imshow(phase)\n",
    "plt.subplot(2, 3, 2); plt.title('fft2 log amplitude'); plt.imshow(log_amplitude)\n",
    "plt.subplot(2, 3, 3); plt.title('fft2 reconstruction'); plt.imshow(reconstruction)\n",
    "plt.subplot(2, 3, 4); plt.title('own phase'); plt.imshow(own_phase)\n",
    "plt.subplot(2, 3, 5); plt.title('own amplitude'); plt.imshow(own_log_amplitude)\n",
    "plt.subplot(2, 3, 6); plt.title('own reconstruction'); plt.imshow(own_reconstruction)\n",
    "\n",
    "plt.show()"
   ]
  },
  {
   "cell_type": "markdown",
   "metadata": {
    "deletable": false,
    "editable": false,
    "nbgrader": {
     "cell_type": "markdown",
     "checksum": "3a02b60fda66749a2a33d9fd87f3ce6b",
     "grade": false,
     "grade_id": "ft-conv",
     "locked": true,
     "schema_version": 3,
     "solution": false
    }
   },
   "source": [
    "## Exercise 3: Convolution theorem [7 points]"
   ]
  },
  {
   "cell_type": "markdown",
   "metadata": {
    "deletable": false,
    "editable": false,
    "nbgrader": {
     "cell_type": "markdown",
     "checksum": "7953ee98871e3a5e6ab77b8616ec68bb",
     "grade": false,
     "grade_id": "ft-conv-q1",
     "locked": true,
     "schema_version": 3,
     "solution": false
    }
   },
   "source": [
    "**a)** What does the convolution theorem state and what are its practical consequences?"
   ]
  },
  {
   "cell_type": "markdown",
   "metadata": {
    "deletable": false,
    "nbgrader": {
     "cell_type": "markdown",
     "checksum": "399c9337dde4ed3f6a83290ebc46873e",
     "grade": true,
     "grade_id": "ft-conv-a1",
     "locked": false,
     "points": 1,
     "schema_version": 3,
     "solution": true
    },
    "solution": true
   },
   "source": [
    "The **convolution theorem** states that under suitable conditions the Fourier transform of a convolution of two signals\n",
    "is the pointwise product of their Fourier transforms.  \n",
    "Put simply, a **convolution in the spatial domain** corresponds to a **multiplication in Fourier space** (i.e. frequency domain).  \n",
    "The practical consequence is that if the kernel used for a convolution is very large, it may be more efficient to perform the corresponding multiplication in Fourier space."
   ]
  },
  {
   "cell_type": "markdown",
   "metadata": {
    "deletable": false,
    "editable": false,
    "nbgrader": {
     "cell_type": "markdown",
     "checksum": "303625636603e2cb9bb7568cf9d14f6d",
     "grade": false,
     "grade_id": "ft-conv-q2",
     "locked": true,
     "schema_version": 3,
     "solution": false
    }
   },
   "source": [
    "**b)**\n",
    "When introducing convolution, we have discussed different methods to deal with boundary pixels. From the perspective of Fourier analysis, what is the natural way to deal with this problem?"
   ]
  },
  {
   "cell_type": "markdown",
   "metadata": {
    "deletable": false,
    "nbgrader": {
     "cell_type": "markdown",
     "checksum": "31af2d8a591a8ae7f383647081b82048",
     "grade": true,
     "grade_id": "ft-conv-a2",
     "locked": false,
     "points": 1,
     "schema_version": 3,
     "solution": true
    },
    "solution": true
   },
   "source": [
    "A natural way to handle the boundary problem would be a **periodic extension** of the image."
   ]
  },
  {
   "cell_type": "markdown",
   "metadata": {
    "deletable": false,
    "editable": false,
    "nbgrader": {
     "cell_type": "markdown",
     "checksum": "3953e120b7dd3c8cdc96e3d1f433aeb7",
     "grade": false,
     "grade_id": "ft-conv-q3",
     "locked": true,
     "schema_version": 3,
     "solution": false
    }
   },
   "source": [
    "**c)** What is the complexity for computing a convolution using the convolution theorem? Compare this with your complexity results from sheet 01, Assignment 1(c).\n"
   ]
  },
  {
   "cell_type": "markdown",
   "metadata": {
    "deletable": false,
    "nbgrader": {
     "cell_type": "markdown",
     "checksum": "a10212624f0ebd25f06500028df643e2",
     "grade": true,
     "grade_id": "ft-conv-a3",
     "locked": false,
     "points": 1,
     "schema_version": 3,
     "solution": true
    },
    "solution": "shown"
   },
   "source": [
    "$n \\times n$ img, $m \\times m$ kernel  \n",
    "\n",
    "**Using convolution theorem - $4$ steps:**\n",
    "- FT of image: $O(n^2 \\log n)$\n",
    "- FT of kernel: $O(m^2 \\log m)$\n",
    "- multiplication in FT space: $O(n^2)$\n",
    "- transform back to image space: $O(n^2 \\log n)$  \n",
    "\n",
    "$\\rightarrow O(n^2 \\log n)$\n",
    "\n",
    "**In the image space (not using convolution theorem):**  \n",
    "\n",
    "$O(m^2)$ for each of the $n^2$ pixels and therefore $O(n^2 \\cdot m^2)$\n",
    "\n",
    "Therefore, using the convolution theorem is worthwhile for big kernel sizes."
   ]
  },
  {
   "cell_type": "markdown",
   "metadata": {
    "deletable": false,
    "editable": false,
    "nbgrader": {
     "cell_type": "markdown",
     "checksum": "4e5009e13354bbe28deafde2c5efd988",
     "grade": false,
     "grade_id": "ft-conv-q4",
     "locked": true,
     "schema_version": 3,
     "solution": false
    }
   },
   "source": [
    "**d)** Proof the convolution theorem."
   ]
  },
  {
   "cell_type": "markdown",
   "metadata": {
    "deletable": false,
    "nbgrader": {
     "cell_type": "markdown",
     "checksum": "80a0c6468a6b4ac2b34a7f3f914e019d",
     "grade": true,
     "grade_id": "ft-conv-a4",
     "locked": false,
     "points": 4,
     "schema_version": 3,
     "solution": true
    },
    "solution": "shown"
   },
   "source": [
    "YOUR ANSWER HERE"
   ]
  },
  {
   "cell_type": "markdown",
   "metadata": {
    "deletable": false,
    "editable": false,
    "nbgrader": {
     "cell_type": "markdown",
     "checksum": "bc6f4a7f7c76740177177a99ade8f63e",
     "grade": false,
     "grade_id": "cell-286986cc382edaf8",
     "locked": true,
     "schema_version": 3,
     "solution": false
    }
   },
   "source": [
    "## Exercise 4: Applying Fourier Transform [Bonus]\n",
    "\n",
    "If you solve this exercise you may leave out one of the other exercises.\n"
   ]
  },
  {
   "cell_type": "markdown",
   "metadata": {
    "deletable": false,
    "editable": false,
    "nbgrader": {
     "cell_type": "markdown",
     "checksum": "ebbcd1f5b83f67d10ccfeab59c54f857",
     "grade": false,
     "grade_id": "cell-286986cc382edaf82",
     "locked": true,
     "schema_version": 3,
     "solution": false
    }
   },
   "source": [
    "**a)** In order to apply the Custom Structuring Element to our satelite image in Assignment 4 of Sheet 3 we had to rotate the image. We had to measure the rotation angle by hand. We can now do this automatically via Fourier Transform.\n",
    "\n",
    "1. Apply Fourier transform to the `img_gray`. The resulting amplitude should show the angle of the black lines.\n",
    "\n",
    "1. Try to automatically get the rotation angle from the Fourier space. There are different ways to achieve this.\n",
    "   Hints:\n",
    "   * You may threshold the amplitudes, to only keep “relevant” values. You can then compute the angle of the largest relevant value.\n",
    "   * Alternatively, you may apply methods you know from other lectures to get the main component and compute its angle.\n",
    "\n",
    "1. Rotate the image back to its originally intended orientation (`skimage.transform.rotate`)."
   ]
  },
  {
   "cell_type": "code",
   "execution_count": null,
   "metadata": {
    "deletable": false,
    "nbgrader": {
     "cell_type": "code",
     "checksum": "77850c50bd0a72a95800edac21db6622",
     "grade": true,
     "grade_id": "cell-6f07e17666452929",
     "locked": false,
     "points": 0,
     "schema_version": 3,
     "solution": true
    }
   },
   "outputs": [],
   "source": [
    "%matplotlib inline\n",
    "import numpy as np\n",
    "from skimage import color\n",
    "from skimage.transform import hough_line\n",
    "from skimage.transform import rotate\n",
    "import matplotlib.pyplot as plt\n",
    "\n",
    "img = plt.imread('images/landsat_stack2.png')\n",
    "img_gray = color.rgb2gray(img)\n",
    "\n",
    "# YOUR CODE HERE\n",
    "\n",
    "plt.show()"
   ]
  },
  {
   "cell_type": "markdown",
   "metadata": {
    "deletable": false,
    "editable": false,
    "nbgrader": {
     "cell_type": "markdown",
     "checksum": "37bfcfde594596ea057ba9bb37310454",
     "grade": false,
     "grade_id": "cell-1d177ce35f4eb5e9",
     "locked": true,
     "schema_version": 3,
     "solution": false
    }
   },
   "source": [
    "**b)** Can you think of other applications of Fourier Transform in Computer Vision?"
   ]
  },
  {
   "cell_type": "markdown",
   "metadata": {
    "deletable": false,
    "nbgrader": {
     "cell_type": "markdown",
     "checksum": "3e94982a7271bb2b46012a84896da003",
     "grade": true,
     "grade_id": "cell-64e6c7b601c26f9c",
     "locked": false,
     "points": 0,
     "schema_version": 3,
     "solution": true
    }
   },
   "source": [
    "YOUR ANSWER HERE"
   ]
  }
 ],
 "metadata": {
  "kernelspec": {
   "display_name": "Python 3.8.6 64-bit ('cv': conda)",
   "language": "python",
   "name": "python38664bitcvcondace24c6b5e63f40158ccc45b6baeafab5"
  },
  "language_info": {
   "codemirror_mode": {
    "name": "ipython",
    "version": 3
   },
   "file_extension": ".py",
   "mimetype": "text/x-python",
   "name": "python",
   "nbconvert_exporter": "python",
   "pygments_lexer": "ipython3",
   "version": "3.8.6-final"
  }
 },
 "nbformat": 4,
 "nbformat_minor": 4
}