{
 "cells": [
  {
   "cell_type": "markdown",
   "metadata": {
    "deletable": false,
    "editable": false,
    "nbgrader": {
     "cell_type": "markdown",
     "checksum": "30e3525eb62c9b32d60179c06bbecbe0",
     "grade": false,
     "grade_id": "h01",
     "locked": true,
     "schema_version": 3,
     "solution": false
    },
    "solution": "hidden"
   },
   "source": [
    "Osnabrück University - Computer Vision (Winter Term 2020/21) - Prof. Dr.-Ing. G. Heidemann, Ulf Krumnack, Axel Schaffland"
   ]
  },
  {
   "cell_type": "markdown",
   "metadata": {
    "deletable": false,
    "editable": false,
    "nbgrader": {
     "cell_type": "markdown",
     "checksum": "b1196401b994013b2a6c66646e809657",
     "grade": false,
     "grade_id": "h02",
     "locked": true,
     "schema_version": 3,
     "solution": false
    }
   },
   "source": [
    "# Exercise Sheet 03: Morphological Operations¶"
   ]
  },
  {
   "cell_type": "markdown",
   "metadata": {
    "deletable": false,
    "editable": false,
    "nbgrader": {
     "cell_type": "markdown",
     "checksum": "6ffecc61cd004abb1259c20cc4d5c262",
     "grade": false,
     "grade_id": "h03",
     "locked": true,
     "schema_version": 3,
     "solution": false
    }
   },
   "source": [
    "## Introduction\n",
    "\n",
    "This week's sheet should be solved and handed in before the end of **Saturday, November 21, 2020**. If you need help (and Google and other resources were not enough), feel free to contact your groups' designated tutor or whomever of us you run into first. Please upload your results to your group's Stud.IP folder."
   ]
  },
  {
   "cell_type": "markdown",
   "metadata": {
    "deletable": false,
    "editable": false,
    "nbgrader": {
     "cell_type": "markdown",
     "checksum": "131763ef23b4d6fd8bcb626468c6c634",
     "grade": false,
     "grade_id": "math-complex",
     "locked": true,
     "schema_version": 3,
     "solution": false
    }
   },
   "source": [
    "## Assignment 0: Math recap (complex numbers) [0 Points]\n",
    "\n",
    "This exercise is supposed to be very easy, does not give any points, and is voluntary. There will be a similar exercise on every sheet. It is intended to revise some basic mathematical notions that are assumed throughout this class and to allow you to check if you are comfortable with them. Usually you should have no problem to answer these questions offhand, but if you feel unsure, this is a good time to look them up again. You are always welcome to discuss questions with the tutors or in the practice session. Also, if you have a (math) topic you would like to recap, please let us know."
   ]
  },
  {
   "cell_type": "markdown",
   "metadata": {
    "deletable": false,
    "editable": false,
    "nbgrader": {
     "cell_type": "markdown",
     "checksum": "e2b54d29e72e6ae1c80ce2ca76794c23",
     "grade": false,
     "grade_id": "math-complex-q1",
     "locked": true,
     "schema_version": 3,
     "solution": false
    }
   },
   "source": [
    "**a)** What is a *complex number*, what is the *complex plane*, how are complex numbers usually denoted?"
   ]
  },
  {
   "cell_type": "markdown",
   "metadata": {
    "collapsed": true,
    "deletable": false,
    "nbgrader": {
     "cell_type": "markdown",
     "checksum": "ec05f3e7aa3c1e9c5a038201ee5ec951",
     "grade": true,
     "grade_id": "math-complex-a1",
     "locked": false,
     "points": 0,
     "schema_version": 3,
     "solution": true
    },
    "solution": "shown"
   },
   "source": [
    "YOUR ANSWER HERE"
   ]
  },
  {
   "cell_type": "markdown",
   "metadata": {
    "deletable": false,
    "editable": false,
    "nbgrader": {
     "cell_type": "markdown",
     "checksum": "ccfe5449d902c925509009359358a4c4",
     "grade": false,
     "grade_id": "math-complex-q2",
     "locked": true,
     "schema_version": 3,
     "solution": false
    }
   },
   "source": [
    "**b)** What is the *real* and the *imaginary* part of a complex number? What is the *absolute value* of a complex number? What is the *complex conjugate*?"
   ]
  },
  {
   "cell_type": "markdown",
   "metadata": {
    "collapsed": true,
    "deletable": false,
    "nbgrader": {
     "cell_type": "markdown",
     "checksum": "3472240c0d0e5b839d417858856dc9f6",
     "grade": true,
     "grade_id": "math-complex-a2",
     "locked": false,
     "points": 0,
     "schema_version": 3,
     "solution": true
    },
    "solution": "shown"
   },
   "source": [
    "YOUR ANSWER HERE"
   ]
  },
  {
   "cell_type": "markdown",
   "metadata": {
    "deletable": false,
    "editable": false,
    "nbgrader": {
     "cell_type": "markdown",
     "checksum": "af79ffaa0b22f0cc6e7489a45b5feb9e",
     "grade": false,
     "grade_id": "math-complex-q3",
     "locked": true,
     "schema_version": 3,
     "solution": false
    }
   },
   "source": [
    "**c)** What are polar coordinates? What are their advantages? Can you convert between cartesian and polar coordinates? Can you write down $i=\\sqrt{-1}$ in polar coordinates? What about $\\sqrt{i}$?"
   ]
  },
  {
   "cell_type": "markdown",
   "metadata": {
    "collapsed": true,
    "deletable": false,
    "nbgrader": {
     "cell_type": "markdown",
     "checksum": "0226c6277f0ff47ebdd6e41d516300ac",
     "grade": true,
     "grade_id": "math-complex-a3",
     "locked": false,
     "points": 0,
     "schema_version": 3,
     "solution": true
    },
    "solution": "shown"
   },
   "source": [
    "YOUR ANSWER HERE"
   ]
  },
  {
   "cell_type": "markdown",
   "metadata": {
    "deletable": false,
    "editable": false,
    "nbgrader": {
     "cell_type": "markdown",
     "checksum": "d8422e71a9d99084096779c8fb9f0251",
     "grade": false,
     "grade_id": "math-complex-q4",
     "locked": true,
     "schema_version": 3,
     "solution": false
    }
   },
   "source": [
    "**d)** Python, and also numpy, support calculations with complex numbers. Consult the documentation to find out details. Notice that $i$ is substituted by $j$ in Python."
   ]
  },
  {
   "cell_type": "code",
   "execution_count": null,
   "metadata": {
    "deletable": false,
    "nbgrader": {
     "cell_type": "code",
     "checksum": "fadcfb7442f81a7162787301ee296859",
     "grade": true,
     "grade_id": "math-complex-a4",
     "locked": false,
     "points": 0,
     "schema_version": 3,
     "solution": true
    },
    "solution": "hidden"
   },
   "outputs": [],
   "source": [
    "# YOUR CODE HERE"
   ]
  },
  {
   "cell_type": "markdown",
   "metadata": {
    "deletable": false,
    "editable": false,
    "nbgrader": {
     "cell_type": "markdown",
     "checksum": "9e3fa5e995749a01a489224bd1823d36",
     "grade": false,
     "grade_id": "morph-erode",
     "locked": true,
     "schema_version": 3,
     "solution": false
    }
   },
   "source": [
    "## Assignment 1: Properties of morphological operators [5 Points]\n",
    "\n",
    "This exercise will elaborate on the basic morphological operators of *erosion* and *dilation* (cf. CV-05 slides 4-14)."
   ]
  },
  {
   "cell_type": "markdown",
   "metadata": {
    "deletable": false,
    "editable": false,
    "nbgrader": {
     "cell_type": "markdown",
     "checksum": "56b62744dc81f35a8246833258c0547f",
     "grade": false,
     "grade_id": "morph-erode-q2",
     "locked": true,
     "schema_version": 3,
     "solution": false
    }
   },
   "source": [
    "### a) Duality\n",
    "\n",
    "Proof that *erosion* and *dilation* are *dual* operators, i.e.\n",
    "\n",
    "$ g^{\\ast}\\oplus S = (g\\ominus S)^{\\ast}\\qquad\\text{and}\\qquad\n",
    "g^{\\ast}\\ominus S = (g\\oplus S)^{\\ast}$\n",
    "\n",
    "here $g^{\\ast}$ denotes the inverted binary image, i.e. $g^{\\ast}(x,y) = 1 - g(x,y) = \\neg g(x,y)$, i.e. 1-pixel become 0 and 0-pixel become 1."
   ]
  },
  {
   "cell_type": "markdown",
   "metadata": {
    "collapsed": true,
    "deletable": false,
    "nbgrader": {
     "cell_type": "markdown",
     "checksum": "3044c284df7bf7863c841bb78d92d059",
     "grade": true,
     "grade_id": "morph-erode-a2",
     "locked": false,
     "points": 1,
     "schema_version": 3,
     "solution": true
    },
    "solution": true
   },
   "source": [
    "$(g^{\\ast}\\oplus S)(x, y) = \\bigvee_{k \\in [-m, m]} \\bigvee_{l \\in [-n, n]} S(k+m, l+n) \\land g^*(x+k, y+l)$  \n",
    "$\\quad\\quad\\quad\\quad\\quad\\quad = \\bigvee_{k \\in [-m, m]} \\bigvee_{l \\in [-n, n]} S(k+m, l+n) \\land \\lnot g(x+k, y+l)$  \n",
    "$\\quad\\quad\\quad\\quad\\quad\\quad = \\bigvee_{k \\in [-m, m]} \\bigvee_{l \\in [-n, n]} \\lnot (\\lnot S(k+m, l+n) \\lor g(x+k, y+l)$  \n",
    "$\\quad\\quad\\quad\\quad\\quad\\quad = \\lnot \\bigwedge_{k \\in [-m, m]} \\bigwedge_{l \\in [-n, n]} (\\lnot S(k+m, l+n) \\lor g(x+k, y+l)$  \n",
    "$\\quad\\quad\\quad\\quad\\quad\\quad = \\lnot \\bigwedge_{k \\in [-m, m]} \\bigwedge_{l \\in [-n, n]} (S(k+m, l+n) \\rightarrow g(x+k, y+l)$  \n",
    "$\\quad\\quad\\quad\\quad\\quad\\quad = \\lnot (g\\ominus S)(x, y)$  \n",
    "$\\quad\\quad\\quad\\quad\\quad\\quad = (g\\ominus S)^{\\ast}(x, y)$   \n",
    "\n",
    "$(g^{\\ast}\\ominus S)(x, y) = \\bigwedge_{k \\in [-m, m]} \\bigwedge_{l \\in [-n, n]} (S(k+m, l+n) \\rightarrow g^*(x+k, y+l))$  \n",
    "$\\quad\\quad\\quad\\quad\\quad\\quad = \\bigwedge_{k \\in [-m, m]} \\bigwedge_{l \\in [-n, n]} (S(k+m, l+n) \\rightarrow \\lnot g(x+k, y+l))$  \n",
    "$\\quad\\quad\\quad\\quad\\quad\\quad = \\bigwedge_{k \\in [-m, m]} \\bigwedge_{l \\in [-n, n]} (\\lnot S(k+m, l+n) \\lor \\lnot g(x+k, y+l))$  \n",
    "$\\quad\\quad\\quad\\quad\\quad\\quad = \\bigwedge_{k \\in [-m, m]} \\bigwedge_{l \\in [-n, n]} \\lnot(S(k+m, l+n) \\land g(x+k, y+l))$  \n",
    "$\\quad\\quad\\quad\\quad\\quad\\quad = \\lnot \\bigvee_{k \\in [-m, m]} \\bigvee_{l \\in [-n, n]} (S(k+m, l+n) \\land g(x+k, y+l))$  \n",
    "$\\quad\\quad\\quad\\quad\\quad\\quad = \\lnot (g\\oplus S)(x, y)$  \n",
    "$\\quad\\quad\\quad\\quad\\quad\\quad = (g\\oplus S)^{\\ast}(x, y)$  "
   ]
  },
  {
   "cell_type": "markdown",
   "metadata": {
    "deletable": false,
    "editable": false,
    "nbgrader": {
     "cell_type": "markdown",
     "checksum": "fafbfe54dbe8cd3d9640620778bf43e9",
     "grade": false,
     "grade_id": "morph-erode-q3",
     "locked": true,
     "schema_version": 3,
     "solution": false
    }
   },
   "source": [
    "### b) Superposition\n",
    "\n",
    "As *erosion* and *dilation* have been introduced for binary images, the notion of *linearity* is not really appropriate here. However, some weaker version, called *superposition* can be defined: instead of forming linear combination, one takes the logical disjunction:\n",
    "\n",
    "$$(g_1\\lor g_2)(x,y) := g_1(x,y)\\lor g_2(x,y)$$\n",
    "\n",
    "Check for both operations if *erosion* and *dilation* are \"compatible\" with superposition, i.e. if first *eroding* (or *dilating*) two images and superposing the result is the same as first superposing the images and then *eroding* (or *dilating*) the result."
   ]
  },
  {
   "cell_type": "markdown",
   "metadata": {
    "collapsed": true,
    "deletable": false,
    "nbgrader": {
     "cell_type": "markdown",
     "checksum": "6d85d53bbf5372f62a089369733ad0d0",
     "grade": true,
     "grade_id": "morph-erode-a3",
     "locked": false,
     "points": 2,
     "schema_version": 3,
     "solution": true
    },
    "solution": true
   },
   "source": [
    "**Dilation**  \n",
    "\n",
    "$((g_1 \\lor g_2) \\oplus S)(x, y) =  \\bigvee_{k \\in [-m, m]} \\bigvee_{l \\in [-n, n]} S(k+m, l+n) \\land (g_1 \\lor g_2)(x+k, y+l)$  \n",
    "$\\quad\\quad\\quad\\quad\\quad\\quad\\quad\\quad\\quad = \\bigvee_{k \\in [-m, m]} \\bigvee_{l \\in [-n, n]} S(k+m, l+n) \\land (g_1(x+k, y+l) \\lor g_2(x+k, y+l))$  \n",
    "$\\quad\\quad\\quad\\quad\\quad\\quad\\quad\\quad\\quad = (\\bigvee_{k \\in [-m, m]} \\bigvee_{l \\in [-n, n]} S(k+m, l+n) \\land g_1(x+k, y+l)) \\lor (\\bigvee_{k \\in [-m, m]} \\bigvee_{l \\in [-n, n]} S(k+m, l+n) \\land g_2(x+k, y+l))$  \n",
    "$\\quad\\quad\\quad\\quad\\quad\\quad\\quad\\quad\\quad = (g_1 \\oplus S)(x, y) \\lor (g_2 \\oplus S)(x, y)$\n",
    "\n",
    "$\\rightarrow$ dilation is compatible with superposition  \n",
    "\n",
    "**Erosion**  \n",
    "\n",
    "$((g_1 \\lor g_2) \\ominus S)(x, y) =  \\bigwedge_{k \\in [-m, m]} \\bigwedge_{l \\in [-n, n]} S(k+m, l+n) \\rightarrow (g_1 \\lor g_2)(x+k, y+l)$  \n",
    "$\\quad\\quad\\quad\\quad\\quad\\quad\\quad\\quad\\quad = \\bigwedge_{k \\in [-m, m]} \\bigwedge_{l \\in [-n, n]} S(k+m, l+n) \\rightarrow (g_1(x+k, y+l) \\lor g_2(x+k, y+l))$  \n",
    "$\\quad\\quad\\quad\\quad\\quad\\quad\\quad\\quad\\quad = \\bigwedge_{k \\in [-m, m]} \\bigwedge_{l \\in [-n, n]} \\lnot S(k+m, l+n) \\lor g_1(x+k, y+l) \\lor g_2(x+k, y+l)$  \n",
    "$\\quad\\quad\\quad\\quad\\quad\\quad\\quad\\quad\\quad \\neq (\\bigwedge_{k \\in [-m, m]} \\bigwedge_{l \\in [-n, n]} \\lnot S(k+m, l+n) \\lor g_1(x+k, y+l)) \\lor (\\bigwedge_{k \\in [-m, m]} \\bigwedge_{l \\in [-n, n]} \\lnot S(k+m, l+n) \\lor g_2(x+k, y+l))$  "
   ]
  },
  {
   "cell_type": "markdown",
   "metadata": {
    "deletable": false,
    "editable": false,
    "nbgrader": {
     "cell_type": "markdown",
     "checksum": "3d1dabc64b49da6e53cf5106e52063d7",
     "grade": false,
     "grade_id": "morph-erode-q4",
     "locked": true,
     "schema_version": 3,
     "solution": false
    }
   },
   "source": [
    "### c) Chaining\n",
    "\n",
    "Show that *dilation* and *erosion* have the following properties: given two structering elements $S_1$ and $S_2$, it holds\n",
    "\n",
    "\\begin{align}\n",
    "  (g\\oplus S_1)\\oplus S_2 & & = & g\\oplus (S_1\\oplus S_2) && = (g\\oplus S_2)\\oplus S_1 \\\\\n",
    "  (g\\ominus S_1)\\ominus S_2 & & = & g\\ominus (S_1\\ominus S_2) && = (g\\ominus S_2)\\ominus S_1 \\\\  \n",
    "\\end{align}\n",
    "\n",
    "What are the practical consequences?"
   ]
  },
  {
   "cell_type": "markdown",
   "metadata": {
    "collapsed": true,
    "deletable": false,
    "nbgrader": {
     "cell_type": "markdown",
     "checksum": "ba31be8d5bf8fd37af80dda340c53dc5",
     "grade": true,
     "grade_id": "morph-erode-a4",
     "locked": false,
     "points": 2,
     "schema_version": 3,
     "solution": true
    },
    "solution": true
   },
   "source": [
    "**Dilation**  \n",
    "\n",
    "$((g \\oplus S_1) \\oplus S_2)(x, y) = \\bigvee_{k \\in [-m_2, m_2]} \\bigvee_{l \\in [-n_2, n_2]} S_2(k+m_2, l+n_2) \\land (g \\oplus S_1)(x+k, y+l)$  \n",
    "$\\quad\\quad\\quad\\quad\\quad\\quad\\quad\\quad\\quad = \\bigvee_{k \\in [-m_2, m_2]} \\bigvee_{l \\in [-n_2, n_2]} S_2(k+m_2, l+n_2) \\land (\\bigvee_{i \\in [-m_1, m_1]} \\bigvee_{j \\in [-n_1, n_1]} S_1(i+m_1, j+n_1) \\land g(x+i+k, y+j+l))$  \n",
    "$\\quad\\quad\\quad\\quad\\quad\\quad\\quad\\quad\\quad = \\bigvee_{i \\in [-m_1, m_1]} \\bigvee_{j \\in [-n_1, n_1]} \\bigvee_{k \\in [-m_2, m_2]} \\bigvee_{l \\in [-n_2, n_2]} S_1(i+m_1, j+n_1) \\land S_2(k+m_2, l+n_2) \\land g(x+i+k, y+j+l)$  \n",
    "$\\quad\\quad\\quad\\quad\\quad\\quad\\quad\\quad\\quad = ((g\\oplus S_2)\\oplus S_1)(x,y)$  \n",
    "\n",
    "$\\rightarrow$ the order doesn't matter  \n",
    "\n",
    "$g\\oplus (S_1\\oplus S_2)$ holds as well, we're just changing the order in which the indices are added and addition is commutative.\n",
    "\n",
    "**Erosion**  \n",
    "\n",
    "The proof for the erosion operation works basically the same (cf. task 1a)."
   ]
  },
  {
   "cell_type": "markdown",
   "metadata": {
    "deletable": false,
    "editable": false,
    "nbgrader": {
     "cell_type": "markdown",
     "checksum": "2401e44a8e28529ac320a179943423a2",
     "grade": false,
     "grade_id": "morph-morphing",
     "locked": true,
     "schema_version": 3,
     "solution": false
    }
   },
   "source": [
    "## Assignment 2: Application [5 Points]\n"
   ]
  },
  {
   "cell_type": "markdown",
   "metadata": {
    "deletable": false,
    "editable": false,
    "nbgrader": {
     "cell_type": "markdown",
     "checksum": "bfa7bab246838360affdcc2beffad7fc",
     "grade": false,
     "grade_id": "morph-morphing-q1",
     "locked": true,
     "schema_version": 3,
     "solution": false
    }
   },
   "source": [
    "### a) Boundary extraction\n",
    "\n",
    "Extract the boundary of a shape using opening or closing. You may use `binary_dilation` or `binary_erosion` from `scipy.ndimage.morphology`. Can you achieve a thicker boundary?"
   ]
  },
  {
   "cell_type": "code",
   "execution_count": null,
   "metadata": {
    "deletable": false,
    "nbgrader": {
     "cell_type": "code",
     "checksum": "6595b5c55ed1798021c76520d7ab5fdd",
     "grade": true,
     "grade_id": "morph-morphing-a1",
     "locked": false,
     "points": 1,
     "schema_version": 3,
     "solution": true
    }
   },
   "outputs": [],
   "source": [
    "%matplotlib inline\n",
    "import numpy as np\n",
    "import matplotlib.pyplot as plt\n",
    "plt.rcParams['image.cmap'] = 'gray'\n",
    "import scipy.ndimage.morphology as morph\n",
    "from imageio import imread\n",
    "\n",
    "def my_boundary(img, structuring_elem=[]):\n",
    "    \"\"\"\n",
    "    Compute boundary of binary image.\n",
    "\n",
    "    Parameters\n",
    "    ----------\n",
    "    img : ndarray of bools\n",
    "        A binary image.\n",
    "    structuring_elem: array_like, optional\n",
    "        Structuring element used for the erosion.\n",
    "        \n",
    "    Returns\n",
    "    -------\n",
    "    boundary : ndarray of bools\n",
    "        The boundary as a binary image.\n",
    "    \"\"\"\n",
    "    \n",
    "    boundary = np.zeros(img.shape,np.bool)\n",
    "    # YOUR CODE HERE\n",
    "    if len(structuring_elem) > 0:\n",
    "        erosion = morph.binary_erosion(img, structuring_elem)\n",
    "    else:\n",
    "        erosion = morph.binary_erosion(img)\n",
    "    boundary = np.logical_xor(erosion, img)\n",
    "    \n",
    "    return boundary\n",
    "    \n",
    "fig = plt.figure(figsize=(15,7))\n",
    "\n",
    "img = imread(\"images/engelstrompete.png\") > 0\n",
    "\n",
    "fig.add_subplot(1,3,1)\n",
    "plt.imshow(img, cmap = 'gray')\n",
    "plt.title('image')\n",
    "\n",
    "fig.add_subplot(1,3,2)\n",
    "plt.imshow(my_boundary(img), cmap = 'gray')\n",
    "plt.title('boundary')\n",
    "\n",
    "fig.add_subplot(1,3,3)\n",
    "# larger structuring element\n",
    "plt.imshow(my_boundary(img, np.ones((10, 10))), cmap = 'gray')\n",
    "plt.title('thicker boundary')\n",
    "\n",
    "plt.show()"
   ]
  },
  {
   "cell_type": "markdown",
   "metadata": {
    "deletable": false,
    "editable": false,
    "nbgrader": {
     "cell_type": "markdown",
     "checksum": "679fc902522a04f1b23703c9aba24f36",
     "grade": false,
     "grade_id": "morph-morphing-q2",
     "locked": true,
     "schema_version": 3,
     "solution": false
    }
   },
   "source": [
    "### b)  Distance transform\n",
    "\n",
    "Implement distance transform according to the ideas of (CV-05 slides 34ff).  Discuss the effect of different structuring elements."
   ]
  },
  {
   "cell_type": "code",
   "execution_count": null,
   "metadata": {
    "deletable": false,
    "nbgrader": {
     "cell_type": "code",
     "checksum": "e3a0f0a84b46696bd343317d78a797af",
     "grade": true,
     "grade_id": "morph-morphing-a2",
     "locked": false,
     "points": 2,
     "schema_version": 3,
     "solution": true
    },
    "tags": []
   },
   "outputs": [],
   "source": [
    "%matplotlib inline\n",
    "import numpy as np\n",
    "import matplotlib.pyplot as plt\n",
    "from scipy.ndimage import morphology as morph, generate_binary_structure\n",
    "from imageio import imread\n",
    "\n",
    "def my_distance_transform(img):\n",
    "    \"\"\"Distance transform of binary image.\n",
    "\n",
    "    Args:\n",
    "    img (ndarray of bools): A binary image.\n",
    "        \n",
    "    Returns:\n",
    "    dt (ndarray of ints): The distance transform of the input image.\n",
    "    \"\"\"\n",
    "    \n",
    "    dt = np.zeros(img.shape,np.int32)\n",
    "    # YOUR CODE HERE\n",
    "    lvl = 1\n",
    "    # erode until nothing is left\n",
    "    while np.any(img):\n",
    "        boundary = my_boundary(img)\n",
    "        # pixels with manhattan distance lvl to the boundary\n",
    "        dt[boundary] = lvl\n",
    "        # object without boundary\n",
    "        img = morph.binary_erosion(img)\n",
    "        lvl += 1\n",
    "\n",
    "    return dt\n",
    "\n",
    "img = imread(\"images/engelstrompete.png\") > 0\n",
    "fig = plt.figure(figsize=(10,10))\n",
    "\n",
    "fig.add_subplot(1,2,1)\n",
    "plt.imshow(img, cmap = 'gray')\n",
    "plt.title('image')\n",
    "\n",
    "fig.add_subplot(1,2,2)\n",
    "plt.imshow(my_distance_transform(img) + 50 * img)\n",
    "plt.title('distance transform')\n",
    "\n",
    "plt.show()"
   ]
  },
  {
   "cell_type": "markdown",
   "metadata": {
    "deletable": false,
    "nbgrader": {
     "cell_type": "markdown",
     "checksum": "79e5553d47e11f7e09b542688535bd7b",
     "grade": true,
     "grade_id": "cell-4f0056b6c961ef35",
     "locked": false,
     "points": 0,
     "schema_version": 3,
     "solution": true
    }
   },
   "source": [
    "Different structuring elements implement different metrics, e.g.:\n",
    "- manhattan distance\n",
    "- chessboard distance"
   ]
  },
  {
   "cell_type": "markdown",
   "metadata": {
    "deletable": false,
    "editable": false,
    "nbgrader": {
     "cell_type": "markdown",
     "checksum": "473b6eb06ffe29ca142739616ca9f3c2",
     "grade": false,
     "grade_id": "morph-morphing-q3",
     "locked": true,
     "schema_version": 3,
     "solution": false
    }
   },
   "source": [
    "### c) Morphing\n",
    "\n",
    "Write a function `my_morph` that implements morphing according to (CV-05 slide 41). You may use your function `my_distance_transform` from part b), or the function `distance_transform_edt` from `scipy.ndimage.morphology`."
   ]
  },
  {
   "cell_type": "code",
   "execution_count": null,
   "metadata": {
    "deletable": false,
    "nbgrader": {
     "cell_type": "code",
     "checksum": "8bb6cc24f5dc9ee2955122d0ba7245c4",
     "grade": true,
     "grade_id": "morph-morphing-a3",
     "locked": false,
     "points": 2,
     "schema_version": 3,
     "solution": true
    }
   },
   "outputs": [],
   "source": [
    "%matplotlib inline\n",
    "import numpy as np\n",
    "import matplotlib.pyplot as plt\n",
    "import scipy.ndimage.morphology as morph\n",
    "from imageio import imread\n",
    "\n",
    "\n",
    "def my_morph(A,B,ratio):\n",
    "    \"\"\"Morphing from binary image A to image B.\n",
    "\n",
    "    Args:\n",
    "        A (ndarray of bools): A binary image (start).\n",
    "        B (ndarray of bools): A binary image (target), same shape as A.\n",
    "        ratio (float from 0.0 to 1.0): The ratio of image A and image B.\n",
    "            0.0=only image A, 1.0=only image B.\n",
    "        \n",
    "    Returns:\n",
    "        morph (ndarray of bools): A binary intermediate image between A and B.\n",
    "        \n",
    "    \"\"\"\n",
    "\n",
    "    result = np.zeros(A.shape,np.bool)\n",
    "    # YOUR CODE HERE\n",
    "    D_a = my_distance_transform(A) - my_distance_transform(np.invert(A))\n",
    "    D_b = my_distance_transform(B) - my_distance_transform(np.invert(B))\n",
    "    result = (ratio * D_b + (1 - ratio) * D_a)\n",
    "    # element-wise applied\n",
    "    return result > 0\n",
    "\n",
    "img1 = imread(\"images/kreis.png\") > 0\n",
    "img2 = imread(\"images/engelstrompete.png\") > 0\n",
    "\n",
    "plt.gray()\n",
    "plt.figure(figsize=(10,10))\n",
    "for i, ratio in enumerate(np.linspace(0, 1, 6), 1):\n",
    "    plt.subplot(2, 3, i)\n",
    "    plt.imshow(my_morph(img1, img2, ratio))\n",
    "    plt.title('ratio:' + str(round(ratio, 2)))\n",
    "    plt.axis('off')\n",
    "plt.show()"
   ]
  },
  {
   "cell_type": "code",
   "execution_count": null,
   "metadata": {
    "deletable": false,
    "editable": false,
    "nbgrader": {
     "cell_type": "code",
     "checksum": "d34c275f0b0ee0ba6caceedfa138f7c8",
     "grade": true,
     "grade_id": "morph-morphing-a3b",
     "locked": true,
     "points": 0,
     "schema_version": 3,
     "solution": false
    }
   },
   "outputs": [],
   "source": [
    "# If you want to see your morph as an animation, run this cell. \n",
    "# Close the output (press the blue \"Stop interaction\" button) once you are done!\n",
    "\n",
    "# Due to some matplotlib problem you may have to restart your kernel!\n",
    "%matplotlib inline\n",
    "import matplotlib.animation as animation\n",
    "fig = plt.figure()\n",
    "\n",
    "ims = []\n",
    "for i, ratio in enumerate(np.linspace(0, 1, 24), 1):\n",
    "    plt.axis('off')\n",
    "    im = plt.imshow(my_morph(img1, img2, ratio), cmap='gray', animated=True)\n",
    "    ims.append([im])  \n",
    "    \n",
    "ani = animation.ArtistAnimation(fig, ims + list(reversed(ims)), interval=100, blit=True)\n",
    "\n",
    "plt.show()"
   ]
  },
  {
   "cell_type": "markdown",
   "metadata": {
    "deletable": false,
    "editable": false,
    "nbgrader": {
     "cell_type": "markdown",
     "checksum": "7a52c9fca4987c0c07ec113e42a5b0f8",
     "grade": false,
     "grade_id": "morph-skeleton",
     "locked": true,
     "schema_version": 3,
     "solution": false
    }
   },
   "source": [
    "## Assignment 3: Implementation: Skeletonization [5 Points]"
   ]
  },
  {
   "cell_type": "markdown",
   "metadata": {
    "deletable": false,
    "editable": false,
    "nbgrader": {
     "cell_type": "markdown",
     "checksum": "795c2b7e48f0a22ee8966182df47805d",
     "grade": false,
     "grade_id": "morph-skeleton-q1",
     "locked": true,
     "schema_version": 3,
     "solution": false
    }
   },
   "source": [
    "### a) Skeletonization with hit-or-miss\n",
    "\n",
    "Explain in your own words, how the hit-or-miss operator can be used for skeletonization (cf CV-05 slide 49).  "
   ]
  },
  {
   "cell_type": "markdown",
   "metadata": {
    "collapsed": true,
    "deletable": false,
    "nbgrader": {
     "cell_type": "markdown",
     "checksum": "d28e31216b9e00c07579929c1627848f",
     "grade": true,
     "grade_id": "morph-skeleton-a1",
     "locked": false,
     "points": 1,
     "schema_version": 3,
     "solution": true
    },
    "solution": true
   },
   "source": [
    "If we want to extract a particular kind of pattern from an image, we can use the hit-or-miss operation.  \n",
    "So, if we know exactly what we are looking for, this is highly efficient.\n",
    "3 steps:\n",
    "- **hit:** find candidate locations (where the pattern might be in the image)  \n",
    "    - removes everything that is too small by erosion (what remains are candidates)\n",
    "- **miss:** removes everything that is too large\n",
    "- **intersection:** intersect the two previous results\n",
    "\n",
    "Now we can combine distance transform and hit-or-miss to do skeletonization.  \n",
    "A skeleton provides a meaningful and concise description of a binary shape, e.g. for classification.  \n",
    "To compute the skeleton of some binary segment, we would have to find all the bi-tangent circles. We can get this quite easily using the \n",
    "distance transform.  \n",
    "The ridges are already the skeleton, we just need to find the ridges using the hit-or-miss operation.  \n",
    "\n",
    "The shape of the ridges is a priori unknown. We'd just remove iteratively all pixels from the distance transform where we know that they are not ridges. This can be done using the $8$ operators (left, right, up, down, and the four diagonals) which are designed to detect structures that stay connected after removing the central pixel.  \n",
    "\n",
    "Those operators are applied iteratively until only the skeleton remains."
   ]
  },
  {
   "cell_type": "markdown",
   "metadata": {
    "deletable": false,
    "editable": false,
    "nbgrader": {
     "cell_type": "markdown",
     "checksum": "efdd571c79fb933b4d6ec5024dcd26eb",
     "grade": false,
     "grade_id": "morph-skeleton-q2",
     "locked": true,
     "schema_version": 3,
     "solution": false
    }
   },
   "source": [
    "### b) Implementation of skeletonization\n",
    "\n",
    "Now use this method to implement your own skeletonization function. It is ok to use\n",
    "`scipy.ndimage.morphology.binary_hit_or_miss` here (but of course *not* `skimage.morphology.skeletonize` or similar functions). Compare your result with (CV-05 slide 50). Note that computing the skeleton using this method may take some time ..."
   ]
  },
  {
   "cell_type": "code",
   "execution_count": null,
   "metadata": {
    "deletable": false,
    "nbgrader": {
     "cell_type": "code",
     "checksum": "7b710d69edb2fe043ebeb531a30621e3",
     "grade": true,
     "grade_id": "morph-skeleton-a2",
     "locked": false,
     "points": 4,
     "schema_version": 3,
     "solution": true
    },
    "tags": []
   },
   "outputs": [],
   "source": [
    "%matplotlib inline\n",
    "import numpy as np\n",
    "import matplotlib.pyplot as plt\n",
    "import scipy.ndimage.morphology as morph\n",
    "from imageio import imread\n",
    "\n",
    "def my_skeletonize(img):\n",
    "    \"\"\"\n",
    "    Compute the skeleton of a binary image using hit_or_miss operator.\n",
    "    \n",
    "    Parameters\n",
    "    ----------\n",
    "    img : ndarray of bools\n",
    "        Binary image to be skeletonized.\n",
    "    \n",
    "    Returns\n",
    "    -------\n",
    "    skeleton : ndarray of bools\n",
    "        The skeleton of the input image.\n",
    "    \"\"\"\n",
    "    # YOUR CODE HERE\n",
    "\n",
    "    # based on 2 ideas:\n",
    "    #   - ridges of the distance transform are the skeleton\n",
    "    #   - find ridges using the hit-or-miss operation\n",
    "\n",
    "    # 'X' is always 0 and the other elements are inverted for this miss structuring elements\n",
    "\n",
    "    # hit structuring elements\n",
    "    l  = np.array([[0,0,1], [0,1,1], [0,0,1]])\n",
    "    r  = np.array([[1,0,0], [1,1,0], [1,0,0]])\n",
    "    o  = np.array([[0,0,0], [0,1,0], [1,1,1]])    \n",
    "    u  = np.array([[1,1,1], [0,1,0], [0,0,0]])\n",
    "    lu = np.array([[0,1,1], [0,1,1], [0,0,0]])\n",
    "    lo = np.array([[0,0,0], [0,1,1], [0,1,1]])\n",
    "    ru = np.array([[1,1,0], [1,1,0], [0,0,0]])\n",
    "    ro = np.array([[0,0,0], [1,1,0], [1,1,0]])\n",
    "    \n",
    "    # miss structuring elements\n",
    "    l_m  = np.array([[1,0,0], [1,0,0], [1,0,0]])\n",
    "    r_m  = np.array([[0,0,1], [0,0,1], [0,0,1]])\n",
    "    o_m  = np.array([[1,1,1], [0,0,0], [0,0,0]])    \n",
    "    u_m  = np.array([[0,0,0], [0,0,0], [1,1,1]])\n",
    "    lu_m = np.array([[0,0,0], [1,0,0], [1,1,0]])\n",
    "    lo_m = np.array([[1,1,0], [1,0,0], [0,0,0]])\n",
    "    ru_m = np.array([[0,0,0], [0,0,1], [0,1,1]])\n",
    "    ro_m = np.array([[0,1,1], [0,0,1], [0,0,0]])\n",
    "\n",
    "    hit_structs = [l, r, o, u, lu, lo, ru, ro]\n",
    "    miss_structs = [l_m, r_m, o_m, u_m, lu_m, lo_m, ru_m, ro_m]\n",
    "\n",
    "    distance_transform = my_distance_transform(img)\n",
    "    skeleton = img.copy()\n",
    "    prev = np.zeros(skeleton.shape)\n",
    "\n",
    "    while not(np.array_equal(skeleton, prev)):\n",
    "        prev = skeleton.copy()\n",
    "        for hit, miss in zip(hit_structs, miss_structs):\n",
    "            hit_or_miss_transform = morph.binary_hit_or_miss(distance_transform, structure1=hit, structure2=miss)\n",
    "            skeleton[hit_or_miss_transform] = 0\n",
    "            distance_transform[hit_or_miss_transform] = 0\n",
    "\n",
    "    return skeleton\n",
    "\n",
    "img = imread(\"images/engelstrompete.png\") > 0\n",
    "skel = my_skeletonize(img)\n",
    "result = morph.distance_transform_cdt(img, metric='taxicab') + (50 * img)\n",
    "result[morph.binary_dilation(skel)] = 0\n",
    "plt.figure(figsize=(10,10))\n",
    "plt.gray()\n",
    "plt.imshow(result)\n",
    "plt.show()"
   ]
  },
  {
   "cell_type": "markdown",
   "metadata": {
    "deletable": false,
    "editable": false,
    "nbgrader": {
     "cell_type": "markdown",
     "checksum": "ea1f8a72f09a6f9a63f765a5d0cf3d72",
     "grade": false,
     "grade_id": "cell-60d8cfa910b52231",
     "locked": true,
     "schema_version": 3,
     "solution": false
    }
   },
   "source": [
    "## Assignment 4: Custom Structuring Element [5 points]\n",
    "\n",
    "Landsat 7 is a satelite mission for acquisition of satellite imagery of Earth. Unfortunately the Scan Line Corrector failed, resulting in black stripes on the aquired images. More information: https://landsat.usgs.gov/slc-products-background\n"
   ]
  },
  {
   "cell_type": "markdown",
   "metadata": {
    "deletable": false,
    "editable": false,
    "nbgrader": {
     "cell_type": "markdown",
     "checksum": "e6fb1150d73f71e43800ff88b15b16c9",
     "grade": false,
     "grade_id": "cell-ca1552e7bddf7b74",
     "locked": true,
     "schema_version": 3,
     "solution": false
    }
   },
   "source": [
    "### a) A first fix\n",
    "\n",
    "A rather crude fix is to apply a custom structuring element for dilation and erosion (see CV-05, 24ff). Complement the code below (in part (b)) in the following way:\n",
    "* Rotate the image such that the gaps are horizontal.\n",
    "* Dilate the rotated image with a vertical structuring element. I.e. take the maximum of an area of size $7 \\times1$ and assign it to the center pixel. Repeat for all pixels.\n",
    "* Erode the dilated image.\n",
    "* Rotate the result back.\n",
    "\n",
    "Remark: this exercise applies morphological operator to color images. This extends the idea of generalizing morphological operators to gray value images (CV-05, slide 51).  "
   ]
  },
  {
   "cell_type": "markdown",
   "metadata": {
    "deletable": false,
    "editable": false,
    "nbgrader": {
     "cell_type": "markdown",
     "checksum": "edba9a279b000bbcfc08ac5d8bf5f3ff",
     "grade": false,
     "grade_id": "cell-7fbbc56de3c77426",
     "locked": true,
     "schema_version": 3,
     "solution": false
    }
   },
   "source": [
    "### b) Improving the solution\n",
    "You may get better results by thresholding and applying the morphological operations only to pixels below a threshold, i.e. gap pixels. Compliment your solution from a). "
   ]
  },
  {
   "cell_type": "code",
   "execution_count": null,
   "metadata": {
    "deletable": false,
    "nbgrader": {
     "cell_type": "code",
     "checksum": "e5af927fe57b48a66b079f737e92dfe9",
     "grade": true,
     "grade_id": "cell-a419214d632a6cf6",
     "locked": false,
     "points": 5,
     "schema_version": 3,
     "solution": true
    },
    "tags": []
   },
   "outputs": [],
   "source": [
    "%matplotlib inline\n",
    "import numpy as np\n",
    "import matplotlib.pyplot as plt\n",
    "import scipy.ndimage.morphology as morph\n",
    "import scipy.ndimage as ndimg\n",
    "from skimage import color\n",
    "from skimage.transform import rescale as rescale\n",
    "from skimage.transform import rotate as rotate\n",
    "from imageio import imread\n",
    "\n",
    "angle = 15\n",
    "thresh = .4\n",
    "struc_elem = np.ones((7,1), dtype=np.bool)\n",
    "\n",
    "img = imread(\"images/landsat_stack2.png\")\n",
    "img2 = img.copy()\n",
    "img3 = img.copy()\n",
    "\n",
    "# YOUR CODE HERE\n",
    "# rotate image\n",
    "img2 = rotate(img2, angle, resize=True)\n",
    "\n",
    "# from [0.0, 1.0] to [0, 255]\n",
    "img2 = (img2 * 255).astype(np.uint8)\n",
    "\n",
    "# dilation for each color channel\n",
    "img2[:,:,0] = morph.grey_dilation(img2[:,:,0], structure=struc_elem)\n",
    "img2[:,:,1] = morph.grey_dilation(img2[:,:,1], structure=struc_elem)\n",
    "img2[:,:,2] = morph.grey_dilation(img2[:,:,2], structure=struc_elem)\n",
    "\n",
    "# erosion for each color channel\n",
    "img2[:,:,0] = morph.grey_erosion(img2[:,:,0], structure=struc_elem)\n",
    "img2[:,:,1] = morph.grey_erosion(img2[:,:,1], structure=struc_elem)\n",
    "img2[:,:,2] = morph.grey_erosion(img2[:,:,2], structure=struc_elem)\n",
    "\n",
    "# rotate back\n",
    "img2 = rotate(img2, -angle, resize=True)\n",
    "\n",
    "# rotate returns again values from [0.0, 1.0]\n",
    "\n",
    "# get a copy of the original image that is of the same size as the rotated image\n",
    "original = img.copy()\n",
    "original = rotate(original, angle, resize=True)\n",
    "original = rotate(original, -angle, resize=True)\n",
    "\n",
    "img3 = img2.copy()\n",
    "for x in range(original.shape[0]):\n",
    "    for y in range(original.shape[1]):\n",
    "        for i in range(3):\n",
    "            # use original value above threshold\n",
    "            if original[x][y][i] >= thresh:\n",
    "                img3[x][y][i] = original[x][y][i]\n",
    "\n",
    "img = (img - np.min(img)) / np.ptp(img)\n",
    "img2 = (img2 - np.min(img2)) / np.ptp(img2)\n",
    "img3 = (img3 - np.min(img3)) / np.ptp(img3)\n",
    "\n",
    "plt.figure(figsize=(30,90))\n",
    "plt.subplot(1,3,1); plt.title('original'); plt.imshow(img); plt.axis('off')\n",
    "plt.subplot(1,3,2); plt.title('first fix'); plt.imshow(img2); plt.axis('off')\n",
    "plt.subplot(1,3,3); plt.title('thresh fix'); plt.imshow(img3); plt.axis('off')\n",
    "plt.show()\n"
   ]
  },
  {
   "cell_type": "markdown",
   "metadata": {
    "deletable": false,
    "editable": false,
    "nbgrader": {
     "cell_type": "markdown",
     "checksum": "ef60dfa5af43d1fce703fffd1fada5d4",
     "grade": false,
     "grade_id": "cell-895c6b10e93a0b17",
     "locked": true,
     "schema_version": 3,
     "solution": false
    }
   },
   "source": [
    "### c) Bonus\n",
    "Can you think of other ways to add the missing data? \n"
   ]
  },
  {
   "cell_type": "markdown",
   "metadata": {
    "deletable": false,
    "nbgrader": {
     "cell_type": "markdown",
     "checksum": "e1443d0180f6c16e1fd3d8f65d47d8f9",
     "grade": true,
     "grade_id": "cell-5b15415ce81bdce1",
     "locked": false,
     "points": 0,
     "schema_version": 3,
     "solution": true
    }
   },
   "source": [
    "- fill up missing information with information from other satellites\n",
    "- use image destriping algorithms (e.g. Fourier filtering)"
   ]
  }
 ],
 "metadata": {
  "anaconda-cloud": {},
  "kernelspec": {
   "display_name": "Python 3.8.6 64-bit ('cv': conda)",
   "language": "python",
   "name": "python38664bitcvcondace24c6b5e63f40158ccc45b6baeafab5"
  },
  "language_info": {
   "codemirror_mode": {
    "name": "ipython",
    "version": 3
   },
   "file_extension": ".py",
   "mimetype": "text/x-python",
   "name": "python",
   "nbconvert_exporter": "python",
   "pygments_lexer": "ipython3",
   "version": "3.8.6-final"
  },
  "toc": {
   "base_numbering": 1,
   "nav_menu": {},
   "number_sections": false,
   "sideBar": true,
   "skip_h1_title": false,
   "title_cell": "Table of Contents",
   "title_sidebar": "Contents",
   "toc_cell": false,
   "toc_position": {},
   "toc_section_display": "block",
   "toc_window_display": false
  },
  "varInspector": {
   "cols": {
    "lenName": 16,
    "lenType": 16,
    "lenVar": 40
   },
   "kernels_config": {
    "python": {
     "delete_cmd_postfix": "",
     "delete_cmd_prefix": "del ",
     "library": "var_list.py",
     "varRefreshCmd": "print(var_dic_list())"
    },
    "r": {
     "delete_cmd_postfix": ") ",
     "delete_cmd_prefix": "rm(",
     "library": "var_list.r",
     "varRefreshCmd": "cat(var_dic_list()) "
    }
   },
   "types_to_exclude": [
    "module",
    "function",
    "builtin_function_or_method",
    "instance",
    "_Feature"
   ],
   "window_display": false
  },
  "widgets": {
   "state": {},
   "version": "1.1.2"
  }
 },
 "nbformat": 4,
 "nbformat_minor": 1
}