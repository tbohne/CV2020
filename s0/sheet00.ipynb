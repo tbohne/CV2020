{
 "cells": [
  {
   "cell_type": "markdown",
   "metadata": {
    "deletable": false,
    "editable": false,
    "nbgrader": {
     "cell_type": "markdown",
     "checksum": "be568857efc874d61cb20632e5d23037",
     "grade": false,
     "grade_id": "h00",
     "locked": true,
     "schema_version": 3,
     "solution": false
    }
   },
   "source": [
    "Osnabrück University - Computer Vision (Winter Term 2019/20) - Prof. Dr.-Ing. G. Heidemann, Ulf Krumnack, Axel Schaffland"
   ]
  },
  {
   "cell_type": "markdown",
   "metadata": {
    "deletable": false,
    "editable": false,
    "nbgrader": {
     "cell_type": "markdown",
     "checksum": "72e6c38ffd94fdc398bc5635fde16791",
     "grade": false,
     "grade_id": "h01",
     "locked": true,
     "schema_version": 3,
     "solution": false
    }
   },
   "source": [
    "# Exercise Sheet 00: Preparation"
   ]
  },
  {
   "cell_type": "markdown",
   "metadata": {
    "deletable": false,
    "editable": false,
    "nbgrader": {
     "cell_type": "markdown",
     "checksum": "a75eb79165693c869019241ffdbcf311",
     "grade": false,
     "grade_id": "h02",
     "locked": true,
     "schema_version": 3,
     "solution": false
    }
   },
   "source": [
    "## Introduction\n",
    "\n",
    "This is an introductory exercise sheet that shall help you getting started with Python and Jupyter Notebooks, the tools we will use in the practice sessions of the Computer Vision course. This is a preparatory sheet and you are not required to submit your solutions.\n",
    "\n",
    "We encourage you to work through this sheet to make sure you get familiar with this setup and to check if you feel comfortable with reading and understanding the documentation of the software packages.\n",
    "\n",
    "In case of questions, feel free to post them to the forum and/or raise them in the next practice session."
   ]
  },
  {
   "cell_type": "markdown",
   "metadata": {
    "deletable": false,
    "editable": false,
    "nbgrader": {
     "cell_type": "markdown",
     "checksum": "3b44a3343248200dad2dfee400a71ba5",
     "grade": false,
     "grade_id": "ex-setup3",
     "locked": true,
     "schema_version": 3,
     "solution": false
    }
   },
   "source": [
    "## Assignment 0: Check your installation\n",
    "Check that your installation succeeded and all required packages are available by executing the following cell (type <kbd>Ctrl</kbd>+<kbd>&#x23ce;</kbd>, on German keyboards <kbd>Strg</kbd>+<kbd>&#x23ce;</kbd>, or press the \"run cell\"-button at the toolbar above). Seeing no output (no complains) means that your environment seems fine:"
   ]
  },
  {
   "cell_type": "code",
   "execution_count": null,
   "metadata": {},
   "outputs": [],
   "source": [
    "import importlib\n",
    "assert importlib.util.find_spec('numpy') is not None , 'numpy not found'\n",
    "assert importlib.util.find_spec('matplotlib') is not None, 'matplotlib not found'\n",
    "assert importlib.util.find_spec('imageio') is not None , 'imageio not found'\n",
    "assert importlib.util.find_spec('scipy') is not None , 'scipy not found'"
   ]
  },
  {
   "cell_type": "markdown",
   "metadata": {
    "deletable": false,
    "editable": false,
    "nbgrader": {
     "cell_type": "markdown",
     "checksum": "75294156bf8be90b9212d083abd128e3",
     "grade": false,
     "grade_id": "ex-setup-remarks",
     "locked": true,
     "schema_version": 3,
     "solution": false
    }
   },
   "source": [
    "## Remarks:\n",
    "\n",
    "* If you experience any troubles, ask your fellow students or send us an e-mail - we are always happy to help.\n",
    "* If you do not want to use Python to do the exercises, but prefer another programming language, you may ask the tutors if they are willing to support it. However, the practice sessions will focus on Python and will probably not cover other languages."
   ]
  },
  {
   "cell_type": "markdown",
   "metadata": {
    "deletable": false,
    "editable": false,
    "nbgrader": {
     "cell_type": "markdown",
     "checksum": "1ef3a89fe63ed4f961544c020757b8c8",
     "grade": false,
     "grade_id": "cell-e2b9ea6540929a58",
     "locked": true,
     "schema_version": 3,
     "solution": false
    }
   },
   "source": [
    "## Assignment 1: Image I/O\n",
    "\n",
    "`imageio` is a Python library that provides an easy interface to read and write a wide range of image data. The goal of this exercise is to get familiar with different ways of obtaining images for further processing."
   ]
  },
  {
   "cell_type": "markdown",
   "metadata": {
    "deletable": false,
    "editable": false,
    "nbgrader": {
     "cell_type": "markdown",
     "checksum": "ba56f85fdd505f8e7cc55ab60b73dc04",
     "grade": false,
     "grade_id": "cell-dfb47c896b16d37b",
     "locked": true,
     "schema_version": 3,
     "solution": false
    }
   },
   "source": [
    "**a) Example images:** `imageio` provides a number of example images, which can be loaded by the special URI `imageio:`. These include classic 2D images, as well as animated and volumetric images. \n",
    "\n",
    "Find out what other images are provided and how these are represented when loaded as numpy array."
   ]
  },
  {
   "cell_type": "code",
   "execution_count": null,
   "metadata": {
    "deletable": false,
    "nbgrader": {
     "cell_type": "code",
     "checksum": "f19b655148c7c15e51d2cd8cebc1eded",
     "grade": true,
     "grade_id": "cell-4c4e189c29e97763",
     "locked": false,
     "points": 1,
     "schema_version": 3,
     "solution": true
    },
    "tags": []
   },
   "outputs": [],
   "source": [
    "%matplotlib inline\n",
    "import matplotlib.pyplot as plt\n",
    "import imageio\n",
    "import numpy as np\n",
    "\n",
    "# YOUR CODE HERE\n",
    "\n",
    "# https://imageio.readthedocs.io/en/v2.9.0/standardimages.html\n",
    "\n",
    "filename = 'chelsea.png'\n",
    "#filename = 'newtonscradle.gif'\n",
    "# filename = 'bricks.jpg'\n",
    "# filename = 'astronaut.png'\n",
    "# filename = 'stent.npz'\n",
    "\n",
    "im =  imageio.imread('imageio:' + filename)\n",
    "\n",
    "print(\"type of the img:\", type(im))\n",
    "print(\"is an instance of a numpy array:\", isinstance(im, np.ndarray))\n",
    "print(\"it's represented as a\", im.ndim, \"dimensional array\")\n",
    "print(\"shape:\", im.shape)\n",
    "print(\"data type:\", im.dtype)\n",
    "\n",
    "# so, we have a 300x451 pixel image with each pixel having 3 channels (RGB)\n",
    "\n",
    "# average over RGB --> gray scale img\n",
    "for i in range(len(im)):\n",
    "    for j in range(len(im[i])):\n",
    "        im[i][j] = np.mean(im[i][j])\n",
    "\n",
    "# e.g. clear R,G --> only blue\n",
    "#for i in range(len(im)):\n",
    "#    for j in range(len(im[i])):\n",
    "#        im[i][j][0] = 0\n",
    "#        im[i][j][1] = 0\n",
    "\n",
    "plt.figure()\n",
    "plt.title(f\"{filename}: {im.shape}\")\n",
    "plt.imshow(im)\n",
    "plt.show()"
   ]
  },
  {
   "cell_type": "markdown",
   "metadata": {
    "deletable": false,
    "editable": false,
    "nbgrader": {
     "cell_type": "markdown",
     "checksum": "c8b649799026c06303ec34fd4a52b297",
     "grade": false,
     "grade_id": "cell-0dfa25076996bb59",
     "locked": true,
     "schema_version": 3,
     "solution": false
    }
   },
   "source": [
    "**(b) Loading an image from a file**. Usually, you will have to load images from a file. We have uploaded an example image to the StudIP folder along with this exercise sheet. Load that image using the `imageio` library."
   ]
  },
  {
   "cell_type": "code",
   "execution_count": null,
   "metadata": {
    "deletable": false,
    "nbgrader": {
     "cell_type": "code",
     "checksum": "ada7f8dc8c5252bc7b5de9d82d9c9997",
     "grade": true,
     "grade_id": "cell-b9de9ac530ecf609",
     "locked": false,
     "points": 1,
     "schema_version": 3,
     "solution": true
    }
   },
   "outputs": [],
   "source": [
    "%matplotlib inline\n",
    "import matplotlib.pyplot as plt\n",
    "\n",
    "# YOUR CODE HERE\n",
    "im = imageio.imread('example.jpg')\n",
    "\n",
    "plt.figure()\n",
    "plt.title(f\"Image: {im.shape}\")\n",
    "plt.imshow(im)\n",
    "plt.show()"
   ]
  },
  {
   "cell_type": "markdown",
   "metadata": {
    "deletable": false,
    "editable": false,
    "nbgrader": {
     "cell_type": "markdown",
     "checksum": "1d8885ef34b009a074714c6c078d150f",
     "grade": false,
     "grade_id": "cell-d55e25d7535d0978",
     "locked": true,
     "schema_version": 3,
     "solution": false
    }
   },
   "source": [
    "**(c) Download an image from the web**. `imageio` also allows to load images from arbitrary URLs. Download an image from a URL of your choice and display it."
   ]
  },
  {
   "cell_type": "code",
   "execution_count": null,
   "metadata": {
    "deletable": false,
    "nbgrader": {
     "cell_type": "code",
     "checksum": "a7bea60c68d3a38c157ec25fc3492a71",
     "grade": true,
     "grade_id": "cell-5be8094ec03ecc4e",
     "locked": false,
     "points": 1,
     "schema_version": 3,
     "solution": true
    }
   },
   "outputs": [],
   "source": [
    "%matplotlib inline\n",
    "import matplotlib.pyplot as plt\n",
    "import imageio\n",
    "\n",
    "# YOUR CODE HERE\n",
    "im = imageio.imread('http://upload.wikimedia.org/wikipedia/commons/d/de/Wikipedia_Logo_1.0.png')\n",
    "\n",
    "plt.figure()\n",
    "plt.title(f\"Image: {im.shape}\")\n",
    "plt.imshow(im)\n",
    "plt.show()"
   ]
  },
  {
   "cell_type": "markdown",
   "metadata": {
    "deletable": false,
    "editable": false,
    "nbgrader": {
     "cell_type": "markdown",
     "checksum": "a835a8c688f8f09a84df01ee1f10183c",
     "grade": false,
     "grade_id": "cell-8486e2482bc8265b",
     "locked": true,
     "schema_version": 3,
     "solution": false
    }
   },
   "source": [
    "**(d) Storing image as file.** The function `imageio.imsave()` can be used to store images on your harddrive. Mark the head of the cameraman with a rectangle and store the resulting image in a file. Check the saved image with some external program."
   ]
  },
  {
   "cell_type": "code",
   "execution_count": null,
   "metadata": {
    "deletable": false,
    "nbgrader": {
     "cell_type": "code",
     "checksum": "e531f2d7dcd5f90eb49e113e57beadec",
     "grade": true,
     "grade_id": "cell-b38e5d41512dc3c2",
     "locked": false,
     "points": 2,
     "schema_version": 3,
     "solution": true
    }
   },
   "outputs": [],
   "source": [
    "%matplotlib inline\n",
    "import matplotlib.pyplot as plt\n",
    "import imageio\n",
    "\n",
    "im =  imageio.imread('imageio:camera.png')\n",
    "\n",
    "# YOUR CODE HERE\n",
    "\n",
    "# mark head of camera man by slicing\n",
    "im[60:200, [150,280]] = 255\n",
    "im[[60,200], 150:280] = 255\n",
    "\n",
    "imageio.imsave(\"cameraman.png\", im)\n",
    "\n",
    "# (M, N): an image with scalar data. The data is visualized using a colormap.\n",
    "plt.figure(figsize=(12,12))\n",
    "plt.title(f\"Image: {im.shape}\")\n",
    "plt.imshow(im)\n",
    "plt.show()"
   ]
  },
  {
   "cell_type": "markdown",
   "metadata": {
    "deletable": false,
    "editable": false,
    "nbgrader": {
     "cell_type": "markdown",
     "checksum": "c33169c915d717e233b3330ad3f68c29",
     "grade": false,
     "grade_id": "cell-92a05cbfd7ea0add",
     "locked": true,
     "schema_version": 3,
     "solution": false,
     "task": false
    }
   },
   "source": [
    "**(e) Acquire image from webcam (bonus)** `imageio` also allows to acquire images from a webcam. However, accessing the webcam relies on external software and requires that your operating system grants access to the webcam. Try to make the following cell work!"
   ]
  },
  {
   "cell_type": "code",
   "execution_count": null,
   "metadata": {},
   "outputs": [],
   "source": [
    "%matplotlib inline\n",
    "import matplotlib.pyplot as plt\n",
    "import imageio\n",
    "\n",
    "reader = imageio.get_reader('<video0>')\n",
    "im = reader.get_next_data()\n",
    "\n",
    "plt.figure()\n",
    "plt.title(f\"Webcam image: {im.shape}\")\n",
    "plt.imshow(im)\n",
    "plt.show()"
   ]
  },
  {
   "cell_type": "markdown",
   "metadata": {
    "deletable": false,
    "editable": false,
    "nbgrader": {
     "cell_type": "markdown",
     "checksum": "354ef121be48bd2d21f4d83302aa5e83",
     "grade": false,
     "grade_id": "cell-38b7f34be3403b53",
     "locked": true,
     "schema_version": 3,
     "solution": false
    }
   },
   "source": [
    "## Assignment 2: Displaying images\n",
    "In exercises and during the practice sessions, we will make extensive use of `matplotlib`'s `imshow` function for displaying images. Properly understanding the details of how this function works is essential to avoid problems later on. Take a close look at the documentation and then answer the following questions:"
   ]
  },
  {
   "cell_type": "markdown",
   "metadata": {
    "deletable": false,
    "editable": false,
    "nbgrader": {
     "cell_type": "markdown",
     "checksum": "7eae8670f4da9f34b0849f06e5a042c0",
     "grade": false,
     "grade_id": "cell-75af10dfb6197e3d",
     "locked": true,
     "schema_version": 3,
     "solution": false,
     "task": false
    }
   },
   "source": [
    "**(a) Origin:** The default behaviour of `imshow` is to display the origin (the point with coordinates (0,0)) at the upper left corner. How can you change this to the lower left corner (as it is usually done in mathematical contexts when displaying graphs)?"
   ]
  },
  {
   "cell_type": "code",
   "execution_count": null,
   "metadata": {
    "deletable": false,
    "nbgrader": {
     "cell_type": "code",
     "checksum": "82eec79335756bf9548718412274e546",
     "grade": true,
     "grade_id": "cell-859fbd418004678f",
     "locked": false,
     "points": 1,
     "schema_version": 3,
     "solution": true,
     "task": false
    }
   },
   "outputs": [],
   "source": [
    "%matplotlib inline\n",
    "import matplotlib.pyplot as plt\n",
    "import imageio\n",
    "\n",
    "im = imageio.imread(\"imageio:camera.png\")\n",
    "\n",
    "plt.figure()\n",
    "plt.title(f\"shape: {im.shape}\")\n",
    "# YOUR CODE HERE\n",
    "\n",
    "# origin : {'upper', 'lower'}, optional\n",
    "plt.imshow(im, origin='lower')\n",
    "\n",
    "plt.show()"
   ]
  },
  {
   "cell_type": "markdown",
   "metadata": {
    "deletable": false,
    "editable": false,
    "nbgrader": {
     "cell_type": "markdown",
     "checksum": "cc144d4784c3d5949f5c46df7e063f86",
     "grade": false,
     "grade_id": "cell-213eeac484b06e9c",
     "locked": true,
     "schema_version": 3,
     "solution": false
    }
   },
   "source": [
    "**(b) Monochrome images:** When displaying monochrome images (that is 2-dimensional arrays), they will by default not be displayed as grayscale by `imshow` but rather appear yellow-greenish. Explain why this is the case and how you can achieve  grayscale output."
   ]
  },
  {
   "cell_type": "markdown",
   "metadata": {
    "deletable": false,
    "nbgrader": {
     "cell_type": "markdown",
     "checksum": "20fb906d9e21e75da9a9827e516a0887",
     "grade": true,
     "grade_id": "cell-2fc0ab8469dd504b",
     "locked": false,
     "points": 0.5,
     "schema_version": 3,
     "solution": true
    }
   },
   "source": [
    "It's using a default color map. To display it as grayscale, we can use cmap='gray'."
   ]
  },
  {
   "cell_type": "code",
   "execution_count": null,
   "metadata": {
    "deletable": false,
    "nbgrader": {
     "cell_type": "code",
     "checksum": "e6df09f1b365cf1f5d2fe4a4d24ac7bd",
     "grade": true,
     "grade_id": "cell-22b8021c9ab6b152",
     "locked": false,
     "points": 0.5,
     "schema_version": 3,
     "solution": true
    }
   },
   "outputs": [],
   "source": [
    "%matplotlib inline\n",
    "import matplotlib.pyplot as plt\n",
    "import imageio\n",
    "\n",
    "im = imageio.imread(\"imageio:camera.png\")\n",
    "\n",
    "plt.figure()\n",
    "plt.title(f\"shape: {im.shape}\")\n",
    "# YOUR CODE HERE\n",
    "plt.imshow(im, cmap='gray')\n",
    "plt.show()"
   ]
  },
  {
   "cell_type": "markdown",
   "metadata": {
    "deletable": false,
    "editable": false,
    "nbgrader": {
     "cell_type": "markdown",
     "checksum": "a3a0600a7df0ede3f98b31608dfb8c12",
     "grade": false,
     "grade_id": "cell-be882dcd39e9375a",
     "locked": true,
     "schema_version": 3,
     "solution": false
    }
   },
   "source": [
    "**(c) interpolation:** Demonstrate the effect of the `interpolation=` parameter on a small (e.g. $4\\times 4$) image. Discuss in what situations you would use which interpolation technique."
   ]
  },
  {
   "cell_type": "markdown",
   "metadata": {
    "deletable": false,
    "nbgrader": {
     "cell_type": "markdown",
     "checksum": "b79b7ffcbab0cf6d575bf56f5a9f28d2",
     "grade": true,
     "grade_id": "cell-40b940437c4c0ae5",
     "locked": false,
     "points": 1,
     "schema_version": 3,
     "solution": true
    }
   },
   "source": [
    "Interpolation happens anytime you **resize or remap your image from one pixel grid to another**. Image resizing is necessary when you need to increase or decrease the total number of pixels, whereas remapping can occur under a wider variety of scenarios, e.g. changing perspective or rotating an image.\n",
    "\n",
    "Even if the same image resize or remap is performed, the results can vary significantly depending on the interpolation algorithm. Itis only an approximation, therefore an image will always lose some quality each time interpolation is performed.\n",
    "\n",
    "TL;DR: Interpolation is a method of 'generating image content' - always with a loss of sharpness (quality).\n",
    "\n",
    "There are numerous interpolation algorithms, e.g.:\n",
    "- **nearest neighbor**:\n",
    "    - works well when a small image is scaled up\n",
    "    - most basic and requires the least processing time\n",
    "    - simply making each pixel 'bigger'\n",
    "    - only considers one pixel (the closest to the interpolated point)\n",
    "- **bilinear**:\n",
    "    - considers closest 2x2 neighborhood of known pixel values surrounding the unknown pixel\n",
    "    - takes weighted avg of these 4 pixels for interpolation\n",
    "    - results in much smoother looking images than nearest neighbor\n",
    "    - image resampling algorithm\n",
    "- **bicubic**:\n",
    "    - considers closest 4x4 neighborhood of known pixels \n",
    "    - closer pixels are given a higher weighting\n",
    "    - noticeably sharper images than the previous methods (but larger processing times)\n",
    "    - standard in many image editing programs"
   ]
  },
  {
   "cell_type": "code",
   "execution_count": null,
   "metadata": {},
   "outputs": [],
   "source": [
    "%matplotlib inline\n",
    "import numpy as np\n",
    "import matplotlib.pyplot as plt\n",
    "\n",
    "im = np.random.randint(0,16,(4,4))\n",
    "\n",
    "plt.figure(figsize=(12, 12))\n",
    "plt.subplot(1, 4, 1)\n",
    "plt.title('original')\n",
    "plt.imshow(im, interpolation='none')\n",
    "plt.subplot(1, 4, 2)\n",
    "plt.title('nearest')\n",
    "plt.imshow(im, interpolation='nearest')\n",
    "plt.subplot(1, 4, 3)\n",
    "plt.title('bilinear')\n",
    "plt.imshow(im, interpolation='bilinear')\n",
    "plt.subplot(1, 4, 4)\n",
    "plt.title('bicubic')\n",
    "plt.imshow(im, interpolation='bicubic')\n",
    "\n",
    "plt.show()"
   ]
  },
  {
   "cell_type": "markdown",
   "metadata": {
    "deletable": false,
    "editable": false,
    "nbgrader": {
     "cell_type": "markdown",
     "checksum": "81bc15522c63a730094689813dc12ded",
     "grade": false,
     "grade_id": "cell-9f869cf13a972e4d",
     "locked": true,
     "schema_version": 3,
     "solution": false
    }
   },
   "source": [
    "**(d)** Consider the following example: Two images are created, one with values in the range $[0,128[$, the other with values in the range $[0,256[$. Yet both images appear identical when displayed with `imshow`. Explain this effect and what to do to make the first image appear darker."
   ]
  },
  {
   "cell_type": "markdown",
   "metadata": {
    "deletable": false,
    "nbgrader": {
     "cell_type": "markdown",
     "checksum": "2c2550e1e19067cc8f196e352317c165",
     "grade": true,
     "grade_id": "cell-ba0b895740412a54",
     "locked": false,
     "points": 1,
     "schema_version": 3,
     "solution": true
    }
   },
   "source": [
    "`vmin` and `vmax` define the data range that the colormap covers. By default, the colormap covers the complete value range of the supplied data.  \n",
    "By default the colors are mapped onto the given range and therefore identical for both images."
   ]
  },
  {
   "cell_type": "code",
   "execution_count": null,
   "metadata": {},
   "outputs": [],
   "source": [
    "%matplotlib inline\n",
    "import numpy as np\n",
    "import matplotlib.pyplot as plt\n",
    "\n",
    "im1 = np.arange(0,128).reshape(8,16)\n",
    "im2 = np.arange(0,256,2).reshape(8,16)\n",
    "\n",
    "plt.figure(figsize=(12,3))\n",
    "plt.subplot(1,2,1)\n",
    "plt.title(f\"Image1: {im1.min()}-{im1.max()}\")\n",
    "plt.imshow(im1, vmin=0, vmax=255)\n",
    "plt.subplot(1,2,2)\n",
    "plt.title(f\"Image1: {im2.min()}-{im2.max()}\")\n",
    "plt.imshow(im2, vmin=0, vmax=255)\n",
    "plt.show()"
   ]
  },
  {
   "cell_type": "markdown",
   "metadata": {
    "deletable": false,
    "editable": false,
    "nbgrader": {
     "cell_type": "markdown",
     "checksum": "9edf9daaad32840d5a88d357d7af808c",
     "grade": false,
     "grade_id": "cell-3fdf7b0b1dd58f16",
     "locked": true,
     "schema_version": 3,
     "solution": false
    }
   },
   "source": [
    "**(e)** Explain in your own words the effect of the `extent=` parameter. Create a small example demonstrating the effect."
   ]
  },
  {
   "cell_type": "markdown",
   "metadata": {
    "deletable": false,
    "nbgrader": {
     "cell_type": "markdown",
     "checksum": "7f3b4397df5836e6f1421d168ecc6a11",
     "grade": true,
     "grade_id": "cell-3da2b447d11b998c",
     "locked": false,
     "points": 0.5,
     "schema_version": 3,
     "solution": true,
     "task": false
    }
   },
   "source": [
    "The extent defines a bounding box that the image will fill. The image gets stretched along x and y to fill that box.  \n",
    "The default behavior of `plt.imshow()` is to display the array and to keep the pixels square so that the height to width ratio of the output matches the shape of the array."
   ]
  },
  {
   "cell_type": "code",
   "execution_count": null,
   "metadata": {
    "deletable": false,
    "nbgrader": {
     "cell_type": "code",
     "checksum": "976c3d978887722a87d3ffcd7bf02959",
     "grade": true,
     "grade_id": "cell-df27e8647a557b96",
     "locked": false,
     "points": 0.5,
     "schema_version": 3,
     "solution": true,
     "task": false
    }
   },
   "outputs": [],
   "source": [
    "%matplotlib inline\n",
    "import matplotlib.pyplot as plt\n",
    "import imageio\n",
    "\n",
    "im = imageio.imread(\"imageio:camera.png\")\n",
    "\n",
    "plt.figure()\n",
    "plt.title(f\"Image: {im.shape}\")\n",
    "# YOUR CODE HERE\n",
    "\n",
    "# keep ratio\n",
    "# plt.imshow(im,extent=[-2, 2, -2, 2])\n",
    "\n",
    "# changed ratio\n",
    "plt.imshow(im,extent=[-3, 3, -2, 2])\n",
    "\n",
    "plt.show()"
   ]
  }
 ],
 "metadata": {
  "jupytext": {
   "text_representation": {
    "extension": ".Rmd",
    "format_name": "rmarkdown",
    "format_version": "1.2",
    "jupytext_version": "1.6.0"
   }
  },
  "kernelspec": {
   "display_name": "Python 3.8.6 64-bit ('cv': conda)",
   "language": "python",
   "name": "python38664bitcvcondace24c6b5e63f40158ccc45b6baeafab5"
  },
  "language_info": {
   "codemirror_mode": {
    "name": "ipython",
    "version": 3
   },
   "file_extension": ".py",
   "mimetype": "text/x-python",
   "name": "python",
   "nbconvert_exporter": "python",
   "pygments_lexer": "ipython3",
   "version": "3.8.6-final"
  },
  "toc": {
   "base_numbering": 1,
   "nav_menu": {},
   "number_sections": true,
   "sideBar": true,
   "skip_h1_title": false,
   "title_cell": "Table of Contents",
   "title_sidebar": "Contents",
   "toc_cell": false,
   "toc_position": {},
   "toc_section_display": true,
   "toc_window_display": false
  }
 },
 "nbformat": 4,
 "nbformat_minor": 4
}