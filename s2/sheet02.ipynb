{
 "cells": [
  {
   "cell_type": "markdown",
   "metadata": {
    "deletable": false,
    "editable": false,
    "nbgrader": {
     "cell_type": "markdown",
     "checksum": "71319db685bffbe066b3c06ee591e857",
     "grade": false,
     "grade_id": "h00",
     "locked": true,
     "schema_version": 3,
     "solution": false
    }
   },
   "source": [
    "Osnabrück University - Computer Vision (Winter Term 2020/21) - Prof. Dr.-Ing. G. Heidemann, Ulf Krumnack, Axel Schaffland"
   ]
  },
  {
   "cell_type": "markdown",
   "metadata": {
    "deletable": false,
    "editable": false,
    "nbgrader": {
     "cell_type": "markdown",
     "checksum": "16f76d35a25067afb1e6318b01ac98aa",
     "grade": false,
     "grade_id": "h01",
     "locked": true,
     "schema_version": 3,
     "solution": false
    }
   },
   "source": [
    "# Exercise Sheet 02: Image Enhancement"
   ]
  },
  {
   "cell_type": "markdown",
   "metadata": {
    "deletable": false,
    "editable": false,
    "nbgrader": {
     "cell_type": "markdown",
     "checksum": "1f2bf1663f7b125e5ac3d44c5b3f4301",
     "grade": false,
     "grade_id": "h02",
     "locked": true,
     "schema_version": 3,
     "solution": false
    }
   },
   "source": [
    "## Introduction\n",
    "\n",
    "This week's sheet should be solved and handed in before the end of **Saturday, November 14, 2020**. If you need help (and Google and other resources were not enough), feel free to contact your groups' designated tutor or whomever of us you run into first. Please upload your results to your group's Stud.IP folder."
   ]
  },
  {
   "cell_type": "markdown",
   "metadata": {
    "deletable": false,
    "editable": false,
    "nbgrader": {
     "cell_type": "markdown",
     "checksum": "eeb9d331f3071cf6fb14e6b4f7edbfff",
     "grade": false,
     "grade_id": "math-euclid",
     "locked": true,
     "schema_version": 3,
     "solution": false
    }
   },
   "source": [
    "## Assignment 0: Math recap (Euclidean Space) [0 Points]\n",
    "\n",
    "This exercise is supposed to be very easy, does not give any points, and is voluntary.\n",
    "There will be a similar exercise on every following sheet.\n",
    "It is intended to revise some basic mathematical notions that are assumed throughout this class and to allow you to check if you are comfortable with them.\n",
    "Usually you should have no problem to answer these questions offhand, but if you feel unsure, this is a good time to look them up again. You are always welcome to discuss questions with the tutors or in the practice session.\n",
    "Also, if you have a (math) topic you would like to recap, please let us know."
   ]
  },
  {
   "cell_type": "markdown",
   "metadata": {
    "deletable": false,
    "editable": false,
    "nbgrader": {
     "cell_type": "markdown",
     "checksum": "899ac70855dbd336b6edef96c4c1a6f5",
     "grade": false,
     "grade_id": "math-euclid-q1",
     "locked": true,
     "schema_version": 3,
     "solution": false
    }
   },
   "source": [
    "**a)** What is a *Euclidean space*? What is the *Cartesian plane*? How are they usually denoted? How to write points in these spaces?"
   ]
  },
  {
   "cell_type": "markdown",
   "metadata": {
    "collapsed": true,
    "deletable": false,
    "nbgrader": {
     "cell_type": "markdown",
     "checksum": "10da800d32483f0d4bfa9cf43624b3c0",
     "grade": true,
     "grade_id": "math-euclid-a1",
     "locked": false,
     "points": 0,
     "schema_version": 3,
     "solution": true
    },
    "solution": true
   },
   "source": [
    "YOUR ANSWER HERE"
   ]
  },
  {
   "cell_type": "markdown",
   "metadata": {
    "deletable": false,
    "editable": false,
    "nbgrader": {
     "cell_type": "markdown",
     "checksum": "0bf071a4c6d1ff977bcd336eb96d7daa",
     "grade": false,
     "grade_id": "math-euclid-q2",
     "locked": true,
     "schema_version": 3,
     "solution": false
    }
   },
   "source": [
    "**b)** What is the *norm* of a vector in a Euclidean space? How to *add* and *substract* two vectors? How is the *Euclidean distance* defined? Are there other ways to measure distances?"
   ]
  },
  {
   "cell_type": "markdown",
   "metadata": {
    "collapsed": true,
    "deletable": false,
    "nbgrader": {
     "cell_type": "markdown",
     "checksum": "4f95335b2228d0766f6bdbbba83f857d",
     "grade": true,
     "grade_id": "math-euclid-a2",
     "locked": false,
     "points": 0,
     "schema_version": 3,
     "solution": true
    },
    "solution": true
   },
   "source": [
    "YOUR ANSWER HERE"
   ]
  },
  {
   "cell_type": "markdown",
   "metadata": {
    "deletable": false,
    "editable": false,
    "nbgrader": {
     "cell_type": "markdown",
     "checksum": "c7a7304a941a4864f1c0ad2cce2d86b3",
     "grade": false,
     "grade_id": "math-euclid-q3",
     "locked": true,
     "schema_version": 3,
     "solution": false
    }
   },
   "source": [
    "**c)** What is the (standard) *scalar product* of two vectors? How is it related to the length and angle between these vectors? Name some use cases."
   ]
  },
  {
   "cell_type": "markdown",
   "metadata": {
    "collapsed": true,
    "deletable": false,
    "nbgrader": {
     "cell_type": "markdown",
     "checksum": "e5c2f82430f4ba30219c7b0e9a43836d",
     "grade": true,
     "grade_id": "math-euclid-a3",
     "locked": false,
     "points": 0,
     "schema_version": 3,
     "solution": true
    },
    "solution": true
   },
   "source": [
    "YOUR ANSWER HERE"
   ]
  },
  {
   "cell_type": "markdown",
   "metadata": {
    "deletable": false,
    "editable": false,
    "nbgrader": {
     "cell_type": "markdown",
     "checksum": "6a169b1438a0cb36ab74178560ae3fe1",
     "grade": false,
     "grade_id": "contrast-theory",
     "locked": true,
     "schema_version": 3,
     "solution": false
    }
   },
   "source": [
    "## Assignment 1: Contrast enhancement [5 Points]"
   ]
  },
  {
   "cell_type": "markdown",
   "metadata": {
    "deletable": false,
    "editable": false,
    "nbgrader": {
     "cell_type": "markdown",
     "checksum": "432de2b4af8599e5a2cc6e97b8084329",
     "grade": false,
     "grade_id": "contrast-theory-q1",
     "locked": true,
     "schema_version": 3,
     "solution": false
    }
   },
   "source": [
    "### a) Image Contrast\n",
    "\n",
    "Describe the concept of contrast in your own words and introduce different ways to measure it. How can low contrast be caused and when is this a problem (and when not)? What can be done to improve contrast?"
   ]
  },
  {
   "cell_type": "markdown",
   "metadata": {
    "collapsed": true,
    "deletable": false,
    "nbgrader": {
     "cell_type": "markdown",
     "checksum": "dc322f0979cc0bf480a3acb62d086d2b",
     "grade": true,
     "grade_id": "contrast-theory-a1",
     "locked": false,
     "points": 1,
     "schema_version": 3,
     "solution": true
    },
    "solution": "shown"
   },
   "source": [
    "**Contrast** is the difference in color and light between parts of an image that makes objects distinguishable.  \n",
    "We discussed two measures of contrast in the lecture:  \n",
    "- **global contrast**: largest difference of gray values in the image\n",
    "- **local contrast**: e.g. the avg gray value difference of neighboring pixels\n",
    "\n",
    "Low contrast can be caused by underexposure, for example when taking images at dusk, and is often a problem because it can reduce the visibility of objects in the image.  \n",
    "On the other hand, if visibility is not the most important aspect and the focus is a more artistic one, low contrast is not necessarily a bad thing.\n",
    "\n",
    "We discussed several approaches to improve contrast:\n",
    "- maximizing global contrast\n",
    "- improving local contrast (e.g. gamma correction)\n",
    "- maximizing information content (histogram equalization)\n",
    "- pseudo colors (three non-monotonic functions to map gray values to color channels)\n"
   ]
  },
  {
   "cell_type": "markdown",
   "metadata": {
    "deletable": false,
    "editable": false,
    "nbgrader": {
     "cell_type": "markdown",
     "checksum": "15912274071f7216a1391af181c6e8df",
     "grade": false,
     "grade_id": "contrast-theory-q2",
     "locked": true,
     "schema_version": 3,
     "solution": false
    }
   },
   "source": [
    "### b) Histogram equalization and entropy\n",
    "\n",
    "How does histogram equalization work? What is entropy and how is it related to histogram equalization? For your answer focus on the (conceptually simpler) continuous case."
   ]
  },
  {
   "cell_type": "markdown",
   "metadata": {
    "collapsed": true,
    "deletable": false,
    "nbgrader": {
     "cell_type": "markdown",
     "checksum": "428e70db761f6089cc42aba7ac80473d",
     "grade": true,
     "grade_id": "contrast-theory-a2",
     "locked": false,
     "points": 2,
     "schema_version": 3,
     "solution": true
    },
    "solution": "shown"
   },
   "source": [
    "Histogram equalization is basically maximizing the information content $I(e) = -log_n P(e)$ which is a definition that makes information a measurable quantity. It's based on the idea that an optimal image has maximum information content. Therefore, we maximize the entropy $E$ of the image's histogram. The entropy is just the average information content and is defined as\n",
    "$E = - \\sum_{i=1...N} P(e_i) \\cdot log_2 P(e_i)$.\n",
    "\n",
    "The entropy of the image is maximized if $P(g) = const$ for all $g = 0, ..., 255$.\n",
    "\n",
    "To maximize the entropy, we need to apply a transfer function. For continuous histograms with unit norm, it's just $g'(g) = \\int_{0...g} H(w) dw$. "
   ]
  },
  {
   "cell_type": "markdown",
   "metadata": {
    "deletable": false,
    "editable": false,
    "nbgrader": {
     "cell_type": "markdown",
     "checksum": "1d16a863f8a53e7cbefc176a955b169a",
     "grade": false,
     "grade_id": "contrast-theory-q3",
     "locked": true,
     "schema_version": 3,
     "solution": false
    }
   },
   "source": [
    "### c) Discrete histogram equalization\n",
    "\n",
    "What problems occur when considering discrete images (i.e. with discrete coordinates and a finite number of gray levels)? Explain the tables on the lecture slides (CV-04 slides 22/23)."
   ]
  },
  {
   "cell_type": "markdown",
   "metadata": {
    "collapsed": true,
    "deletable": false,
    "nbgrader": {
     "cell_type": "markdown",
     "checksum": "a45bf1ea2c835d4575fd1e558ba55f1a",
     "grade": true,
     "grade_id": "contrast-theory-a3",
     "locked": false,
     "points": 2,
     "schema_version": 3,
     "solution": true
    },
    "solution": "shown"
   },
   "source": [
    "The problem is that the transfer fuction $g'(g)$ from part (b) transforms $g$ to real values which need to be rounded.  \n",
    "We solve this problem by applying an adapted transfer function:  \n",
    "$g'(g) = \\lceil N_g \\cdot \\sum_{w=0, ..., g} H(w) \\rceil - 1$ where $N_g$ is the number of gray values  \n",
    "That approach of course causes the loss of some initial gray values."
   ]
  },
  {
   "cell_type": "markdown",
   "metadata": {
    "deletable": false,
    "editable": false,
    "nbgrader": {
     "cell_type": "markdown",
     "checksum": "47a5f45a1add10207f6b77007312530b",
     "grade": false,
     "grade_id": "contrast-computation",
     "locked": true,
     "schema_version": 3,
     "solution": false
    }
   },
   "source": [
    "## Assignment 2: Computing Contrast and Entropy [5 Points]\n"
   ]
  },
  {
   "cell_type": "markdown",
   "metadata": {
    "deletable": false,
    "editable": false,
    "nbgrader": {
     "cell_type": "markdown",
     "checksum": "ea59e0e200f8230670cbd9f4989c142d",
     "grade": false,
     "grade_id": "contrast-computation-q1",
     "locked": true,
     "schema_version": 3,
     "solution": false
    }
   },
   "source": [
    "### a) Computing contrast\n",
    "\n",
    "Provide functions to compute the local contrast, global contrast, and entropy of an image."
   ]
  },
  {
   "cell_type": "code",
   "execution_count": null,
   "metadata": {
    "deletable": false,
    "nbgrader": {
     "cell_type": "code",
     "checksum": "e92ab6c3fd6d2f6b63065189c14de4db",
     "grade": true,
     "grade_id": "contrast-computation-a1",
     "locked": false,
     "points": 1,
     "schema_version": 3,
     "solution": true
    }
   },
   "outputs": [],
   "source": [
    "%matplotlib inline\n",
    "import numpy as np\n",
    "from imageio import imread\n",
    "import matplotlib.pyplot as plt\n",
    "plt.rcParams['image.cmap'] = 'gray'\n",
    "\n",
    "def global_contrast(img, value_range=None):\n",
    "    \"\"\"\n",
    "    Compute the global contrast for a given image.\n",
    "    Args:\n",
    "        img (ndarray): The grayscale image to compute the contrast for.\n",
    "        value_range (tuple): The minimum and maximum values of the gray scale.\n",
    "    \n",
    "    Returns:\n",
    "        contrast (float): The global contrast of the image. \n",
    "    \"\"\"\n",
    "\n",
    "    # determine range: simplified, just checks for uint8 \n",
    "    if value_range is None:\n",
    "        value_range = (0, 255) if img.dtype == np.uint8 else (0., 1.)\n",
    "\n",
    "    # YOUR CODE HERE\n",
    "    R = value_range[1] - value_range[0]\n",
    "    return (np.max(img) - np.min(img)) / R\n",
    "\n",
    "img = imread('dark.png')\n",
    "plt.title(\"global contrast: {:.4f} (min={}, max={})\".format(global_contrast(img), img.min(), img.max()))\n",
    "plt.imshow(img, vmin=0, vmax=255)\n",
    "plt.show()\n",
    "\n",
    "plt.hist(img.flatten(), 256, (0, 255))\n",
    "plt.title('histogram')\n",
    "plt.show()"
   ]
  },
  {
   "cell_type": "code",
   "execution_count": null,
   "metadata": {
    "deletable": false,
    "nbgrader": {
     "cell_type": "code",
     "checksum": "d7c7e6e6e9eb7cdeffbe6ffc9e09b613",
     "grade": true,
     "grade_id": "contrast-computation-a2",
     "locked": false,
     "points": 1,
     "schema_version": 3,
     "solution": true
    },
    "tags": []
   },
   "outputs": [],
   "source": [
    "%matplotlib inline\n",
    "import numpy as np\n",
    "import matplotlib.pyplot as plt\n",
    "from imageio import imread\n",
    "\n",
    "def local_contrast(img):\n",
    "    \"\"\"\n",
    "    Compute the local contrast for a given image.\n",
    "    Args:\n",
    "        img (ndarray): The grayscale image to compute the contrast for.\n",
    "    \n",
    "    Returns:\n",
    "        contrast (float): The local contrast of the image. \n",
    "    \"\"\"\n",
    "\n",
    "    # YOUR CODE HERE\n",
    "    padded_img = np.pad(img, pad_width=1)\n",
    "\n",
    "    s = 0\n",
    "    for x in range(img.shape[0]):\n",
    "        for y in range(img.shape[1]):\n",
    "            # actually (x +- 1, y) and (x, y+-1), but offset for padding\n",
    "            nbr_sum = padded_img[x][y] + padded_img[x + 2][y] + padded_img[x][y] + padded_img[x][y + 2]\n",
    "            s += abs(img[x][y] - (nbr_sum / 4))\n",
    "    return s / (img.shape[0] * img.shape[1])\n",
    "\n",
    "img = imread('dark.png')\n",
    "plt.title(\"Image local contrast: {:.4f}\".format(local_contrast(img)))\n",
    "plt.imshow(img, vmin=0, vmax=255)\n",
    "plt.show()"
   ]
  },
  {
   "cell_type": "code",
   "execution_count": null,
   "metadata": {
    "deletable": false,
    "nbgrader": {
     "cell_type": "code",
     "checksum": "a99fa3158e97fe0b224c89902bd66b62",
     "grade": true,
     "grade_id": "contrast-computation-a3",
     "locked": false,
     "points": 1,
     "schema_version": 3,
     "solution": true
    },
    "tags": []
   },
   "outputs": [],
   "source": [
    "%matplotlib inline\n",
    "import numpy as np\n",
    "import math\n",
    "from imageio import imread\n",
    "\n",
    "def entropy(img):\n",
    "    \"\"\"\n",
    "    Compute the entropy for a given image.\n",
    "    Args:\n",
    "        img (ndarray): The grayscale image to compute the entropy for.\n",
    "    \n",
    "    Returns:\n",
    "        img_entropy (float): The entropy of the image. \n",
    "    \"\"\"\n",
    "    # YOUR CODE HERE\n",
    "    hist = img.flatten()\n",
    "    entropy = 0\n",
    "    for i in range(256):\n",
    "        counter = np.count_nonzero(hist == i)\n",
    "        prob = counter / (img.shape[0] * img.shape[1])\n",
    "        if prob > 0.0:\n",
    "            entropy += prob * np.log2(prob)\n",
    "    return -entropy\n",
    "\n",
    "img = imread('dark.png')\n",
    "plt.title(\"Image Entropy value: {:.4f}\".format(entropy(img)))\n",
    "plt.imshow(img, vmin=0, vmax=255)\n",
    "plt.show()\n",
    "\n",
    "plt.hist(img.flatten(), 256, (0, 255))\n",
    "plt.show()"
   ]
  },
  {
   "cell_type": "markdown",
   "metadata": {
    "deletable": false,
    "editable": false,
    "nbgrader": {
     "cell_type": "markdown",
     "checksum": "f13e1058f565a1975f6482d38a5898da",
     "grade": false,
     "grade_id": "contrast-computation-q4",
     "locked": true,
     "schema_version": 3,
     "solution": false
    }
   },
   "source": [
    "### b) Example images\n",
    "\n",
    "* construct an (artificial) image with high global contrast but low local contrast\n",
    "* construct an (artificial) image with low global constrast but high local contrast\n",
    "* construct an (artificial) image with maximal entropy but low local contrast"
   ]
  },
  {
   "cell_type": "code",
   "execution_count": null,
   "metadata": {
    "deletable": false,
    "nbgrader": {
     "cell_type": "code",
     "checksum": "ff2aca8f0aa7ecca5b10b09b3640dee4",
     "grade": true,
     "grade_id": "contrast-computation-a4",
     "locked": false,
     "points": 2,
     "schema_version": 3,
     "solution": true
    },
    "tags": []
   },
   "outputs": [],
   "source": [
    "%matplotlib inline\n",
    "import numpy as np\n",
    "import matplotlib.pyplot as plt\n",
    "\n",
    "def image_info(img):\n",
    "    \"\"\" Displays an image, local and global contrast, and the entropy\n",
    "    \n",
    "    Args:\n",
    "        img (ndarray): Image which is displayed and statics are computed for.\n",
    "        \n",
    "    \"\"\"\n",
    "    info = \"global contrast: {:.4f}, local contrast: {:.4f}, entropy: {:.4f}\"\n",
    "    plt.title(info.format(global_contrast(img), local_contrast(img), entropy(img)))\n",
    "    plt.imshow(img, vmin=0, vmax=255)\n",
    "    plt.show()\n",
    "\n",
    "\n",
    "img1 = np.zeros((256, 256),np.uint8)\n",
    "# YOUR CODE HERE\n",
    "# high global, low local --> single white pixel\n",
    "img1[42][42] = 255\n",
    "image_info(img1)\n",
    "\n",
    "img2 = np.zeros((256, 256),np.uint8)\n",
    "# YOUR CODE HERE\n",
    "# low global, high local\n",
    "for i in range(0, img2.shape[0]):\n",
    "    for j in range(0, img2.shape[1]):\n",
    "        img2[i][j] = 70\n",
    "        \n",
    "image_info(img2)\n",
    "\n",
    "\n",
    "img3 = np.zeros((256, 256),np.uint8)\n",
    "# YOUR CODE HERE\n",
    "# maximal entropy but low local contrast\n",
    "image_info(img3)"
   ]
  },
  {
   "cell_type": "markdown",
   "metadata": {
    "deletable": false,
    "editable": false,
    "nbgrader": {
     "cell_type": "markdown",
     "checksum": "9397a0e0e7f42ddfafade2e4d777d644",
     "grade": false,
     "grade_id": "ahe",
     "locked": true,
     "schema_version": 3,
     "solution": false
    }
   },
   "source": [
    "## Assignment 3: Adaptive Histogram Equalization (AHE) [5 Points]\n",
    "\n",
    "We have uploaded the original article on Contrast Limited Adaptive Histogram Equalization to StudIP [Zuiderveld, 1994]. You may use it as a base to answer this exercise."
   ]
  },
  {
   "cell_type": "markdown",
   "metadata": {
    "deletable": false,
    "editable": false,
    "nbgrader": {
     "cell_type": "markdown",
     "checksum": "4833d1589559a19682487c5397dcd670",
     "grade": false,
     "grade_id": "ahe-q1",
     "locked": true,
     "schema_version": 3,
     "solution": false
    }
   },
   "source": [
    "### a) Adaptive Histogram Equalization (AHE)\n",
    "\n",
    "Describe in your own words the idea of AHE. Why was it introduced and what are its main drawbacks?"
   ]
  },
  {
   "cell_type": "markdown",
   "metadata": {
    "deletable": false,
    "nbgrader": {
     "cell_type": "markdown",
     "checksum": "350529ef8cb3dbbe04a562964d46f872",
     "grade": true,
     "grade_id": "ahe-a1",
     "locked": false,
     "points": 1,
     "schema_version": 3,
     "solution": true
    }
   },
   "source": [
    "YOUR ANSWER HERE"
   ]
  },
  {
   "cell_type": "markdown",
   "metadata": {
    "deletable": false,
    "editable": false,
    "nbgrader": {
     "cell_type": "markdown",
     "checksum": "300d7b5e1f3bc1be5b49458680459906",
     "grade": false,
     "grade_id": "ahe-q2",
     "locked": true,
     "schema_version": 3,
     "solution": false
    }
   },
   "source": [
    "### b) Contrast Limited Adaptive Histogram Equalization (CLAHE)\n",
    "\n",
    "Describe in your own words the idea of CLAHE. Why was it introduced and how does it work? "
   ]
  },
  {
   "cell_type": "markdown",
   "metadata": {
    "deletable": false,
    "nbgrader": {
     "cell_type": "markdown",
     "checksum": "c7e62e4c1fff72d9abca41b895654cf5",
     "grade": true,
     "grade_id": "ahe-a2",
     "locked": false,
     "points": 1,
     "schema_version": 3,
     "solution": true
    }
   },
   "source": [
    "YOUR ANSWER HERE"
   ]
  },
  {
   "cell_type": "markdown",
   "metadata": {
    "deletable": false,
    "editable": false,
    "nbgrader": {
     "cell_type": "markdown",
     "checksum": "0ef3c59fede4acd38f3506cede5b1069",
     "grade": false,
     "grade_id": "ahe-q3",
     "locked": true,
     "schema_version": 3,
     "solution": false
    }
   },
   "source": [
    "### c) Computation of AHE\n",
    "\n",
    "How can AHE be implemented efficiently? Explain how the interpolation scheme works, why it is a valid approximation, and why it improves the runtime? Can you think of another way to compute AHE efficiently?"
   ]
  },
  {
   "cell_type": "markdown",
   "metadata": {
    "deletable": false,
    "nbgrader": {
     "cell_type": "markdown",
     "checksum": "84045a18e8f541702f701ed97dd4cfc8",
     "grade": true,
     "grade_id": "ahe-a3",
     "locked": false,
     "points": 2,
     "schema_version": 3,
     "solution": true
    }
   },
   "source": [
    "YOUR ANSWER HERE"
   ]
  },
  {
   "cell_type": "markdown",
   "metadata": {
    "deletable": false,
    "editable": false,
    "nbgrader": {
     "cell_type": "markdown",
     "checksum": "25b1b8ac0335a204d09e67ed5a0b31c9",
     "grade": false,
     "grade_id": "ahe-q4",
     "locked": true,
     "schema_version": 3,
     "solution": false
    }
   },
   "source": [
    "### d) Applying AHE and CLAHE\n",
    "\n",
    "Lookup functions for computing HE, AHE and CLAHE in the module `skimage.exposure` and apply them to the image `canada.png`. Compare your results to the lecture slides (CV-04, slide 31)."
   ]
  },
  {
   "cell_type": "code",
   "execution_count": null,
   "metadata": {
    "deletable": false,
    "nbgrader": {
     "cell_type": "code",
     "checksum": "a33360704fedee9c735c1e02bf67c604",
     "grade": true,
     "grade_id": "ahe-a4",
     "locked": false,
     "points": 1,
     "schema_version": 3,
     "solution": true
    }
   },
   "outputs": [],
   "source": [
    "%matplotlib inline\n",
    "# YOUR CODE HERE\n",
    "from imageio import imread\n",
    "import matplotlib.pyplot as plt\n",
    "\n",
    "img = imread('images/canada.png', pilmode='L')\n",
    "\n",
    "img_he = img # CHANGE THIS\n",
    "img_ahe = img # CHANGE THIS\n",
    "img_clahe = img # CHANGE THIS\n",
    "# YOUR CODE HERE\n",
    "\n",
    "plt.figure(figsize=(12, 15))\n",
    "plt.subplot(4,2,1)\n",
    "plt.title(\"Original Image\")\n",
    "plt.imshow(img)\n",
    "plt.subplot(4,2,2)\n",
    "plt.title(\"entropy={:.4f}\".format(entropy(img)))\n",
    "plt.hist(img.flatten(), 256, (0, 255))\n",
    "\n",
    "plt.subplot(4,2,3)\n",
    "plt.title(\"HE\")\n",
    "plt.imshow(img_he)\n",
    "plt.subplot(4,2,4)\n",
    "plt.title(\"entropy={:.4f}\".format(entropy(img_he)))\n",
    "plt.hist(img_he.flatten(), 256, (0, 1))\n",
    "\n",
    "plt.subplot(4,2,5)\n",
    "plt.title(\"AHE\")\n",
    "plt.imshow(img_ahe)\n",
    "plt.subplot(4,2,6)\n",
    "plt.title(\"entropy={:.4f}\".format(entropy(img_ahe)))\n",
    "plt.hist(img_ahe.flatten(), 256, (0, 1))\n",
    "\n",
    "plt.subplot(4,2,7)\n",
    "plt.title(\"CLAHE\")\n",
    "plt.imshow(img_clahe)\n",
    "plt.subplot(4,2,8)\n",
    "plt.title(\"entropy={:.4f}\".format(entropy(img_clahe)))\n",
    "plt.hist(img_clahe.flatten(), 256, (0, 1))\n",
    "\n",
    "plt.show()"
   ]
  },
  {
   "cell_type": "markdown",
   "metadata": {
    "deletable": false,
    "editable": false,
    "nbgrader": {
     "cell_type": "markdown",
     "checksum": "215130fe8edb20473547440c39bfa64f",
     "grade": false,
     "grade_id": "cell-09e6844b0fbe4157",
     "locked": true,
     "schema_version": 3,
     "solution": false
    }
   },
   "source": [
    "## Assignment 4: Colormaps[5 Points]\n",
    "\n",
    "Colormaps can be used to map a grayscale image to a pseudo color image for contrast enhancment for human viewing. Three non-monotonic functions are applied to map a gray value to each of the three color channels of the output image.\n"
   ]
  },
  {
   "cell_type": "markdown",
   "metadata": {
    "deletable": false,
    "editable": false,
    "nbgrader": {
     "cell_type": "markdown",
     "checksum": "8ffe944924354ad183734e88cbf60d07",
     "grade": false,
     "grade_id": "cell-34220895465157fd",
     "locked": true,
     "schema_version": 3,
     "solution": false
    }
   },
   "source": [
    "### a) Describe the following three colormap classes in one sentence each:\n",
    "\n",
    "* Sequential\n",
    "* Diverging\n",
    "* Qualitative\n",
    "\n",
    "You may have a look at the matplotlib documentation."
   ]
  },
  {
   "cell_type": "markdown",
   "metadata": {
    "deletable": false,
    "nbgrader": {
     "cell_type": "markdown",
     "checksum": "6802eec29fe0f67ca0f93306ea9ba6ee",
     "grade": true,
     "grade_id": "cell-1417a9c18627ceb3",
     "locked": false,
     "points": 1.5,
     "schema_version": 3,
     "solution": true
    }
   },
   "source": [
    "YOUR ANSWER HERE"
   ]
  },
  {
   "cell_type": "markdown",
   "metadata": {
    "deletable": false,
    "editable": false,
    "nbgrader": {
     "cell_type": "markdown",
     "checksum": "e12bbada13684105b892346e297e3e5f",
     "grade": false,
     "grade_id": "cell-8bf315d36d8c9d90",
     "locked": true,
     "schema_version": 3,
     "solution": false
    }
   },
   "source": [
    "For each of the above colormap classes give one example and display the red, green, and blue curves like on (CV-04, slide 35):"
   ]
  },
  {
   "cell_type": "code",
   "execution_count": null,
   "metadata": {
    "deletable": false,
    "nbgrader": {
     "cell_type": "code",
     "checksum": "ade6077be893ee46dd13aab9f4870131",
     "grade": true,
     "grade_id": "cell-3ed2522128754c63",
     "locked": false,
     "points": 1.5,
     "schema_version": 3,
     "solution": true
    }
   },
   "outputs": [],
   "source": [
    "%matplotlib inline\n",
    "import numpy as np\n",
    "import matplotlib.pyplot as plt\n",
    "import math\n",
    "\n",
    "color = []\n",
    "\n",
    "# The following is just for demonstration: replace and extend by your own examples\n",
    "color.append(np.asarray((lambda x: np.sin(x/256*2*np.pi)*128+128, \n",
    "              lambda x: (x//16) * 16,\n",
    "              lambda x: (2*x) % 256)))\n",
    "# YOUR CODE HERE\n",
    "\n",
    "gray = np.arange(0,256)\n",
    "a = np.tile(np.arange(256),(256,1))\n",
    "\n",
    "plt.figure(figsize=(12,12))\n",
    "for i in range(len(color)):\n",
    "    plt.subplot((len(color)//2)+1,2,i+1)\n",
    "    plt.plot(gray, color[i][0](gray), 'red')\n",
    "    plt.plot(gray, color[i][1](gray), 'green')\n",
    "    plt.plot(gray, color[i][2](gray), 'blue')\n",
    "    plt.imshow(np.stack([color[i][0](a),color[i][1](a),color[i][2](a)],axis=2)/256, origin='lower')\n",
    "plt.show()"
   ]
  },
  {
   "cell_type": "markdown",
   "metadata": {
    "deletable": false,
    "editable": false,
    "nbgrader": {
     "cell_type": "markdown",
     "checksum": "cc0a122123894bc040de50c1210ac74b",
     "grade": false,
     "grade_id": "cell-843941a0c5389bbc",
     "locked": true,
     "schema_version": 3,
     "solution": false
    }
   },
   "source": [
    "### b) Implement Cube Helix colormapping \n",
    "Generate a LookUp table with $256 \\times 3$ entries describing the color values for all gray values beginning with black (0) up to white (255). Use the given parameters and use the following formula to compute an RGB value from a gray value $g$:\n",
    "$$ \\begin{pmatrix}R \\\\ G \\\\ B\\end{pmatrix} =  g ^ \\gamma + a \\begin{pmatrix}0.14861 & + 1.78277 \\\\\n",
    "-0.29227 & -0.90649 \\\\ +1.97294 & 0\\end{pmatrix} \\begin{pmatrix}\\cos \\theta \\\\ \\sin \\theta\\end{pmatrix}$$\n",
    "with $\\theta = 2 \\pi (\\frac{\\text{start_color }}{3} + \\text{rotations}\\cdot g)$ and $ a = \\frac{\\gamma\\cdot\\text{hue}\\cdot g\\cdot( 1 - \\gamma g)}{2}$ (with 'start_color', 'rotations' and 'hue' being parameters describing the form of the helix, and $\\gamma$ being the usual $\\gamma$-factor).\n",
    "\n",
    "Remember that this formula is for values between $0$ and $1$.\n",
    "For more information you may refer to http://astron-soc.in/bulletin/11June/289392011.pdf"
   ]
  },
  {
   "cell_type": "code",
   "execution_count": null,
   "metadata": {
    "deletable": false,
    "nbgrader": {
     "cell_type": "code",
     "checksum": "1c22d9fa5995c561f112990bb60370ac",
     "grade": true,
     "grade_id": "cell-54c16bafb9c032c8",
     "locked": false,
     "points": 2,
     "schema_version": 3,
     "solution": true
    }
   },
   "outputs": [],
   "source": [
    "%matplotlib inline\n",
    "import numpy as np\n",
    "from imageio import imread\n",
    "import matplotlib.pyplot as plt\n",
    "\n",
    "start_color = 1\n",
    "rotations = 3\n",
    "hue = 2\n",
    "gamma = 1\n",
    "m = np.mat([[-.14861, 1.78277],\n",
    "            [-.29227, -.90649],\n",
    "            [1.97294, 0]])\n",
    "\n",
    "def generate_cube_helix_lookup_table():\n",
    "    \"\"\"Generate a lookup table for cube helix color mapping.\n",
    "    \n",
    "    Return: \n",
    "        lookup_table (ndarray): The cube helix color map. (256,3)\n",
    "    \"\"\"\n",
    "    lookup_table = np.empty((256,3), float)\n",
    "    \n",
    "    for i in np.arange(256):\n",
    "        # YOUR CODE HERE\n",
    "    return lookup_table\n",
    "\n",
    "\n",
    "def apply_colormap(img, loookup_table):\n",
    "    \"\"\"Apply a colormap to an image\n",
    "    \n",
    "    Args:\n",
    "        img (ndarray): The image (ndim=2).\n",
    "        lookup_table (ndarray): The lookup table (shape=(256,3)).\n",
    "        \n",
    "    Return:\n",
    "        color_img (ndarray): The color image resulting from application of the colormap.\n",
    "    \"\"\"\n",
    "    color_img = loookup_table[img]\n",
    "    color_img[color_img>1] = 1.\n",
    "    color_img[color_img<0] = 0.\n",
    "    return color_img\n",
    "\n",
    "img = imread('images/lung.png', pilmode='L')\n",
    "lookup_table = generate_cube_helix_lookup_table()\n",
    "img2 = apply_colormap(img, lookup_table)\n",
    "\n",
    "plt.figure(figsize=(20,10))\n",
    "plt.subplot(1,2,1); plt.imshow(img, cmap = 'gray'); plt.axis('off')\n",
    "plt.subplot(1,2,2); plt.imshow(img2); plt.axis('off')\n",
    "plt.show()"
   ]
  },
  {
   "cell_type": "markdown",
   "metadata": {
    "deletable": false,
    "editable": false,
    "nbgrader": {
     "cell_type": "markdown",
     "checksum": "8372feb90034365d928df026a5e827c5",
     "grade": false,
     "grade_id": "cell-ded9fdb266f368d9",
     "locked": true,
     "schema_version": 3,
     "solution": false
    }
   },
   "source": [
    "### Jet Colormap [Bonus]\n",
    "\n",
    "Explain why the Jet Colormap (used, for example, as standard colormap in matlab), is problematic compared to Cube Helix. Think of perceived luminance and black and white printing."
   ]
  },
  {
   "cell_type": "code",
   "execution_count": null,
   "metadata": {
    "deletable": false,
    "editable": false,
    "nbgrader": {
     "cell_type": "code",
     "checksum": "14a97ae5f39cfdfb90c0975e8f777edc",
     "grade": false,
     "grade_id": "cell-23b13d50c5999752",
     "locked": true,
     "schema_version": 3,
     "solution": false,
     "task": false
    }
   },
   "outputs": [],
   "source": [
    "# This code was taken from \n",
    "# https://jakevdp.github.io/blog/2014/10/16/how-bad-is-your-colormap/\n",
    "\n",
    "def grayify_cmap(cmap):\n",
    "    \"\"\"Return a grayscale version of the colormap\n",
    "    \n",
    "    Args:\n",
    "        cmap (ndarray): RGB Colormap.\n",
    "    \n",
    "    Returns:\n",
    "        (ndarray): Gray Colormap.\n",
    "    \n",
    "    \"\"\"\n",
    "    cmap = plt.cm.get_cmap(cmap)\n",
    "    colors = cmap(np.arange(cmap.N))\n",
    "    \n",
    "    # convert RGBA to perceived greyscale luminance\n",
    "    # cf. http://alienryderflex.com/hsp.html\n",
    "    RGB_weight = [0.299, 0.587, 0.114]\n",
    "    luminance = np.sqrt(np.dot(colors[:, :3] ** 2, RGB_weight))\n",
    "    colors[:, :3] = luminance[:, np.newaxis]\n",
    "    \n",
    "    return cmap.from_list(cmap.name + \"_grayscale\", colors, cmap.N)\n",
    "\n",
    "def show_colormap(cmap):\n",
    "    \"\"\"Plots RGB colormap and grayified colormap\n",
    "    \n",
    "    Args: \n",
    "        cmap (ndarray): Colormap.\n",
    "    \n",
    "    \"\"\"\n",
    "    im = np.outer(np.ones(10), np.arange(100))\n",
    "    fig, ax = plt.subplots(2, figsize=(6, 1.5),\n",
    "                           subplot_kw=dict(xticks=[], yticks=[]))\n",
    "    fig.subplots_adjust(hspace=0.1)\n",
    "    ax[0].imshow(im, cmap=cmap)\n",
    "    ax[1].imshow(im, cmap=grayify_cmap(cmap))\n",
    "    \n",
    "# printing the jet colormap and how it would look like if printed black and white\n",
    "show_colormap('jet')\n",
    "\n",
    "# doing the same for cube helix\n",
    "show_colormap('cubehelix')\n"
   ]
  },
  {
   "cell_type": "markdown",
   "metadata": {
    "deletable": false,
    "nbgrader": {
     "cell_type": "markdown",
     "checksum": "5a21e94c4611a9a5313c963777e6be43",
     "grade": true,
     "grade_id": "cell-f74443c5ab551eb2",
     "locked": false,
     "points": 0,
     "schema_version": 3,
     "solution": true,
     "task": false
    }
   },
   "source": [
    "YOUR ANSWER HERE"
   ]
  }
 ],
 "metadata": {
  "anaconda-cloud": {},
  "kernelspec": {
   "display_name": "Python 3.8.6 64-bit ('cv': conda)",
   "language": "python",
   "name": "python38664bitcvcondace24c6b5e63f40158ccc45b6baeafab5"
  },
  "language_info": {
   "codemirror_mode": {
    "name": "ipython",
    "version": 3
   },
   "file_extension": ".py",
   "mimetype": "text/x-python",
   "name": "python",
   "nbconvert_exporter": "python",
   "pygments_lexer": "ipython3",
   "version": "3.8.6-final"
  },
  "toc": {
   "base_numbering": 1,
   "nav_menu": {},
   "number_sections": false,
   "sideBar": true,
   "skip_h1_title": false,
   "title_cell": "Table of Contents",
   "title_sidebar": "Contents",
   "toc_cell": false,
   "toc_position": {},
   "toc_section_display": "block",
   "toc_window_display": true
  },
  "varInspector": {
   "cols": {
    "lenName": 16,
    "lenType": 16,
    "lenVar": 40
   },
   "kernels_config": {
    "python": {
     "delete_cmd_postfix": "",
     "delete_cmd_prefix": "del ",
     "library": "var_list.py",
     "varRefreshCmd": "print(var_dic_list())"
    },
    "r": {
     "delete_cmd_postfix": ") ",
     "delete_cmd_prefix": "rm(",
     "library": "var_list.r",
     "varRefreshCmd": "cat(var_dic_list()) "
    }
   },
   "types_to_exclude": [
    "module",
    "function",
    "builtin_function_or_method",
    "instance",
    "_Feature"
   ],
   "window_display": false
  },
  "widgets": {
   "state": {},
   "version": "1.1.2"
  }
 },
 "nbformat": 4,
 "nbformat_minor": 1
}